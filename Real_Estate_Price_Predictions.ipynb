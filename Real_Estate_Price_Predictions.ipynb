{
  "nbformat": 4,
  "nbformat_minor": 0,
  "metadata": {
    "colab": {
      "provenance": [],
      "authorship_tag": "ABX9TyN25ij7ulaGdIbSZwZ4QcHv"
    },
    "kernelspec": {
      "name": "python3",
      "display_name": "Python 3"
    },
    "language_info": {
      "name": "python"
    }
  },
  "cells": [
    {
      "cell_type": "markdown",
      "source": [
        "#Könyvtárak"
      ],
      "metadata": {
        "id": "uauB-TSjA1eq"
      }
    },
    {
      "cell_type": "code",
      "execution_count": null,
      "metadata": {
        "id": "YMrPP-ZdArBn"
      },
      "outputs": [],
      "source": [
        "import pandas as pd\n",
        "import numpy as np\n",
        "import seaborn as sns\n",
        "import matplotlib.pyplot as plt\n",
        "from sklearn.linear_model import LinearRegression\n",
        "from sklearn.ensemble import GradientBoostingRegressor\n",
        "from sklearn.model_selection import train_test_split\n",
        "from sklearn.model_selection import cross_validate\n",
        "from sklearn.metrics import make_scorer\n",
        "%matplotlib inline"
      ]
    },
    {
      "cell_type": "code",
      "source": [
        "from google.colab.data_table import DataTable\n",
        "DataTable.max_columns = 100\n",
        "DataTable.max_rows = 200000"
      ],
      "metadata": {
        "id": "8_Aoj9AfEtv7"
      },
      "execution_count": null,
      "outputs": []
    },
    {
      "cell_type": "markdown",
      "source": [
        "##Adatbeolvasás"
      ],
      "metadata": {
        "id": "dx5mz0-xA_EI"
      }
    },
    {
      "cell_type": "code",
      "source": [
        "df = pd.read_csv('/content/DataSet_Ingatlan_RowData.csv')\n",
        "pd.set_option('display.max_columns', None)"
      ],
      "metadata": {
        "id": "jqDQdBY0A-mb"
      },
      "execution_count": null,
      "outputs": []
    },
    {
      "cell_type": "code",
      "source": [
        "df.head()"
      ],
      "metadata": {
        "colab": {
          "base_uri": "https://localhost:8080/",
          "height": 348
        },
        "id": "0OH-Rz3BPdTv",
        "outputId": "35224a42-8ba8-432f-8ec7-1ba070899df3"
      },
      "execution_count": null,
      "outputs": [
        {
          "output_type": "execute_result",
          "data": {
            "text/plain": [
              "     county           city  district  postcode property_type  \\\n",
              "0  Budapest   Budapest IV.       4.0       NaN          flat   \n",
              "1  Budapest  Budapest XIV.      14.0    1147.0          flat   \n",
              "2  Budapest  Budapest XIV.      14.0       NaN          flat   \n",
              "3  Budapest   Budapest II.       2.0    1024.0          flat   \n",
              "4  Budapest  Budapest XII.      12.0    1126.0          flat   \n",
              "\n",
              "                      property_subtype property_condition_type property_floor  \\\n",
              "0  prefabricated panel flat (for sale)                    good              3   \n",
              "1                brick flat (for sale)                   novel   ground floor   \n",
              "2                brick flat (for sale)                  medium              4   \n",
              "3                brick flat (for sale)                   novel       basement   \n",
              "4                brick flat (for sale)                    good   ground floor   \n",
              "\n",
              "  building_floor_count    view_type orientation garden_access  \\\n",
              "0                   10  garden view        east           NaN   \n",
              "1                  NaN          NaN         NaN           NaN   \n",
              "2                  NaN          NaN         NaN           NaN   \n",
              "3                  NaN  street view         NaN           NaN   \n",
              "4                  NaN  garden view         NaN           NaN   \n",
              "\n",
              "                         heating_type elevator_type  room_cnt  small_room_cnt  \\\n",
              "0                                 NaN           yes       1.0             1.0   \n",
              "1  gas furnace, circulating hot water           NaN       1.0             0.0   \n",
              "2               konvection gas burner           NaN       2.0             0.0   \n",
              "3               konvection gas burner           yes       1.0             1.0   \n",
              "4  gas furnace, circulating hot water          none       1.0             2.0   \n",
              "\n",
              "   created_at  property_area  balcony_area  price_created_at  ad_view_cnt  \\\n",
              "0  2015-02-09           35.0           0.0               9.5        702.0   \n",
              "1  2015-02-09           35.0           0.0              11.2         42.0   \n",
              "2  2015-02-09           50.0           0.0              14.5        504.0   \n",
              "3  2015-02-09           50.0           0.0              15.3         39.0   \n",
              "4  2015-02-09           50.0           0.0              17.9        114.0   \n",
              "\n",
              "   active_days  \n",
              "0         23.0  \n",
              "1          6.0  \n",
              "2         96.0  \n",
              "3          1.0  \n",
              "4         27.0  "
            ],
            "text/html": [
              "\n",
              "  <div id=\"df-5df3b696-9f0c-4d74-b031-fce96b3634cf\" class=\"colab-df-container\">\n",
              "    <div>\n",
              "<style scoped>\n",
              "    .dataframe tbody tr th:only-of-type {\n",
              "        vertical-align: middle;\n",
              "    }\n",
              "\n",
              "    .dataframe tbody tr th {\n",
              "        vertical-align: top;\n",
              "    }\n",
              "\n",
              "    .dataframe thead th {\n",
              "        text-align: right;\n",
              "    }\n",
              "</style>\n",
              "<table border=\"1\" class=\"dataframe\">\n",
              "  <thead>\n",
              "    <tr style=\"text-align: right;\">\n",
              "      <th></th>\n",
              "      <th>county</th>\n",
              "      <th>city</th>\n",
              "      <th>district</th>\n",
              "      <th>postcode</th>\n",
              "      <th>property_type</th>\n",
              "      <th>property_subtype</th>\n",
              "      <th>property_condition_type</th>\n",
              "      <th>property_floor</th>\n",
              "      <th>building_floor_count</th>\n",
              "      <th>view_type</th>\n",
              "      <th>orientation</th>\n",
              "      <th>garden_access</th>\n",
              "      <th>heating_type</th>\n",
              "      <th>elevator_type</th>\n",
              "      <th>room_cnt</th>\n",
              "      <th>small_room_cnt</th>\n",
              "      <th>created_at</th>\n",
              "      <th>property_area</th>\n",
              "      <th>balcony_area</th>\n",
              "      <th>price_created_at</th>\n",
              "      <th>ad_view_cnt</th>\n",
              "      <th>active_days</th>\n",
              "    </tr>\n",
              "  </thead>\n",
              "  <tbody>\n",
              "    <tr>\n",
              "      <th>0</th>\n",
              "      <td>Budapest</td>\n",
              "      <td>Budapest IV.</td>\n",
              "      <td>4.0</td>\n",
              "      <td>NaN</td>\n",
              "      <td>flat</td>\n",
              "      <td>prefabricated panel flat (for sale)</td>\n",
              "      <td>good</td>\n",
              "      <td>3</td>\n",
              "      <td>10</td>\n",
              "      <td>garden view</td>\n",
              "      <td>east</td>\n",
              "      <td>NaN</td>\n",
              "      <td>NaN</td>\n",
              "      <td>yes</td>\n",
              "      <td>1.0</td>\n",
              "      <td>1.0</td>\n",
              "      <td>2015-02-09</td>\n",
              "      <td>35.0</td>\n",
              "      <td>0.0</td>\n",
              "      <td>9.5</td>\n",
              "      <td>702.0</td>\n",
              "      <td>23.0</td>\n",
              "    </tr>\n",
              "    <tr>\n",
              "      <th>1</th>\n",
              "      <td>Budapest</td>\n",
              "      <td>Budapest XIV.</td>\n",
              "      <td>14.0</td>\n",
              "      <td>1147.0</td>\n",
              "      <td>flat</td>\n",
              "      <td>brick flat (for sale)</td>\n",
              "      <td>novel</td>\n",
              "      <td>ground floor</td>\n",
              "      <td>NaN</td>\n",
              "      <td>NaN</td>\n",
              "      <td>NaN</td>\n",
              "      <td>NaN</td>\n",
              "      <td>gas furnace, circulating hot water</td>\n",
              "      <td>NaN</td>\n",
              "      <td>1.0</td>\n",
              "      <td>0.0</td>\n",
              "      <td>2015-02-09</td>\n",
              "      <td>35.0</td>\n",
              "      <td>0.0</td>\n",
              "      <td>11.2</td>\n",
              "      <td>42.0</td>\n",
              "      <td>6.0</td>\n",
              "    </tr>\n",
              "    <tr>\n",
              "      <th>2</th>\n",
              "      <td>Budapest</td>\n",
              "      <td>Budapest XIV.</td>\n",
              "      <td>14.0</td>\n",
              "      <td>NaN</td>\n",
              "      <td>flat</td>\n",
              "      <td>brick flat (for sale)</td>\n",
              "      <td>medium</td>\n",
              "      <td>4</td>\n",
              "      <td>NaN</td>\n",
              "      <td>NaN</td>\n",
              "      <td>NaN</td>\n",
              "      <td>NaN</td>\n",
              "      <td>konvection gas burner</td>\n",
              "      <td>NaN</td>\n",
              "      <td>2.0</td>\n",
              "      <td>0.0</td>\n",
              "      <td>2015-02-09</td>\n",
              "      <td>50.0</td>\n",
              "      <td>0.0</td>\n",
              "      <td>14.5</td>\n",
              "      <td>504.0</td>\n",
              "      <td>96.0</td>\n",
              "    </tr>\n",
              "    <tr>\n",
              "      <th>3</th>\n",
              "      <td>Budapest</td>\n",
              "      <td>Budapest II.</td>\n",
              "      <td>2.0</td>\n",
              "      <td>1024.0</td>\n",
              "      <td>flat</td>\n",
              "      <td>brick flat (for sale)</td>\n",
              "      <td>novel</td>\n",
              "      <td>basement</td>\n",
              "      <td>NaN</td>\n",
              "      <td>street view</td>\n",
              "      <td>NaN</td>\n",
              "      <td>NaN</td>\n",
              "      <td>konvection gas burner</td>\n",
              "      <td>yes</td>\n",
              "      <td>1.0</td>\n",
              "      <td>1.0</td>\n",
              "      <td>2015-02-09</td>\n",
              "      <td>50.0</td>\n",
              "      <td>0.0</td>\n",
              "      <td>15.3</td>\n",
              "      <td>39.0</td>\n",
              "      <td>1.0</td>\n",
              "    </tr>\n",
              "    <tr>\n",
              "      <th>4</th>\n",
              "      <td>Budapest</td>\n",
              "      <td>Budapest XII.</td>\n",
              "      <td>12.0</td>\n",
              "      <td>1126.0</td>\n",
              "      <td>flat</td>\n",
              "      <td>brick flat (for sale)</td>\n",
              "      <td>good</td>\n",
              "      <td>ground floor</td>\n",
              "      <td>NaN</td>\n",
              "      <td>garden view</td>\n",
              "      <td>NaN</td>\n",
              "      <td>NaN</td>\n",
              "      <td>gas furnace, circulating hot water</td>\n",
              "      <td>none</td>\n",
              "      <td>1.0</td>\n",
              "      <td>2.0</td>\n",
              "      <td>2015-02-09</td>\n",
              "      <td>50.0</td>\n",
              "      <td>0.0</td>\n",
              "      <td>17.9</td>\n",
              "      <td>114.0</td>\n",
              "      <td>27.0</td>\n",
              "    </tr>\n",
              "  </tbody>\n",
              "</table>\n",
              "</div>\n",
              "    <div class=\"colab-df-buttons\">\n",
              "\n",
              "  <div class=\"colab-df-container\">\n",
              "    <button class=\"colab-df-convert\" onclick=\"convertToInteractive('df-5df3b696-9f0c-4d74-b031-fce96b3634cf')\"\n",
              "            title=\"Convert this dataframe to an interactive table.\"\n",
              "            style=\"display:none;\">\n",
              "\n",
              "  <svg xmlns=\"http://www.w3.org/2000/svg\" height=\"24px\" viewBox=\"0 -960 960 960\">\n",
              "    <path d=\"M120-120v-720h720v720H120Zm60-500h600v-160H180v160Zm220 220h160v-160H400v160Zm0 220h160v-160H400v160ZM180-400h160v-160H180v160Zm440 0h160v-160H620v160ZM180-180h160v-160H180v160Zm440 0h160v-160H620v160Z\"/>\n",
              "  </svg>\n",
              "    </button>\n",
              "\n",
              "  <style>\n",
              "    .colab-df-container {\n",
              "      display:flex;\n",
              "      gap: 12px;\n",
              "    }\n",
              "\n",
              "    .colab-df-convert {\n",
              "      background-color: #E8F0FE;\n",
              "      border: none;\n",
              "      border-radius: 50%;\n",
              "      cursor: pointer;\n",
              "      display: none;\n",
              "      fill: #1967D2;\n",
              "      height: 32px;\n",
              "      padding: 0 0 0 0;\n",
              "      width: 32px;\n",
              "    }\n",
              "\n",
              "    .colab-df-convert:hover {\n",
              "      background-color: #E2EBFA;\n",
              "      box-shadow: 0px 1px 2px rgba(60, 64, 67, 0.3), 0px 1px 3px 1px rgba(60, 64, 67, 0.15);\n",
              "      fill: #174EA6;\n",
              "    }\n",
              "\n",
              "    .colab-df-buttons div {\n",
              "      margin-bottom: 4px;\n",
              "    }\n",
              "\n",
              "    [theme=dark] .colab-df-convert {\n",
              "      background-color: #3B4455;\n",
              "      fill: #D2E3FC;\n",
              "    }\n",
              "\n",
              "    [theme=dark] .colab-df-convert:hover {\n",
              "      background-color: #434B5C;\n",
              "      box-shadow: 0px 1px 3px 1px rgba(0, 0, 0, 0.15);\n",
              "      filter: drop-shadow(0px 1px 2px rgba(0, 0, 0, 0.3));\n",
              "      fill: #FFFFFF;\n",
              "    }\n",
              "  </style>\n",
              "\n",
              "    <script>\n",
              "      const buttonEl =\n",
              "        document.querySelector('#df-5df3b696-9f0c-4d74-b031-fce96b3634cf button.colab-df-convert');\n",
              "      buttonEl.style.display =\n",
              "        google.colab.kernel.accessAllowed ? 'block' : 'none';\n",
              "\n",
              "      async function convertToInteractive(key) {\n",
              "        const element = document.querySelector('#df-5df3b696-9f0c-4d74-b031-fce96b3634cf');\n",
              "        const dataTable =\n",
              "          await google.colab.kernel.invokeFunction('convertToInteractive',\n",
              "                                                    [key], {});\n",
              "        if (!dataTable) return;\n",
              "\n",
              "        const docLinkHtml = 'Like what you see? Visit the ' +\n",
              "          '<a target=\"_blank\" href=https://colab.research.google.com/notebooks/data_table.ipynb>data table notebook</a>'\n",
              "          + ' to learn more about interactive tables.';\n",
              "        element.innerHTML = '';\n",
              "        dataTable['output_type'] = 'display_data';\n",
              "        await google.colab.output.renderOutput(dataTable, element);\n",
              "        const docLink = document.createElement('div');\n",
              "        docLink.innerHTML = docLinkHtml;\n",
              "        element.appendChild(docLink);\n",
              "      }\n",
              "    </script>\n",
              "  </div>\n",
              "\n",
              "\n",
              "<div id=\"df-979bc9a9-5512-42d5-8584-dbca3ba07984\">\n",
              "  <button class=\"colab-df-quickchart\" onclick=\"quickchart('df-979bc9a9-5512-42d5-8584-dbca3ba07984')\"\n",
              "            title=\"Suggest charts\"\n",
              "            style=\"display:none;\">\n",
              "\n",
              "<svg xmlns=\"http://www.w3.org/2000/svg\" height=\"24px\"viewBox=\"0 0 24 24\"\n",
              "     width=\"24px\">\n",
              "    <g>\n",
              "        <path d=\"M19 3H5c-1.1 0-2 .9-2 2v14c0 1.1.9 2 2 2h14c1.1 0 2-.9 2-2V5c0-1.1-.9-2-2-2zM9 17H7v-7h2v7zm4 0h-2V7h2v10zm4 0h-2v-4h2v4z\"/>\n",
              "    </g>\n",
              "</svg>\n",
              "  </button>\n",
              "\n",
              "<style>\n",
              "  .colab-df-quickchart {\n",
              "      --bg-color: #E8F0FE;\n",
              "      --fill-color: #1967D2;\n",
              "      --hover-bg-color: #E2EBFA;\n",
              "      --hover-fill-color: #174EA6;\n",
              "      --disabled-fill-color: #AAA;\n",
              "      --disabled-bg-color: #DDD;\n",
              "  }\n",
              "\n",
              "  [theme=dark] .colab-df-quickchart {\n",
              "      --bg-color: #3B4455;\n",
              "      --fill-color: #D2E3FC;\n",
              "      --hover-bg-color: #434B5C;\n",
              "      --hover-fill-color: #FFFFFF;\n",
              "      --disabled-bg-color: #3B4455;\n",
              "      --disabled-fill-color: #666;\n",
              "  }\n",
              "\n",
              "  .colab-df-quickchart {\n",
              "    background-color: var(--bg-color);\n",
              "    border: none;\n",
              "    border-radius: 50%;\n",
              "    cursor: pointer;\n",
              "    display: none;\n",
              "    fill: var(--fill-color);\n",
              "    height: 32px;\n",
              "    padding: 0;\n",
              "    width: 32px;\n",
              "  }\n",
              "\n",
              "  .colab-df-quickchart:hover {\n",
              "    background-color: var(--hover-bg-color);\n",
              "    box-shadow: 0 1px 2px rgba(60, 64, 67, 0.3), 0 1px 3px 1px rgba(60, 64, 67, 0.15);\n",
              "    fill: var(--button-hover-fill-color);\n",
              "  }\n",
              "\n",
              "  .colab-df-quickchart-complete:disabled,\n",
              "  .colab-df-quickchart-complete:disabled:hover {\n",
              "    background-color: var(--disabled-bg-color);\n",
              "    fill: var(--disabled-fill-color);\n",
              "    box-shadow: none;\n",
              "  }\n",
              "\n",
              "  .colab-df-spinner {\n",
              "    border: 2px solid var(--fill-color);\n",
              "    border-color: transparent;\n",
              "    border-bottom-color: var(--fill-color);\n",
              "    animation:\n",
              "      spin 1s steps(1) infinite;\n",
              "  }\n",
              "\n",
              "  @keyframes spin {\n",
              "    0% {\n",
              "      border-color: transparent;\n",
              "      border-bottom-color: var(--fill-color);\n",
              "      border-left-color: var(--fill-color);\n",
              "    }\n",
              "    20% {\n",
              "      border-color: transparent;\n",
              "      border-left-color: var(--fill-color);\n",
              "      border-top-color: var(--fill-color);\n",
              "    }\n",
              "    30% {\n",
              "      border-color: transparent;\n",
              "      border-left-color: var(--fill-color);\n",
              "      border-top-color: var(--fill-color);\n",
              "      border-right-color: var(--fill-color);\n",
              "    }\n",
              "    40% {\n",
              "      border-color: transparent;\n",
              "      border-right-color: var(--fill-color);\n",
              "      border-top-color: var(--fill-color);\n",
              "    }\n",
              "    60% {\n",
              "      border-color: transparent;\n",
              "      border-right-color: var(--fill-color);\n",
              "    }\n",
              "    80% {\n",
              "      border-color: transparent;\n",
              "      border-right-color: var(--fill-color);\n",
              "      border-bottom-color: var(--fill-color);\n",
              "    }\n",
              "    90% {\n",
              "      border-color: transparent;\n",
              "      border-bottom-color: var(--fill-color);\n",
              "    }\n",
              "  }\n",
              "</style>\n",
              "\n",
              "  <script>\n",
              "    async function quickchart(key) {\n",
              "      const quickchartButtonEl =\n",
              "        document.querySelector('#' + key + ' button');\n",
              "      quickchartButtonEl.disabled = true;  // To prevent multiple clicks.\n",
              "      quickchartButtonEl.classList.add('colab-df-spinner');\n",
              "      try {\n",
              "        const charts = await google.colab.kernel.invokeFunction(\n",
              "            'suggestCharts', [key], {});\n",
              "      } catch (error) {\n",
              "        console.error('Error during call to suggestCharts:', error);\n",
              "      }\n",
              "      quickchartButtonEl.classList.remove('colab-df-spinner');\n",
              "      quickchartButtonEl.classList.add('colab-df-quickchart-complete');\n",
              "    }\n",
              "    (() => {\n",
              "      let quickchartButtonEl =\n",
              "        document.querySelector('#df-979bc9a9-5512-42d5-8584-dbca3ba07984 button');\n",
              "      quickchartButtonEl.style.display =\n",
              "        google.colab.kernel.accessAllowed ? 'block' : 'none';\n",
              "    })();\n",
              "  </script>\n",
              "</div>\n",
              "    </div>\n",
              "  </div>\n"
            ]
          },
          "metadata": {},
          "execution_count": 346
        }
      ]
    },
    {
      "cell_type": "markdown",
      "source": [
        "##price_created_at\n",
        "Itt extrém kiugró értékek vannak, ezektől megszabadulunk"
      ],
      "metadata": {
        "id": "Ea_23DYL1fI3"
      }
    },
    {
      "cell_type": "code",
      "source": [
        "df['price_created_at'].isna().sum()"
      ],
      "metadata": {
        "colab": {
          "base_uri": "https://localhost:8080/"
        },
        "id": "p0WkV94OaJk0",
        "outputId": "5f3e749b-49ce-4f37-c6d3-0d7806f46eab"
      },
      "execution_count": null,
      "outputs": [
        {
          "output_type": "execute_result",
          "data": {
            "text/plain": [
              "0"
            ]
          },
          "metadata": {},
          "execution_count": 347
        }
      ]
    },
    {
      "cell_type": "code",
      "source": [
        "price_created_at_min = df['price_created_at'].min()\n",
        "price_created_at_min"
      ],
      "metadata": {
        "colab": {
          "base_uri": "https://localhost:8080/"
        },
        "id": "JnOJuNfFL4rS",
        "outputId": "4e035583-cdc1-4d3c-a1de-3446e9dd3cf2"
      },
      "execution_count": null,
      "outputs": [
        {
          "output_type": "execute_result",
          "data": {
            "text/plain": [
              "0.0"
            ]
          },
          "metadata": {},
          "execution_count": 348
        }
      ]
    },
    {
      "cell_type": "code",
      "source": [
        "price_created_at_max = df['price_created_at'].max()\n",
        "price_created_at_max"
      ],
      "metadata": {
        "colab": {
          "base_uri": "https://localhost:8080/"
        },
        "id": "LrKUUkR6GZ5M",
        "outputId": "b5eb955c-4b32-4b0d-c251-ac4271bfc23a"
      },
      "execution_count": null,
      "outputs": [
        {
          "output_type": "execute_result",
          "data": {
            "text/plain": [
              "41796.0"
            ]
          },
          "metadata": {},
          "execution_count": 349
        }
      ]
    },
    {
      "cell_type": "code",
      "source": [
        "df = df[df['price_created_at'] != 0]"
      ],
      "metadata": {
        "id": "nTq4-SqtMUaB"
      },
      "execution_count": null,
      "outputs": []
    },
    {
      "cell_type": "code",
      "source": [
        "plt.figure(figsize=(10, 6))\n",
        "plt.hist(df['price_created_at'].dropna(), bins=100, edgecolor='black')\n",
        "plt.title('price')\n",
        "plt.xlabel('price million')\n",
        "plt.ylabel('Frequency')\n",
        "plt.show()"
      ],
      "metadata": {
        "colab": {
          "base_uri": "https://localhost:8080/",
          "height": 564
        },
        "id": "76yo-dyJEq-d",
        "outputId": "7d6a08df-edad-4a1c-effa-94fb97334d99"
      },
      "execution_count": null,
      "outputs": [
        {
          "output_type": "display_data",
          "data": {
            "text/plain": [
              "<Figure size 1000x600 with 1 Axes>"
            ],
            "image/png": "[encoded data removed]"
          },
          "metadata": {}
        }
      ]
    },
    {
      "cell_type": "code",
      "source": [
        "Q1 = df['price_created_at'].quantile(0.25)\n",
        "Q3 = df['price_created_at'].quantile(0.75)\n",
        "\n",
        "# Calculate Interquartile Range\n",
        "IQR = Q3 - Q1\n",
        "\n",
        "# Determine bounds for outliers (commonly 1.5 * IQR is used)\n",
        "lower_bound = Q1 - 1 * IQR\n",
        "upper_bound = Q3 + 2 * IQR\n",
        "\n",
        "# Filter out outliers\n",
        "df = df[(df['price_created_at'] >= lower_bound) & (df['price_created_at'] <= upper_bound)]"
      ],
      "metadata": {
        "id": "XU7GM30lLm_B"
      },
      "execution_count": null,
      "outputs": []
    },
    {
      "cell_type": "code",
      "source": [
        "plt.figure(figsize=(10, 6))\n",
        "plt.hist(df['price_created_at'].dropna(), bins=100, edgecolor='black')\n",
        "plt.title('price')\n",
        "plt.xlabel('price million')\n",
        "plt.ylabel('Frequency')\n",
        "plt.show()"
      ],
      "metadata": {
        "colab": {
          "base_uri": "https://localhost:8080/",
          "height": 564
        },
        "id": "ob7wcE_OIR0T",
        "outputId": "4472eed4-f815-4cd6-b2ad-b33e797d5fd1"
      },
      "execution_count": null,
      "outputs": [
        {
          "output_type": "display_data",
          "data": {
            "text/plain": [
              "<Figure size 1000x600 with 1 Axes>"
            ],
            "image/png": "[encoded data removed]"
          },
          "metadata": {}
        }
      ]
    },
    {
      "cell_type": "code",
      "source": [
        "price_created_at_max = df['price_created_at'].max()\n",
        "price_created_at_max"
      ],
      "metadata": {
        "colab": {
          "base_uri": "https://localhost:8080/"
        },
        "id": "vlz4ZvlpMnu8",
        "outputId": "4e74d4ca-0358-4372-ccfc-2a1336182d17"
      },
      "execution_count": null,
      "outputs": [
        {
          "output_type": "execute_result",
          "data": {
            "text/plain": [
              "45.3"
            ]
          },
          "metadata": {},
          "execution_count": 354
        }
      ]
    },
    {
      "cell_type": "code",
      "source": [
        "price_created_at_min = df['price_created_at'].min()\n",
        "price_created_at_min"
      ],
      "metadata": {
        "colab": {
          "base_uri": "https://localhost:8080/"
        },
        "id": "d7rJbhzFM00N",
        "outputId": "48ed6bf1-72f6-4575-ce5a-3462386bf3d8"
      },
      "execution_count": null,
      "outputs": [
        {
          "output_type": "execute_result",
          "data": {
            "text/plain": [
              "2.5"
            ]
          },
          "metadata": {},
          "execution_count": 355
        }
      ]
    },
    {
      "cell_type": "markdown",
      "source": [
        "##Négyzetméter ár 'nmAr' célváltozó létrehozása. A balkon területe 0,5-ös szórzóval súlyozva."
      ],
      "metadata": {
        "id": "CFPvW5tjQYaa"
      }
    },
    {
      "cell_type": "code",
      "source": [
        "df['property_area'].isna().sum()"
      ],
      "metadata": {
        "colab": {
          "base_uri": "https://localhost:8080/"
        },
        "id": "WhFmX2psYs3D",
        "outputId": "bf8c015b-872f-476c-b56d-b3e57cfa3e4c"
      },
      "execution_count": null,
      "outputs": [
        {
          "output_type": "execute_result",
          "data": {
            "text/plain": [
              "0"
            ]
          },
          "metadata": {},
          "execution_count": 356
        }
      ]
    },
    {
      "cell_type": "code",
      "source": [
        "property_area_max = df['property_area'].max()\n",
        "property_area_max"
      ],
      "metadata": {
        "colab": {
          "base_uri": "https://localhost:8080/"
        },
        "id": "cYTRFDMISBzg",
        "outputId": "e8201f30-cd81-4ec4-ff1d-2dee98159535"
      },
      "execution_count": null,
      "outputs": [
        {
          "output_type": "execute_result",
          "data": {
            "text/plain": [
              "70.0"
            ]
          },
          "metadata": {},
          "execution_count": 357
        }
      ]
    },
    {
      "cell_type": "code",
      "source": [
        "property_area_min = df['property_area'].min()\n",
        "property_area_min"
      ],
      "metadata": {
        "colab": {
          "base_uri": "https://localhost:8080/"
        },
        "id": "FcvnnmQeSOAT",
        "outputId": "887d3240-93ff-4bdf-bea2-3d9973485f02"
      },
      "execution_count": null,
      "outputs": [
        {
          "output_type": "execute_result",
          "data": {
            "text/plain": [
              "0.0"
            ]
          },
          "metadata": {},
          "execution_count": 358
        }
      ]
    },
    {
      "cell_type": "code",
      "source": [
        "df = df[df['property_area'] != 0]"
      ],
      "metadata": {
        "id": "WvYpuXdrSwTK"
      },
      "execution_count": null,
      "outputs": []
    },
    {
      "cell_type": "code",
      "source": [
        "df['balcony_area'].isna().sum()"
      ],
      "metadata": {
        "colab": {
          "base_uri": "https://localhost:8080/"
        },
        "id": "dYlNv5D-YG5Y",
        "outputId": "e927f14c-b9ee-478e-ead4-8e5ef0a62f4b"
      },
      "execution_count": null,
      "outputs": [
        {
          "output_type": "execute_result",
          "data": {
            "text/plain": [
              "7524"
            ]
          },
          "metadata": {},
          "execution_count": 360
        }
      ]
    },
    {
      "cell_type": "code",
      "source": [
        "df['balcony_area'] = df['balcony_area'].fillna(0)"
      ],
      "metadata": {
        "colab": {
          "base_uri": "https://localhost:8080/"
        },
        "id": "RJ5c1ZDeZDt_",
        "outputId": "cde38e40-9951-4503-ea46-52afcebe4dec"
      },
      "execution_count": null,
      "outputs": [
        {
          "output_type": "stream",
          "name": "stderr",
          "text": [
            "<ipython-input-361-89283f34cb4c>:1: SettingWithCopyWarning: \n",
            "A value is trying to be set on a copy of a slice from a DataFrame.\n",
            "Try using .loc[row_indexer,col_indexer] = value instead\n",
            "\n",
            "See the caveats in the documentation: https://pandas.pydata.org/pandas-docs/stable/user_guide/indexing.html#returning-a-view-versus-a-copy\n",
            "  df['balcony_area'] = df['balcony_area'].fillna(0)\n"
          ]
        }
      ]
    },
    {
      "cell_type": "code",
      "source": [
        "df['nmAr'] = (1000000 * df['price_created_at'] / (df['property_area'] + df['balcony_area'] * 0.5))"
      ],
      "metadata": {
        "colab": {
          "base_uri": "https://localhost:8080/"
        },
        "id": "cyADi6qFMS0S",
        "outputId": "1564f769-9e2b-4c76-d559-bd11adfdcad3"
      },
      "execution_count": null,
      "outputs": [
        {
          "output_type": "stream",
          "name": "stderr",
          "text": [
            "<ipython-input-362-d228c17b6124>:1: SettingWithCopyWarning: \n",
            "A value is trying to be set on a copy of a slice from a DataFrame.\n",
            "Try using .loc[row_indexer,col_indexer] = value instead\n",
            "\n",
            "See the caveats in the documentation: https://pandas.pydata.org/pandas-docs/stable/user_guide/indexing.html#returning-a-view-versus-a-copy\n",
            "  df['nmAr'] = (1000000 * df['price_created_at'] / (df['property_area'] + df['balcony_area'] * 0.5))\n"
          ]
        }
      ]
    },
    {
      "cell_type": "code",
      "source": [
        "df.head()\n"
      ],
      "metadata": {
        "colab": {
          "base_uri": "https://localhost:8080/",
          "height": 348
        },
        "id": "bQpOI8g5Mamn",
        "outputId": "1c1c2a1b-3ad1-447d-cf11-9a9dd7dad74c"
      },
      "execution_count": null,
      "outputs": [
        {
          "output_type": "execute_result",
          "data": {
            "text/plain": [
              "     county           city  district  postcode property_type  \\\n",
              "0  Budapest   Budapest IV.       4.0       NaN          flat   \n",
              "1  Budapest  Budapest XIV.      14.0    1147.0          flat   \n",
              "2  Budapest  Budapest XIV.      14.0       NaN          flat   \n",
              "3  Budapest   Budapest II.       2.0    1024.0          flat   \n",
              "4  Budapest  Budapest XII.      12.0    1126.0          flat   \n",
              "\n",
              "                      property_subtype property_condition_type property_floor  \\\n",
              "0  prefabricated panel flat (for sale)                    good              3   \n",
              "1                brick flat (for sale)                   novel   ground floor   \n",
              "2                brick flat (for sale)                  medium              4   \n",
              "3                brick flat (for sale)                   novel       basement   \n",
              "4                brick flat (for sale)                    good   ground floor   \n",
              "\n",
              "  building_floor_count    view_type orientation garden_access  \\\n",
              "0                   10  garden view        east           NaN   \n",
              "1                  NaN          NaN         NaN           NaN   \n",
              "2                  NaN          NaN         NaN           NaN   \n",
              "3                  NaN  street view         NaN           NaN   \n",
              "4                  NaN  garden view         NaN           NaN   \n",
              "\n",
              "                         heating_type elevator_type  room_cnt  small_room_cnt  \\\n",
              "0                                 NaN           yes       1.0             1.0   \n",
              "1  gas furnace, circulating hot water           NaN       1.0             0.0   \n",
              "2               konvection gas burner           NaN       2.0             0.0   \n",
              "3               konvection gas burner           yes       1.0             1.0   \n",
              "4  gas furnace, circulating hot water          none       1.0             2.0   \n",
              "\n",
              "   created_at  property_area  balcony_area  price_created_at  ad_view_cnt  \\\n",
              "0  2015-02-09           35.0           0.0               9.5        702.0   \n",
              "1  2015-02-09           35.0           0.0              11.2         42.0   \n",
              "2  2015-02-09           50.0           0.0              14.5        504.0   \n",
              "3  2015-02-09           50.0           0.0              15.3         39.0   \n",
              "4  2015-02-09           50.0           0.0              17.9        114.0   \n",
              "\n",
              "   active_days           nmAr  \n",
              "0         23.0  271428.571429  \n",
              "1          6.0  320000.000000  \n",
              "2         96.0  290000.000000  \n",
              "3          1.0  306000.000000  \n",
              "4         27.0  358000.000000  "
            ],
            "text/html": [
              "\n",
              "  <div id=\"df-6a2557ea-a131-456d-bfde-b00dcee9b402\" class=\"colab-df-container\">\n",
              "    <div>\n",
              "<style scoped>\n",
              "    .dataframe tbody tr th:only-of-type {\n",
              "        vertical-align: middle;\n",
              "    }\n",
              "\n",
              "    .dataframe tbody tr th {\n",
              "        vertical-align: top;\n",
              "    }\n",
              "\n",
              "    .dataframe thead th {\n",
              "        text-align: right;\n",
              "    }\n",
              "</style>\n",
              "<table border=\"1\" class=\"dataframe\">\n",
              "  <thead>\n",
              "    <tr style=\"text-align: right;\">\n",
              "      <th></th>\n",
              "      <th>county</th>\n",
              "      <th>city</th>\n",
              "      <th>district</th>\n",
              "      <th>postcode</th>\n",
              "      <th>property_type</th>\n",
              "      <th>property_subtype</th>\n",
              "      <th>property_condition_type</th>\n",
              "      <th>property_floor</th>\n",
              "      <th>building_floor_count</th>\n",
              "      <th>view_type</th>\n",
              "      <th>orientation</th>\n",
              "      <th>garden_access</th>\n",
              "      <th>heating_type</th>\n",
              "      <th>elevator_type</th>\n",
              "      <th>room_cnt</th>\n",
              "      <th>small_room_cnt</th>\n",
              "      <th>created_at</th>\n",
              "      <th>property_area</th>\n",
              "      <th>balcony_area</th>\n",
              "      <th>price_created_at</th>\n",
              "      <th>ad_view_cnt</th>\n",
              "      <th>active_days</th>\n",
              "      <th>nmAr</th>\n",
              "    </tr>\n",
              "  </thead>\n",
              "  <tbody>\n",
              "    <tr>\n",
              "      <th>0</th>\n",
              "      <td>Budapest</td>\n",
              "      <td>Budapest IV.</td>\n",
              "      <td>4.0</td>\n",
              "      <td>NaN</td>\n",
              "      <td>flat</td>\n",
              "      <td>prefabricated panel flat (for sale)</td>\n",
              "      <td>good</td>\n",
              "      <td>3</td>\n",
              "      <td>10</td>\n",
              "      <td>garden view</td>\n",
              "      <td>east</td>\n",
              "      <td>NaN</td>\n",
              "      <td>NaN</td>\n",
              "      <td>yes</td>\n",
              "      <td>1.0</td>\n",
              "      <td>1.0</td>\n",
              "      <td>2015-02-09</td>\n",
              "      <td>35.0</td>\n",
              "      <td>0.0</td>\n",
              "      <td>9.5</td>\n",
              "      <td>702.0</td>\n",
              "      <td>23.0</td>\n",
              "      <td>271428.571429</td>\n",
              "    </tr>\n",
              "    <tr>\n",
              "      <th>1</th>\n",
              "      <td>Budapest</td>\n",
              "      <td>Budapest XIV.</td>\n",
              "      <td>14.0</td>\n",
              "      <td>1147.0</td>\n",
              "      <td>flat</td>\n",
              "      <td>brick flat (for sale)</td>\n",
              "      <td>novel</td>\n",
              "      <td>ground floor</td>\n",
              "      <td>NaN</td>\n",
              "      <td>NaN</td>\n",
              "      <td>NaN</td>\n",
              "      <td>NaN</td>\n",
              "      <td>gas furnace, circulating hot water</td>\n",
              "      <td>NaN</td>\n",
              "      <td>1.0</td>\n",
              "      <td>0.0</td>\n",
              "      <td>2015-02-09</td>\n",
              "      <td>35.0</td>\n",
              "      <td>0.0</td>\n",
              "      <td>11.2</td>\n",
              "      <td>42.0</td>\n",
              "      <td>6.0</td>\n",
              "      <td>320000.000000</td>\n",
              "    </tr>\n",
              "    <tr>\n",
              "      <th>2</th>\n",
              "      <td>Budapest</td>\n",
              "      <td>Budapest XIV.</td>\n",
              "      <td>14.0</td>\n",
              "      <td>NaN</td>\n",
              "      <td>flat</td>\n",
              "      <td>brick flat (for sale)</td>\n",
              "      <td>medium</td>\n",
              "      <td>4</td>\n",
              "      <td>NaN</td>\n",
              "      <td>NaN</td>\n",
              "      <td>NaN</td>\n",
              "      <td>NaN</td>\n",
              "      <td>konvection gas burner</td>\n",
              "      <td>NaN</td>\n",
              "      <td>2.0</td>\n",
              "      <td>0.0</td>\n",
              "      <td>2015-02-09</td>\n",
              "      <td>50.0</td>\n",
              "      <td>0.0</td>\n",
              "      <td>14.5</td>\n",
              "      <td>504.0</td>\n",
              "      <td>96.0</td>\n",
              "      <td>290000.000000</td>\n",
              "    </tr>\n",
              "    <tr>\n",
              "      <th>3</th>\n",
              "      <td>Budapest</td>\n",
              "      <td>Budapest II.</td>\n",
              "      <td>2.0</td>\n",
              "      <td>1024.0</td>\n",
              "      <td>flat</td>\n",
              "      <td>brick flat (for sale)</td>\n",
              "      <td>novel</td>\n",
              "      <td>basement</td>\n",
              "      <td>NaN</td>\n",
              "      <td>street view</td>\n",
              "      <td>NaN</td>\n",
              "      <td>NaN</td>\n",
              "      <td>konvection gas burner</td>\n",
              "      <td>yes</td>\n",
              "      <td>1.0</td>\n",
              "      <td>1.0</td>\n",
              "      <td>2015-02-09</td>\n",
              "      <td>50.0</td>\n",
              "      <td>0.0</td>\n",
              "      <td>15.3</td>\n",
              "      <td>39.0</td>\n",
              "      <td>1.0</td>\n",
              "      <td>306000.000000</td>\n",
              "    </tr>\n",
              "    <tr>\n",
              "      <th>4</th>\n",
              "      <td>Budapest</td>\n",
              "      <td>Budapest XII.</td>\n",
              "      <td>12.0</td>\n",
              "      <td>1126.0</td>\n",
              "      <td>flat</td>\n",
              "      <td>brick flat (for sale)</td>\n",
              "      <td>good</td>\n",
              "      <td>ground floor</td>\n",
              "      <td>NaN</td>\n",
              "      <td>garden view</td>\n",
              "      <td>NaN</td>\n",
              "      <td>NaN</td>\n",
              "      <td>gas furnace, circulating hot water</td>\n",
              "      <td>none</td>\n",
              "      <td>1.0</td>\n",
              "      <td>2.0</td>\n",
              "      <td>2015-02-09</td>\n",
              "      <td>50.0</td>\n",
              "      <td>0.0</td>\n",
              "      <td>17.9</td>\n",
              "      <td>114.0</td>\n",
              "      <td>27.0</td>\n",
              "      <td>358000.000000</td>\n",
              "    </tr>\n",
              "  </tbody>\n",
              "</table>\n",
              "</div>\n",
              "    <div class=\"colab-df-buttons\">\n",
              "\n",
              "  <div class=\"colab-df-container\">\n",
              "    <button class=\"colab-df-convert\" onclick=\"convertToInteractive('df-6a2557ea-a131-456d-bfde-b00dcee9b402')\"\n",
              "            title=\"Convert this dataframe to an interactive table.\"\n",
              "            style=\"display:none;\">\n",
              "\n",
              "  <svg xmlns=\"http://www.w3.org/2000/svg\" height=\"24px\" viewBox=\"0 -960 960 960\">\n",
              "    <path d=\"M120-120v-720h720v720H120Zm60-500h600v-160H180v160Zm220 220h160v-160H400v160Zm0 220h160v-160H400v160ZM180-400h160v-160H180v160Zm440 0h160v-160H620v160ZM180-180h160v-160H180v160Zm440 0h160v-160H620v160Z\"/>\n",
              "  </svg>\n",
              "    </button>\n",
              "\n",
              "  <style>\n",
              "    .colab-df-container {\n",
              "      display:flex;\n",
              "      gap: 12px;\n",
              "    }\n",
              "\n",
              "    .colab-df-convert {\n",
              "      background-color: #E8F0FE;\n",
              "      border: none;\n",
              "      border-radius: 50%;\n",
              "      cursor: pointer;\n",
              "      display: none;\n",
              "      fill: #1967D2;\n",
              "      height: 32px;\n",
              "      padding: 0 0 0 0;\n",
              "      width: 32px;\n",
              "    }\n",
              "\n",
              "    .colab-df-convert:hover {\n",
              "      background-color: #E2EBFA;\n",
              "      box-shadow: 0px 1px 2px rgba(60, 64, 67, 0.3), 0px 1px 3px 1px rgba(60, 64, 67, 0.15);\n",
              "      fill: #174EA6;\n",
              "    }\n",
              "\n",
              "    .colab-df-buttons div {\n",
              "      margin-bottom: 4px;\n",
              "    }\n",
              "\n",
              "    [theme=dark] .colab-df-convert {\n",
              "      background-color: #3B4455;\n",
              "      fill: #D2E3FC;\n",
              "    }\n",
              "\n",
              "    [theme=dark] .colab-df-convert:hover {\n",
              "      background-color: #434B5C;\n",
              "      box-shadow: 0px 1px 3px 1px rgba(0, 0, 0, 0.15);\n",
              "      filter: drop-shadow(0px 1px 2px rgba(0, 0, 0, 0.3));\n",
              "      fill: #FFFFFF;\n",
              "    }\n",
              "  </style>\n",
              "\n",
              "    <script>\n",
              "      const buttonEl =\n",
              "        document.querySelector('#df-6a2557ea-a131-456d-bfde-b00dcee9b402 button.colab-df-convert');\n",
              "      buttonEl.style.display =\n",
              "        google.colab.kernel.accessAllowed ? 'block' : 'none';\n",
              "\n",
              "      async function convertToInteractive(key) {\n",
              "        const element = document.querySelector('#df-6a2557ea-a131-456d-bfde-b00dcee9b402');\n",
              "        const dataTable =\n",
              "          await google.colab.kernel.invokeFunction('convertToInteractive',\n",
              "                                                    [key], {});\n",
              "        if (!dataTable) return;\n",
              "\n",
              "        const docLinkHtml = 'Like what you see? Visit the ' +\n",
              "          '<a target=\"_blank\" href=https://colab.research.google.com/notebooks/data_table.ipynb>data table notebook</a>'\n",
              "          + ' to learn more about interactive tables.';\n",
              "        element.innerHTML = '';\n",
              "        dataTable['output_type'] = 'display_data';\n",
              "        await google.colab.output.renderOutput(dataTable, element);\n",
              "        const docLink = document.createElement('div');\n",
              "        docLink.innerHTML = docLinkHtml;\n",
              "        element.appendChild(docLink);\n",
              "      }\n",
              "    </script>\n",
              "  </div>\n",
              "\n",
              "\n",
              "<div id=\"df-3d726dc3-2361-468b-a785-93f980515ec4\">\n",
              "  <button class=\"colab-df-quickchart\" onclick=\"quickchart('df-3d726dc3-2361-468b-a785-93f980515ec4')\"\n",
              "            title=\"Suggest charts\"\n",
              "            style=\"display:none;\">\n",
              "\n",
              "<svg xmlns=\"http://www.w3.org/2000/svg\" height=\"24px\"viewBox=\"0 0 24 24\"\n",
              "     width=\"24px\">\n",
              "    <g>\n",
              "        <path d=\"M19 3H5c-1.1 0-2 .9-2 2v14c0 1.1.9 2 2 2h14c1.1 0 2-.9 2-2V5c0-1.1-.9-2-2-2zM9 17H7v-7h2v7zm4 0h-2V7h2v10zm4 0h-2v-4h2v4z\"/>\n",
              "    </g>\n",
              "</svg>\n",
              "  </button>\n",
              "\n",
              "<style>\n",
              "  .colab-df-quickchart {\n",
              "      --bg-color: #E8F0FE;\n",
              "      --fill-color: #1967D2;\n",
              "      --hover-bg-color: #E2EBFA;\n",
              "      --hover-fill-color: #174EA6;\n",
              "      --disabled-fill-color: #AAA;\n",
              "      --disabled-bg-color: #DDD;\n",
              "  }\n",
              "\n",
              "  [theme=dark] .colab-df-quickchart {\n",
              "      --bg-color: #3B4455;\n",
              "      --fill-color: #D2E3FC;\n",
              "      --hover-bg-color: #434B5C;\n",
              "      --hover-fill-color: #FFFFFF;\n",
              "      --disabled-bg-color: #3B4455;\n",
              "      --disabled-fill-color: #666;\n",
              "  }\n",
              "\n",
              "  .colab-df-quickchart {\n",
              "    background-color: var(--bg-color);\n",
              "    border: none;\n",
              "    border-radius: 50%;\n",
              "    cursor: pointer;\n",
              "    display: none;\n",
              "    fill: var(--fill-color);\n",
              "    height: 32px;\n",
              "    padding: 0;\n",
              "    width: 32px;\n",
              "  }\n",
              "\n",
              "  .colab-df-quickchart:hover {\n",
              "    background-color: var(--hover-bg-color);\n",
              "    box-shadow: 0 1px 2px rgba(60, 64, 67, 0.3), 0 1px 3px 1px rgba(60, 64, 67, 0.15);\n",
              "    fill: var(--button-hover-fill-color);\n",
              "  }\n",
              "\n",
              "  .colab-df-quickchart-complete:disabled,\n",
              "  .colab-df-quickchart-complete:disabled:hover {\n",
              "    background-color: var(--disabled-bg-color);\n",
              "    fill: var(--disabled-fill-color);\n",
              "    box-shadow: none;\n",
              "  }\n",
              "\n",
              "  .colab-df-spinner {\n",
              "    border: 2px solid var(--fill-color);\n",
              "    border-color: transparent;\n",
              "    border-bottom-color: var(--fill-color);\n",
              "    animation:\n",
              "      spin 1s steps(1) infinite;\n",
              "  }\n",
              "\n",
              "  @keyframes spin {\n",
              "    0% {\n",
              "      border-color: transparent;\n",
              "      border-bottom-color: var(--fill-color);\n",
              "      border-left-color: var(--fill-color);\n",
              "    }\n",
              "    20% {\n",
              "      border-color: transparent;\n",
              "      border-left-color: var(--fill-color);\n",
              "      border-top-color: var(--fill-color);\n",
              "    }\n",
              "    30% {\n",
              "      border-color: transparent;\n",
              "      border-left-color: var(--fill-color);\n",
              "      border-top-color: var(--fill-color);\n",
              "      border-right-color: var(--fill-color);\n",
              "    }\n",
              "    40% {\n",
              "      border-color: transparent;\n",
              "      border-right-color: var(--fill-color);\n",
              "      border-top-color: var(--fill-color);\n",
              "    }\n",
              "    60% {\n",
              "      border-color: transparent;\n",
              "      border-right-color: var(--fill-color);\n",
              "    }\n",
              "    80% {\n",
              "      border-color: transparent;\n",
              "      border-right-color: var(--fill-color);\n",
              "      border-bottom-color: var(--fill-color);\n",
              "    }\n",
              "    90% {\n",
              "      border-color: transparent;\n",
              "      border-bottom-color: var(--fill-color);\n",
              "    }\n",
              "  }\n",
              "</style>\n",
              "\n",
              "  <script>\n",
              "    async function quickchart(key) {\n",
              "      const quickchartButtonEl =\n",
              "        document.querySelector('#' + key + ' button');\n",
              "      quickchartButtonEl.disabled = true;  // To prevent multiple clicks.\n",
              "      quickchartButtonEl.classList.add('colab-df-spinner');\n",
              "      try {\n",
              "        const charts = await google.colab.kernel.invokeFunction(\n",
              "            'suggestCharts', [key], {});\n",
              "      } catch (error) {\n",
              "        console.error('Error during call to suggestCharts:', error);\n",
              "      }\n",
              "      quickchartButtonEl.classList.remove('colab-df-spinner');\n",
              "      quickchartButtonEl.classList.add('colab-df-quickchart-complete');\n",
              "    }\n",
              "    (() => {\n",
              "      let quickchartButtonEl =\n",
              "        document.querySelector('#df-3d726dc3-2361-468b-a785-93f980515ec4 button');\n",
              "      quickchartButtonEl.style.display =\n",
              "        google.colab.kernel.accessAllowed ? 'block' : 'none';\n",
              "    })();\n",
              "  </script>\n",
              "</div>\n",
              "    </div>\n",
              "  </div>\n"
            ]
          },
          "metadata": {},
          "execution_count": 363
        }
      ]
    },
    {
      "cell_type": "code",
      "source": [
        "df = df[df['nmAr'] <= 1500000]"
      ],
      "metadata": {
        "id": "boVDPN_qWkVq"
      },
      "execution_count": null,
      "outputs": []
    },
    {
      "cell_type": "code",
      "source": [
        "nmAr_max = df['nmAr'].max()\n",
        "nmAr_max"
      ],
      "metadata": {
        "colab": {
          "base_uri": "https://localhost:8080/"
        },
        "id": "QX_OmgwgQ9hP",
        "outputId": "adebaa6b-e2ad-442f-c286-1be6fd5477b9"
      },
      "execution_count": null,
      "outputs": [
        {
          "output_type": "execute_result",
          "data": {
            "text/plain": [
              "1500000.0"
            ]
          },
          "metadata": {},
          "execution_count": 365
        }
      ]
    },
    {
      "cell_type": "code",
      "source": [
        "df = df[df['nmAr'] >= 100000]"
      ],
      "metadata": {
        "id": "Ty_duO51Wkxx"
      },
      "execution_count": null,
      "outputs": []
    },
    {
      "cell_type": "code",
      "source": [
        "nmAr_min = df['nmAr'].min()\n",
        "nmAr_min"
      ],
      "metadata": {
        "colab": {
          "base_uri": "https://localhost:8080/"
        },
        "id": "Mpd4DeDwQ9Tp",
        "outputId": "3bbc2695-a0c2-4be7-c2de-e690b158dcf4"
      },
      "execution_count": null,
      "outputs": [
        {
          "output_type": "execute_result",
          "data": {
            "text/plain": [
              "100000.0"
            ]
          },
          "metadata": {},
          "execution_count": 367
        }
      ]
    },
    {
      "cell_type": "code",
      "source": [
        "plt.figure(figsize=(10, 6))\n",
        "plt.hist(df['nmAr'].dropna(), bins=100, edgecolor='black')\n",
        "plt.title('price / sm')\n",
        "plt.xlabel('price')\n",
        "plt.ylabel('Frequency')\n",
        "plt.show()"
      ],
      "metadata": {
        "colab": {
          "base_uri": "https://localhost:8080/",
          "height": 564
        },
        "id": "d4NFsaD4Xa0w",
        "outputId": "b196fbea-62b8-4baa-d335-b071f38b4bad"
      },
      "execution_count": null,
      "outputs": [
        {
          "output_type": "display_data",
          "data": {
            "text/plain": [
              "<Figure size 1000x600 with 1 Axes>"
            ],
            "image/png": "[encoded data removed]"
          },
          "metadata": {}
        }
      ]
    },
    {
      "cell_type": "code",
      "source": [
        "df.shape"
      ],
      "metadata": {
        "colab": {
          "base_uri": "https://localhost:8080/"
        },
        "id": "oq68in0OVb01",
        "outputId": "203a8b1d-1fb3-4c67-9798-04ce3ae80c55"
      },
      "execution_count": null,
      "outputs": [
        {
          "output_type": "execute_result",
          "data": {
            "text/plain": [
              "(180371, 23)"
            ]
          },
          "metadata": {},
          "execution_count": 369
        }
      ]
    },
    {
      "cell_type": "markdown",
      "source": [
        "##Kerület NaN értékek ellenőrzése\n"
      ],
      "metadata": {
        "id": "5JCAkn6hR4PT"
      }
    },
    {
      "cell_type": "code",
      "source": [
        "print(df['district'].isna().sum())\n",
        "print(df['city'].isna().sum())"
      ],
      "metadata": {
        "colab": {
          "base_uri": "https://localhost:8080/"
        },
        "id": "TlQEQ2E5R-cZ",
        "outputId": "0ee7e6b2-dc01-4fcc-a41f-adb263c64275"
      },
      "execution_count": null,
      "outputs": [
        {
          "output_type": "stream",
          "name": "stdout",
          "text": [
            "1281\n",
            "1281\n"
          ]
        }
      ]
    },
    {
      "cell_type": "markdown",
      "source": [
        "Mivel a kerület egy különösen fontos tényező a célváltozó becslésében, viszont csak az adatok kb. 0,005%-a nem tartalmazza, ezeket eltávolítom"
      ],
      "metadata": {
        "id": "iptnsanXSwWu"
      }
    },
    {
      "cell_type": "code",
      "source": [
        "df = df.dropna(subset=['district'])"
      ],
      "metadata": {
        "id": "MF19pzgUTMv0"
      },
      "execution_count": null,
      "outputs": []
    },
    {
      "cell_type": "code",
      "source": [
        "df['city'].isna().sum()"
      ],
      "metadata": {
        "colab": {
          "base_uri": "https://localhost:8080/"
        },
        "id": "xQhtnQMET0UI",
        "outputId": "569a8af4-0488-4018-a774-803bf5f95105"
      },
      "execution_count": null,
      "outputs": [
        {
          "output_type": "execute_result",
          "data": {
            "text/plain": [
              "0"
            ]
          },
          "metadata": {},
          "execution_count": 372
        }
      ]
    },
    {
      "cell_type": "markdown",
      "source": [
        "##Kerületi átlagár létrehozása"
      ],
      "metadata": {
        "id": "N75Yx8AvUvo3"
      }
    },
    {
      "cell_type": "code",
      "source": [
        "district_average = df.groupby('district')['nmAr'].mean().copy()"
      ],
      "metadata": {
        "id": "RC2bcxfcUui8"
      },
      "execution_count": null,
      "outputs": []
    },
    {
      "cell_type": "code",
      "source": [
        "district_average"
      ],
      "metadata": {
        "colab": {
          "base_uri": "https://localhost:8080/"
        },
        "id": "QBi6-4rfWwKW",
        "outputId": "6307e1d7-a123-4a80-8c49-a9446d5d7de1"
      },
      "execution_count": null,
      "outputs": [
        {
          "output_type": "execute_result",
          "data": {
            "text/plain": [
              "district\n",
              "1.0     535732.804348\n",
              "2.0     501418.069779\n",
              "3.0     356631.852138\n",
              "4.0     300014.865030\n",
              "5.0     679420.287379\n",
              "6.0     512602.784828\n",
              "7.0     437966.116162\n",
              "8.0     342655.840772\n",
              "9.0     426991.611425\n",
              "10.0    267793.675055\n",
              "11.0    430801.451109\n",
              "12.0    489728.870508\n",
              "13.0    433806.475068\n",
              "14.0    363420.287835\n",
              "15.0    277675.485882\n",
              "16.0    328789.418395\n",
              "17.0    283157.091049\n",
              "18.0    272118.111113\n",
              "19.0    259832.969120\n",
              "20.0    241687.767438\n",
              "21.0    230411.868511\n",
              "22.0    305253.501957\n",
              "23.0    237664.381543\n",
              "Name: nmAr, dtype: float64"
            ]
          },
          "metadata": {},
          "execution_count": 374
        }
      ]
    },
    {
      "cell_type": "code",
      "source": [
        "df['atlag_nmAr'] = df['district'].map(district_average)"
      ],
      "metadata": {
        "colab": {
          "base_uri": "https://localhost:8080/"
        },
        "id": "IJIApH8klTzf",
        "outputId": "fb72c18b-e66f-4b34-f725-40c97ceb8494"
      },
      "execution_count": null,
      "outputs": [
        {
          "output_type": "stream",
          "name": "stderr",
          "text": [
            "<ipython-input-375-ea4a4d44ca57>:1: SettingWithCopyWarning: \n",
            "A value is trying to be set on a copy of a slice from a DataFrame.\n",
            "Try using .loc[row_indexer,col_indexer] = value instead\n",
            "\n",
            "See the caveats in the documentation: https://pandas.pydata.org/pandas-docs/stable/user_guide/indexing.html#returning-a-view-versus-a-copy\n",
            "  df['atlag_nmAr'] = df['district'].map(district_average)\n"
          ]
        }
      ]
    },
    {
      "cell_type": "code",
      "source": [
        "df.head()"
      ],
      "metadata": {
        "colab": {
          "base_uri": "https://localhost:8080/",
          "height": 348
        },
        "id": "0kK_qcX7lYKm",
        "outputId": "cbc6a1ba-9777-4761-9669-9e553f419ce9"
      },
      "execution_count": null,
      "outputs": [
        {
          "output_type": "execute_result",
          "data": {
            "text/plain": [
              "     county           city  district  postcode property_type  \\\n",
              "0  Budapest   Budapest IV.       4.0       NaN          flat   \n",
              "1  Budapest  Budapest XIV.      14.0    1147.0          flat   \n",
              "2  Budapest  Budapest XIV.      14.0       NaN          flat   \n",
              "3  Budapest   Budapest II.       2.0    1024.0          flat   \n",
              "4  Budapest  Budapest XII.      12.0    1126.0          flat   \n",
              "\n",
              "                      property_subtype property_condition_type property_floor  \\\n",
              "0  prefabricated panel flat (for sale)                    good              3   \n",
              "1                brick flat (for sale)                   novel   ground floor   \n",
              "2                brick flat (for sale)                  medium              4   \n",
              "3                brick flat (for sale)                   novel       basement   \n",
              "4                brick flat (for sale)                    good   ground floor   \n",
              "\n",
              "  building_floor_count    view_type orientation garden_access  \\\n",
              "0                   10  garden view        east           NaN   \n",
              "1                  NaN          NaN         NaN           NaN   \n",
              "2                  NaN          NaN         NaN           NaN   \n",
              "3                  NaN  street view         NaN           NaN   \n",
              "4                  NaN  garden view         NaN           NaN   \n",
              "\n",
              "                         heating_type elevator_type  room_cnt  small_room_cnt  \\\n",
              "0                                 NaN           yes       1.0             1.0   \n",
              "1  gas furnace, circulating hot water           NaN       1.0             0.0   \n",
              "2               konvection gas burner           NaN       2.0             0.0   \n",
              "3               konvection gas burner           yes       1.0             1.0   \n",
              "4  gas furnace, circulating hot water          none       1.0             2.0   \n",
              "\n",
              "   created_at  property_area  balcony_area  price_created_at  ad_view_cnt  \\\n",
              "0  2015-02-09           35.0           0.0               9.5        702.0   \n",
              "1  2015-02-09           35.0           0.0              11.2         42.0   \n",
              "2  2015-02-09           50.0           0.0              14.5        504.0   \n",
              "3  2015-02-09           50.0           0.0              15.3         39.0   \n",
              "4  2015-02-09           50.0           0.0              17.9        114.0   \n",
              "\n",
              "   active_days           nmAr     atlag_nmAr  \n",
              "0         23.0  271428.571429  300014.865030  \n",
              "1          6.0  320000.000000  363420.287835  \n",
              "2         96.0  290000.000000  363420.287835  \n",
              "3          1.0  306000.000000  501418.069779  \n",
              "4         27.0  358000.000000  489728.870508  "
            ],
            "text/html": [
              "\n",
              "  <div id=\"df-00f39dea-6562-4c78-9ac3-4387e5451c64\" class=\"colab-df-container\">\n",
              "    <div>\n",
              "<style scoped>\n",
              "    .dataframe tbody tr th:only-of-type {\n",
              "        vertical-align: middle;\n",
              "    }\n",
              "\n",
              "    .dataframe tbody tr th {\n",
              "        vertical-align: top;\n",
              "    }\n",
              "\n",
              "    .dataframe thead th {\n",
              "        text-align: right;\n",
              "    }\n",
              "</style>\n",
              "<table border=\"1\" class=\"dataframe\">\n",
              "  <thead>\n",
              "    <tr style=\"text-align: right;\">\n",
              "      <th></th>\n",
              "      <th>county</th>\n",
              "      <th>city</th>\n",
              "      <th>district</th>\n",
              "      <th>postcode</th>\n",
              "      <th>property_type</th>\n",
              "      <th>property_subtype</th>\n",
              "      <th>property_condition_type</th>\n",
              "      <th>property_floor</th>\n",
              "      <th>building_floor_count</th>\n",
              "      <th>view_type</th>\n",
              "      <th>orientation</th>\n",
              "      <th>garden_access</th>\n",
              "      <th>heating_type</th>\n",
              "      <th>elevator_type</th>\n",
              "      <th>room_cnt</th>\n",
              "      <th>small_room_cnt</th>\n",
              "      <th>created_at</th>\n",
              "      <th>property_area</th>\n",
              "      <th>balcony_area</th>\n",
              "      <th>price_created_at</th>\n",
              "      <th>ad_view_cnt</th>\n",
              "      <th>active_days</th>\n",
              "      <th>nmAr</th>\n",
              "      <th>atlag_nmAr</th>\n",
              "    </tr>\n",
              "  </thead>\n",
              "  <tbody>\n",
              "    <tr>\n",
              "      <th>0</th>\n",
              "      <td>Budapest</td>\n",
              "      <td>Budapest IV.</td>\n",
              "      <td>4.0</td>\n",
              "      <td>NaN</td>\n",
              "      <td>flat</td>\n",
              "      <td>prefabricated panel flat (for sale)</td>\n",
              "      <td>good</td>\n",
              "      <td>3</td>\n",
              "      <td>10</td>\n",
              "      <td>garden view</td>\n",
              "      <td>east</td>\n",
              "      <td>NaN</td>\n",
              "      <td>NaN</td>\n",
              "      <td>yes</td>\n",
              "      <td>1.0</td>\n",
              "      <td>1.0</td>\n",
              "      <td>2015-02-09</td>\n",
              "      <td>35.0</td>\n",
              "      <td>0.0</td>\n",
              "      <td>9.5</td>\n",
              "      <td>702.0</td>\n",
              "      <td>23.0</td>\n",
              "      <td>271428.571429</td>\n",
              "      <td>300014.865030</td>\n",
              "    </tr>\n",
              "    <tr>\n",
              "      <th>1</th>\n",
              "      <td>Budapest</td>\n",
              "      <td>Budapest XIV.</td>\n",
              "      <td>14.0</td>\n",
              "      <td>1147.0</td>\n",
              "      <td>flat</td>\n",
              "      <td>brick flat (for sale)</td>\n",
              "      <td>novel</td>\n",
              "      <td>ground floor</td>\n",
              "      <td>NaN</td>\n",
              "      <td>NaN</td>\n",
              "      <td>NaN</td>\n",
              "      <td>NaN</td>\n",
              "      <td>gas furnace, circulating hot water</td>\n",
              "      <td>NaN</td>\n",
              "      <td>1.0</td>\n",
              "      <td>0.0</td>\n",
              "      <td>2015-02-09</td>\n",
              "      <td>35.0</td>\n",
              "      <td>0.0</td>\n",
              "      <td>11.2</td>\n",
              "      <td>42.0</td>\n",
              "      <td>6.0</td>\n",
              "      <td>320000.000000</td>\n",
              "      <td>363420.287835</td>\n",
              "    </tr>\n",
              "    <tr>\n",
              "      <th>2</th>\n",
              "      <td>Budapest</td>\n",
              "      <td>Budapest XIV.</td>\n",
              "      <td>14.0</td>\n",
              "      <td>NaN</td>\n",
              "      <td>flat</td>\n",
              "      <td>brick flat (for sale)</td>\n",
              "      <td>medium</td>\n",
              "      <td>4</td>\n",
              "      <td>NaN</td>\n",
              "      <td>NaN</td>\n",
              "      <td>NaN</td>\n",
              "      <td>NaN</td>\n",
              "      <td>konvection gas burner</td>\n",
              "      <td>NaN</td>\n",
              "      <td>2.0</td>\n",
              "      <td>0.0</td>\n",
              "      <td>2015-02-09</td>\n",
              "      <td>50.0</td>\n",
              "      <td>0.0</td>\n",
              "      <td>14.5</td>\n",
              "      <td>504.0</td>\n",
              "      <td>96.0</td>\n",
              "      <td>290000.000000</td>\n",
              "      <td>363420.287835</td>\n",
              "    </tr>\n",
              "    <tr>\n",
              "      <th>3</th>\n",
              "      <td>Budapest</td>\n",
              "      <td>Budapest II.</td>\n",
              "      <td>2.0</td>\n",
              "      <td>1024.0</td>\n",
              "      <td>flat</td>\n",
              "      <td>brick flat (for sale)</td>\n",
              "      <td>novel</td>\n",
              "      <td>basement</td>\n",
              "      <td>NaN</td>\n",
              "      <td>street view</td>\n",
              "      <td>NaN</td>\n",
              "      <td>NaN</td>\n",
              "      <td>konvection gas burner</td>\n",
              "      <td>yes</td>\n",
              "      <td>1.0</td>\n",
              "      <td>1.0</td>\n",
              "      <td>2015-02-09</td>\n",
              "      <td>50.0</td>\n",
              "      <td>0.0</td>\n",
              "      <td>15.3</td>\n",
              "      <td>39.0</td>\n",
              "      <td>1.0</td>\n",
              "      <td>306000.000000</td>\n",
              "      <td>501418.069779</td>\n",
              "    </tr>\n",
              "    <tr>\n",
              "      <th>4</th>\n",
              "      <td>Budapest</td>\n",
              "      <td>Budapest XII.</td>\n",
              "      <td>12.0</td>\n",
              "      <td>1126.0</td>\n",
              "      <td>flat</td>\n",
              "      <td>brick flat (for sale)</td>\n",
              "      <td>good</td>\n",
              "      <td>ground floor</td>\n",
              "      <td>NaN</td>\n",
              "      <td>garden view</td>\n",
              "      <td>NaN</td>\n",
              "      <td>NaN</td>\n",
              "      <td>gas furnace, circulating hot water</td>\n",
              "      <td>none</td>\n",
              "      <td>1.0</td>\n",
              "      <td>2.0</td>\n",
              "      <td>2015-02-09</td>\n",
              "      <td>50.0</td>\n",
              "      <td>0.0</td>\n",
              "      <td>17.9</td>\n",
              "      <td>114.0</td>\n",
              "      <td>27.0</td>\n",
              "      <td>358000.000000</td>\n",
              "      <td>489728.870508</td>\n",
              "    </tr>\n",
              "  </tbody>\n",
              "</table>\n",
              "</div>\n",
              "    <div class=\"colab-df-buttons\">\n",
              "\n",
              "  <div class=\"colab-df-container\">\n",
              "    <button class=\"colab-df-convert\" onclick=\"convertToInteractive('df-00f39dea-6562-4c78-9ac3-4387e5451c64')\"\n",
              "            title=\"Convert this dataframe to an interactive table.\"\n",
              "            style=\"display:none;\">\n",
              "\n",
              "  <svg xmlns=\"http://www.w3.org/2000/svg\" height=\"24px\" viewBox=\"0 -960 960 960\">\n",
              "    <path d=\"M120-120v-720h720v720H120Zm60-500h600v-160H180v160Zm220 220h160v-160H400v160Zm0 220h160v-160H400v160ZM180-400h160v-160H180v160Zm440 0h160v-160H620v160ZM180-180h160v-160H180v160Zm440 0h160v-160H620v160Z\"/>\n",
              "  </svg>\n",
              "    </button>\n",
              "\n",
              "  <style>\n",
              "    .colab-df-container {\n",
              "      display:flex;\n",
              "      gap: 12px;\n",
              "    }\n",
              "\n",
              "    .colab-df-convert {\n",
              "      background-color: #E8F0FE;\n",
              "      border: none;\n",
              "      border-radius: 50%;\n",
              "      cursor: pointer;\n",
              "      display: none;\n",
              "      fill: #1967D2;\n",
              "      height: 32px;\n",
              "      padding: 0 0 0 0;\n",
              "      width: 32px;\n",
              "    }\n",
              "\n",
              "    .colab-df-convert:hover {\n",
              "      background-color: #E2EBFA;\n",
              "      box-shadow: 0px 1px 2px rgba(60, 64, 67, 0.3), 0px 1px 3px 1px rgba(60, 64, 67, 0.15);\n",
              "      fill: #174EA6;\n",
              "    }\n",
              "\n",
              "    .colab-df-buttons div {\n",
              "      margin-bottom: 4px;\n",
              "    }\n",
              "\n",
              "    [theme=dark] .colab-df-convert {\n",
              "      background-color: #3B4455;\n",
              "      fill: #D2E3FC;\n",
              "    }\n",
              "\n",
              "    [theme=dark] .colab-df-convert:hover {\n",
              "      background-color: #434B5C;\n",
              "      box-shadow: 0px 1px 3px 1px rgba(0, 0, 0, 0.15);\n",
              "      filter: drop-shadow(0px 1px 2px rgba(0, 0, 0, 0.3));\n",
              "      fill: #FFFFFF;\n",
              "    }\n",
              "  </style>\n",
              "\n",
              "    <script>\n",
              "      const buttonEl =\n",
              "        document.querySelector('#df-00f39dea-6562-4c78-9ac3-4387e5451c64 button.colab-df-convert');\n",
              "      buttonEl.style.display =\n",
              "        google.colab.kernel.accessAllowed ? 'block' : 'none';\n",
              "\n",
              "      async function convertToInteractive(key) {\n",
              "        const element = document.querySelector('#df-00f39dea-6562-4c78-9ac3-4387e5451c64');\n",
              "        const dataTable =\n",
              "          await google.colab.kernel.invokeFunction('convertToInteractive',\n",
              "                                                    [key], {});\n",
              "        if (!dataTable) return;\n",
              "\n",
              "        const docLinkHtml = 'Like what you see? Visit the ' +\n",
              "          '<a target=\"_blank\" href=https://colab.research.google.com/notebooks/data_table.ipynb>data table notebook</a>'\n",
              "          + ' to learn more about interactive tables.';\n",
              "        element.innerHTML = '';\n",
              "        dataTable['output_type'] = 'display_data';\n",
              "        await google.colab.output.renderOutput(dataTable, element);\n",
              "        const docLink = document.createElement('div');\n",
              "        docLink.innerHTML = docLinkHtml;\n",
              "        element.appendChild(docLink);\n",
              "      }\n",
              "    </script>\n",
              "  </div>\n",
              "\n",
              "\n",
              "<div id=\"df-b23c0b39-92ca-48a4-9177-b34b8ea66109\">\n",
              "  <button class=\"colab-df-quickchart\" onclick=\"quickchart('df-b23c0b39-92ca-48a4-9177-b34b8ea66109')\"\n",
              "            title=\"Suggest charts\"\n",
              "            style=\"display:none;\">\n",
              "\n",
              "<svg xmlns=\"http://www.w3.org/2000/svg\" height=\"24px\"viewBox=\"0 0 24 24\"\n",
              "     width=\"24px\">\n",
              "    <g>\n",
              "        <path d=\"M19 3H5c-1.1 0-2 .9-2 2v14c0 1.1.9 2 2 2h14c1.1 0 2-.9 2-2V5c0-1.1-.9-2-2-2zM9 17H7v-7h2v7zm4 0h-2V7h2v10zm4 0h-2v-4h2v4z\"/>\n",
              "    </g>\n",
              "</svg>\n",
              "  </button>\n",
              "\n",
              "<style>\n",
              "  .colab-df-quickchart {\n",
              "      --bg-color: #E8F0FE;\n",
              "      --fill-color: #1967D2;\n",
              "      --hover-bg-color: #E2EBFA;\n",
              "      --hover-fill-color: #174EA6;\n",
              "      --disabled-fill-color: #AAA;\n",
              "      --disabled-bg-color: #DDD;\n",
              "  }\n",
              "\n",
              "  [theme=dark] .colab-df-quickchart {\n",
              "      --bg-color: #3B4455;\n",
              "      --fill-color: #D2E3FC;\n",
              "      --hover-bg-color: #434B5C;\n",
              "      --hover-fill-color: #FFFFFF;\n",
              "      --disabled-bg-color: #3B4455;\n",
              "      --disabled-fill-color: #666;\n",
              "  }\n",
              "\n",
              "  .colab-df-quickchart {\n",
              "    background-color: var(--bg-color);\n",
              "    border: none;\n",
              "    border-radius: 50%;\n",
              "    cursor: pointer;\n",
              "    display: none;\n",
              "    fill: var(--fill-color);\n",
              "    height: 32px;\n",
              "    padding: 0;\n",
              "    width: 32px;\n",
              "  }\n",
              "\n",
              "  .colab-df-quickchart:hover {\n",
              "    background-color: var(--hover-bg-color);\n",
              "    box-shadow: 0 1px 2px rgba(60, 64, 67, 0.3), 0 1px 3px 1px rgba(60, 64, 67, 0.15);\n",
              "    fill: var(--button-hover-fill-color);\n",
              "  }\n",
              "\n",
              "  .colab-df-quickchart-complete:disabled,\n",
              "  .colab-df-quickchart-complete:disabled:hover {\n",
              "    background-color: var(--disabled-bg-color);\n",
              "    fill: var(--disabled-fill-color);\n",
              "    box-shadow: none;\n",
              "  }\n",
              "\n",
              "  .colab-df-spinner {\n",
              "    border: 2px solid var(--fill-color);\n",
              "    border-color: transparent;\n",
              "    border-bottom-color: var(--fill-color);\n",
              "    animation:\n",
              "      spin 1s steps(1) infinite;\n",
              "  }\n",
              "\n",
              "  @keyframes spin {\n",
              "    0% {\n",
              "      border-color: transparent;\n",
              "      border-bottom-color: var(--fill-color);\n",
              "      border-left-color: var(--fill-color);\n",
              "    }\n",
              "    20% {\n",
              "      border-color: transparent;\n",
              "      border-left-color: var(--fill-color);\n",
              "      border-top-color: var(--fill-color);\n",
              "    }\n",
              "    30% {\n",
              "      border-color: transparent;\n",
              "      border-left-color: var(--fill-color);\n",
              "      border-top-color: var(--fill-color);\n",
              "      border-right-color: var(--fill-color);\n",
              "    }\n",
              "    40% {\n",
              "      border-color: transparent;\n",
              "      border-right-color: var(--fill-color);\n",
              "      border-top-color: var(--fill-color);\n",
              "    }\n",
              "    60% {\n",
              "      border-color: transparent;\n",
              "      border-right-color: var(--fill-color);\n",
              "    }\n",
              "    80% {\n",
              "      border-color: transparent;\n",
              "      border-right-color: var(--fill-color);\n",
              "      border-bottom-color: var(--fill-color);\n",
              "    }\n",
              "    90% {\n",
              "      border-color: transparent;\n",
              "      border-bottom-color: var(--fill-color);\n",
              "    }\n",
              "  }\n",
              "</style>\n",
              "\n",
              "  <script>\n",
              "    async function quickchart(key) {\n",
              "      const quickchartButtonEl =\n",
              "        document.querySelector('#' + key + ' button');\n",
              "      quickchartButtonEl.disabled = true;  // To prevent multiple clicks.\n",
              "      quickchartButtonEl.classList.add('colab-df-spinner');\n",
              "      try {\n",
              "        const charts = await google.colab.kernel.invokeFunction(\n",
              "            'suggestCharts', [key], {});\n",
              "      } catch (error) {\n",
              "        console.error('Error during call to suggestCharts:', error);\n",
              "      }\n",
              "      quickchartButtonEl.classList.remove('colab-df-spinner');\n",
              "      quickchartButtonEl.classList.add('colab-df-quickchart-complete');\n",
              "    }\n",
              "    (() => {\n",
              "      let quickchartButtonEl =\n",
              "        document.querySelector('#df-b23c0b39-92ca-48a4-9177-b34b8ea66109 button');\n",
              "      quickchartButtonEl.style.display =\n",
              "        google.colab.kernel.accessAllowed ? 'block' : 'none';\n",
              "    })();\n",
              "  </script>\n",
              "</div>\n",
              "    </div>\n",
              "  </div>\n"
            ]
          },
          "metadata": {},
          "execution_count": 376
        }
      ]
    },
    {
      "cell_type": "markdown",
      "source": [
        "##county\n",
        "Ezt a változót elhagyhatjuk."
      ],
      "metadata": {
        "id": "J5bGOdvO1viQ"
      }
    },
    {
      "cell_type": "code",
      "source": [
        "df['county'].value_counts(dropna = False)"
      ],
      "metadata": {
        "colab": {
          "base_uri": "https://localhost:8080/"
        },
        "id": "nxcspUpY1o56",
        "outputId": "ec81f903-5e07-4755-b5cd-39c7a6103739"
      },
      "execution_count": null,
      "outputs": [
        {
          "output_type": "execute_result",
          "data": {
            "text/plain": [
              "Budapest    179090\n",
              "Name: county, dtype: int64"
            ]
          },
          "metadata": {},
          "execution_count": 377
        }
      ]
    },
    {
      "cell_type": "code",
      "source": [
        "df = df.drop('county', axis=1)"
      ],
      "metadata": {
        "id": "DJtY5yVD13Ka"
      },
      "execution_count": null,
      "outputs": []
    },
    {
      "cell_type": "markdown",
      "source": [
        "##city\n",
        "Ez a változó redundáns a 'district' értékkel, elhagyható."
      ],
      "metadata": {
        "id": "BDeZpqVo2pED"
      }
    },
    {
      "cell_type": "code",
      "source": [
        "df['city'].value_counts(dropna = False)"
      ],
      "metadata": {
        "colab": {
          "base_uri": "https://localhost:8080/"
        },
        "id": "M_vzcKZD25EK",
        "outputId": "0b90f42e-3890-454d-c08f-b4b6df8e6ab8"
      },
      "execution_count": null,
      "outputs": [
        {
          "output_type": "execute_result",
          "data": {
            "text/plain": [
              "Budapest XIV.      20070\n",
              "Budapest XIII.     19731\n",
              "Budapest XI.       15822\n",
              "Budapest VII.      14310\n",
              "Budapest III.      13132\n",
              "Budapest VIII.     13003\n",
              "Budapest VI.       10114\n",
              "Budapest IX.        8844\n",
              "Budapest IV.        7875\n",
              "Budapest II.        7251\n",
              "Budapest X.         6914\n",
              "Budapest XV.        6859\n",
              "Budapest V.         5085\n",
              "Budapest XII.       5045\n",
              "Budapest XXI.       4576\n",
              "Budapest XVIII.     4427\n",
              "Budapest XX.        3783\n",
              "Budapest XIX.       3623\n",
              "Budapest I.         3024\n",
              "Budapest XVII.      2097\n",
              "Budapest XVI.       1864\n",
              "Budapest XXII.      1407\n",
              "Budapest XXIII.      234\n",
              "Name: city, dtype: int64"
            ]
          },
          "metadata": {},
          "execution_count": 379
        }
      ]
    },
    {
      "cell_type": "code",
      "source": [
        "df = df.drop('city', axis=1)"
      ],
      "metadata": {
        "id": "6Nv5gyf924wf"
      },
      "execution_count": null,
      "outputs": []
    },
    {
      "cell_type": "markdown",
      "source": [
        "##garden_access\n",
        "Ha nincs külön megadva, feltételezzük, hogy nincs. Mivel ez bináris, célszerű lesz 1 és 0 értékekre cserélni."
      ],
      "metadata": {
        "id": "_7pf9axJo6bH"
      }
    },
    {
      "cell_type": "code",
      "source": [
        "df['garden_access'].value_counts(dropna = False)"
      ],
      "metadata": {
        "colab": {
          "base_uri": "https://localhost:8080/"
        },
        "id": "cF2ctHORo6B8",
        "outputId": "8381d7b5-06f9-494b-d5de-9844dbad16da"
      },
      "execution_count": null,
      "outputs": [
        {
          "output_type": "execute_result",
          "data": {
            "text/plain": [
              "NaN     139244\n",
              "none     33506\n",
              "yes       6340\n",
              "Name: garden_access, dtype: int64"
            ]
          },
          "metadata": {},
          "execution_count": 381
        }
      ]
    },
    {
      "cell_type": "code",
      "source": [
        "df['garden_access'] = df['garden_access'].fillna('none')"
      ],
      "metadata": {
        "id": "MNR1900np7BM"
      },
      "execution_count": null,
      "outputs": []
    },
    {
      "cell_type": "code",
      "source": [
        "df['garden_access'] = df['garden_access'].apply(lambda x: 1.0 if x == 'yes' else 0.0)"
      ],
      "metadata": {
        "id": "eRNFNO6oqcNK"
      },
      "execution_count": null,
      "outputs": []
    },
    {
      "cell_type": "markdown",
      "source": [
        "##property_floor\n",
        "Lehetne ordinális, tehát érdemes numerikus értékekre változtatni, ahol a 'ground floor' (földszint értéke 0, a 'mezzanine' (magasföldszint) értéke 0.5, a '10 plus' értéke 11, és a 'basement' (pince) értéke -1 lesz.  "
      ],
      "metadata": {
        "id": "QDE5IpO3r365"
      }
    },
    {
      "cell_type": "code",
      "source": [
        "df['property_floor'].value_counts(dropna = False)"
      ],
      "metadata": {
        "colab": {
          "base_uri": "https://localhost:8080/"
        },
        "id": "ql8OOQ1Isjiv",
        "outputId": "205b18f7-4442-4d64-f2a1-0d6355b3d87a"
      },
      "execution_count": null,
      "outputs": [
        {
          "output_type": "execute_result",
          "data": {
            "text/plain": [
              "1                  33237\n",
              "2                  29162\n",
              "ground floor       28551\n",
              "3                  24442\n",
              "4                  14682\n",
              "NaN                 8564\n",
              "mezzanine floor     8550\n",
              "5                   7870\n",
              "6                   5709\n",
              "7                   4273\n",
              "8                   3974\n",
              "10                  3921\n",
              "9                   3888\n",
              "10 plus             1217\n",
              "basement            1050\n",
              "Name: property_floor, dtype: int64"
            ]
          },
          "metadata": {},
          "execution_count": 384
        }
      ]
    },
    {
      "cell_type": "code",
      "source": [
        "df['property_floor'] = df['property_floor'].apply(lambda x: 0.0 if x == 'ground floor' else x)\n",
        "df['property_floor'] = df['property_floor'].apply(lambda x: 0.5 if x == 'mezzanine floor' else x)\n",
        "df['property_floor'] = df['property_floor'].apply(lambda x: -1.0 if x == 'basement' else x)\n",
        "df['property_floor'] = df['property_floor'].apply(lambda x: 11.0 if x == '10 plus' else x)"
      ],
      "metadata": {
        "id": "_euG3pJfuE9o"
      },
      "execution_count": null,
      "outputs": []
    },
    {
      "cell_type": "code",
      "source": [
        "df['property_floor'] = pd.to_numeric(df['property_floor'], errors='coerce')\n",
        "property_floor_median = df['property_floor'].median()\n",
        "property_floor_median"
      ],
      "metadata": {
        "colab": {
          "base_uri": "https://localhost:8080/"
        },
        "id": "5hJxONyixjPZ",
        "outputId": "16667ac0-0e65-41e9-d6f6-2bb6d3912b49"
      },
      "execution_count": null,
      "outputs": [
        {
          "output_type": "execute_result",
          "data": {
            "text/plain": [
              "2.0"
            ]
          },
          "metadata": {},
          "execution_count": 386
        }
      ]
    },
    {
      "cell_type": "markdown",
      "source": [
        "A NaN értékek kezelésére két ötletem van: az egyik, hogy vesszük a legnagyobb számban előforduló értéket, ami a 1. emelet, a másik, hogy az emelet mediánjával dolgozom, ami az esetünkben 2. Az utóbbit választom.\n"
      ],
      "metadata": {
        "id": "qW_CNkFoyWoU"
      }
    },
    {
      "cell_type": "code",
      "source": [
        "df['property_floor'] = df['property_floor'].fillna(property_floor_median)\n",
        "df['property_floor'] = pd.to_numeric(df['property_floor'], errors='coerce')\n"
      ],
      "metadata": {
        "id": "z3O6XybMy-xJ"
      },
      "execution_count": null,
      "outputs": []
    },
    {
      "cell_type": "code",
      "source": [
        "df['property_floor'].value_counts(dropna = False)"
      ],
      "metadata": {
        "colab": {
          "base_uri": "https://localhost:8080/"
        },
        "id": "V7GdI4ys1EFf",
        "outputId": "f49b0dbe-0534-401b-8445-6f5ff5b1baac"
      },
      "execution_count": null,
      "outputs": [
        {
          "output_type": "execute_result",
          "data": {
            "text/plain": [
              " 2.0     37726\n",
              " 1.0     33237\n",
              " 0.0     28551\n",
              " 3.0     24442\n",
              " 4.0     14682\n",
              " 0.5      8550\n",
              " 5.0      7870\n",
              " 6.0      5709\n",
              " 7.0      4273\n",
              " 8.0      3974\n",
              " 10.0     3921\n",
              " 9.0      3888\n",
              " 11.0     1217\n",
              "-1.0      1050\n",
              "Name: property_floor, dtype: int64"
            ]
          },
          "metadata": {},
          "execution_count": 388
        }
      ]
    },
    {
      "cell_type": "markdown",
      "source": [
        "##small_room_cnt\n",
        "Feltételezem, hogy ha nincs megadva, akkor nincs félszoba, ezért a NaN értékeket nullázom. Az ötnél nagyobb szobaszámú adatokra külön ránézek. A -1 szobaszámot elírásnak tekintem és 1-re állítom."
      ],
      "metadata": {
        "id": "4KahR2RF30Ty"
      }
    },
    {
      "cell_type": "code",
      "source": [
        "df['small_room_cnt'].value_counts(dropna = False)\n"
      ],
      "metadata": {
        "colab": {
          "base_uri": "https://localhost:8080/"
        },
        "id": "4RKWA4y03uEv",
        "outputId": "3d308465-dcb5-40ce-e6c7-468c42d45d35"
      },
      "execution_count": null,
      "outputs": [
        {
          "output_type": "execute_result",
          "data": {
            "text/plain": [
              " 0.0     102838\n",
              " 1.0      54799\n",
              " 2.0      19935\n",
              " 3.0        890\n",
              " NaN        574\n",
              " 4.0         32\n",
              " 5.0          7\n",
              " 8.0          3\n",
              " 11.0         2\n",
              " 21.0         2\n",
              " 10.0         2\n",
              " 23.0         1\n",
              " 12.0         1\n",
              " 47.0         1\n",
              " 18.0         1\n",
              "-1.0          1\n",
              " 20.0         1\n",
              "Name: small_room_cnt, dtype: int64"
            ]
          },
          "metadata": {},
          "execution_count": 389
        }
      ]
    },
    {
      "cell_type": "code",
      "source": [
        "df['small_room_cnt'] = df['small_room_cnt'].fillna(0.0)\n",
        "df['small_room_cnt'] = df['small_room_cnt'].apply(lambda x: 1 if x < 0 else x)"
      ],
      "metadata": {
        "id": "AZ67eqfi4XKG"
      },
      "execution_count": null,
      "outputs": []
    },
    {
      "cell_type": "code",
      "source": [
        "df_small_room = df[df['small_room_cnt'] >= 5]\n",
        "df_small_room.head()"
      ],
      "metadata": {
        "colab": {
          "base_uri": "https://localhost:8080/",
          "height": 261
        },
        "id": "RW8xR0Jw50zz",
        "outputId": "4f33b51c-3515-4124-d484-97d56ec56147"
      },
      "execution_count": null,
      "outputs": [
        {
          "output_type": "execute_result",
          "data": {
            "text/plain": [
              "       district  postcode property_type                     property_subtype  \\\n",
              "7178        5.0    1055.0          flat                brick flat (for sale)   \n",
              "13856      11.0    1111.0          flat                brick flat (for sale)   \n",
              "14758       8.0    1084.0          flat                brick flat (for sale)   \n",
              "14920       5.0    1054.0          flat                brick flat (for sale)   \n",
              "16089       1.0       NaN          flat  prefabricated panel flat (for sale)   \n",
              "\n",
              "      property_condition_type  property_floor building_floor_count  \\\n",
              "7178                  renewed             4.0                    6   \n",
              "13856                 renewed             1.0                    7   \n",
              "14758                    good             2.0                    2   \n",
              "14920                    good             0.0                    3   \n",
              "16089            missing_info             2.0                  NaN   \n",
              "\n",
              "            view_type orientation  garden_access           heating_type  \\\n",
              "7178      street view       south            0.0        central heating   \n",
              "13856     street view        east            0.0       district heating   \n",
              "14758             NaN         NaN            0.0                  other   \n",
              "14920  courtyard view         NaN            0.0  konvection gas burner   \n",
              "16089             NaN         NaN            0.0                    NaN   \n",
              "\n",
              "      elevator_type  room_cnt  small_room_cnt  created_at  property_area  \\\n",
              "7178            yes       2.0             5.0  2015-03-02           60.0   \n",
              "13856           yes       1.0             5.0  2015-03-23           50.0   \n",
              "14758           NaN       1.0            18.0  2015-03-25           25.0   \n",
              "14920           yes       1.0            20.0  2015-03-25           35.0   \n",
              "16089           NaN      12.0            12.0  2015-03-30           10.0   \n",
              "\n",
              "       balcony_area  price_created_at  ad_view_cnt  active_days          nmAr  \\\n",
              "7178            0.0              27.5        142.0         14.0  4.583333e+05   \n",
              "13856           0.0              24.9        860.0         53.0  4.980000e+05   \n",
              "14758           0.0               6.5       3675.0        206.0  2.600000e+05   \n",
              "14920           0.0              19.0        422.0          3.0  5.428571e+05   \n",
              "16089           0.0              12.0         24.0          3.0  1.200000e+06   \n",
              "\n",
              "          atlag_nmAr  \n",
              "7178   679420.287379  \n",
              "13856  430801.451109  \n",
              "14758  342655.840772  \n",
              "14920  679420.287379  \n",
              "16089  535732.804348  "
            ],
            "text/html": [
              "\n",
              "  <div id=\"df-dcb7833d-28d7-4384-908e-900a4be68a53\" class=\"colab-df-container\">\n",
              "    <div>\n",
              "<style scoped>\n",
              "    .dataframe tbody tr th:only-of-type {\n",
              "        vertical-align: middle;\n",
              "    }\n",
              "\n",
              "    .dataframe tbody tr th {\n",
              "        vertical-align: top;\n",
              "    }\n",
              "\n",
              "    .dataframe thead th {\n",
              "        text-align: right;\n",
              "    }\n",
              "</style>\n",
              "<table border=\"1\" class=\"dataframe\">\n",
              "  <thead>\n",
              "    <tr style=\"text-align: right;\">\n",
              "      <th></th>\n",
              "      <th>district</th>\n",
              "      <th>postcode</th>\n",
              "      <th>property_type</th>\n",
              "      <th>property_subtype</th>\n",
              "      <th>property_condition_type</th>\n",
              "      <th>property_floor</th>\n",
              "      <th>building_floor_count</th>\n",
              "      <th>view_type</th>\n",
              "      <th>orientation</th>\n",
              "      <th>garden_access</th>\n",
              "      <th>heating_type</th>\n",
              "      <th>elevator_type</th>\n",
              "      <th>room_cnt</th>\n",
              "      <th>small_room_cnt</th>\n",
              "      <th>created_at</th>\n",
              "      <th>property_area</th>\n",
              "      <th>balcony_area</th>\n",
              "      <th>price_created_at</th>\n",
              "      <th>ad_view_cnt</th>\n",
              "      <th>active_days</th>\n",
              "      <th>nmAr</th>\n",
              "      <th>atlag_nmAr</th>\n",
              "    </tr>\n",
              "  </thead>\n",
              "  <tbody>\n",
              "    <tr>\n",
              "      <th>7178</th>\n",
              "      <td>5.0</td>\n",
              "      <td>1055.0</td>\n",
              "      <td>flat</td>\n",
              "      <td>brick flat (for sale)</td>\n",
              "      <td>renewed</td>\n",
              "      <td>4.0</td>\n",
              "      <td>6</td>\n",
              "      <td>street view</td>\n",
              "      <td>south</td>\n",
              "      <td>0.0</td>\n",
              "      <td>central heating</td>\n",
              "      <td>yes</td>\n",
              "      <td>2.0</td>\n",
              "      <td>5.0</td>\n",
              "      <td>2015-03-02</td>\n",
              "      <td>60.0</td>\n",
              "      <td>0.0</td>\n",
              "      <td>27.5</td>\n",
              "      <td>142.0</td>\n",
              "      <td>14.0</td>\n",
              "      <td>4.583333e+05</td>\n",
              "      <td>679420.287379</td>\n",
              "    </tr>\n",
              "    <tr>\n",
              "      <th>13856</th>\n",
              "      <td>11.0</td>\n",
              "      <td>1111.0</td>\n",
              "      <td>flat</td>\n",
              "      <td>brick flat (for sale)</td>\n",
              "      <td>renewed</td>\n",
              "      <td>1.0</td>\n",
              "      <td>7</td>\n",
              "      <td>street view</td>\n",
              "      <td>east</td>\n",
              "      <td>0.0</td>\n",
              "      <td>district heating</td>\n",
              "      <td>yes</td>\n",
              "      <td>1.0</td>\n",
              "      <td>5.0</td>\n",
              "      <td>2015-03-23</td>\n",
              "      <td>50.0</td>\n",
              "      <td>0.0</td>\n",
              "      <td>24.9</td>\n",
              "      <td>860.0</td>\n",
              "      <td>53.0</td>\n",
              "      <td>4.980000e+05</td>\n",
              "      <td>430801.451109</td>\n",
              "    </tr>\n",
              "    <tr>\n",
              "      <th>14758</th>\n",
              "      <td>8.0</td>\n",
              "      <td>1084.0</td>\n",
              "      <td>flat</td>\n",
              "      <td>brick flat (for sale)</td>\n",
              "      <td>good</td>\n",
              "      <td>2.0</td>\n",
              "      <td>2</td>\n",
              "      <td>NaN</td>\n",
              "      <td>NaN</td>\n",
              "      <td>0.0</td>\n",
              "      <td>other</td>\n",
              "      <td>NaN</td>\n",
              "      <td>1.0</td>\n",
              "      <td>18.0</td>\n",
              "      <td>2015-03-25</td>\n",
              "      <td>25.0</td>\n",
              "      <td>0.0</td>\n",
              "      <td>6.5</td>\n",
              "      <td>3675.0</td>\n",
              "      <td>206.0</td>\n",
              "      <td>2.600000e+05</td>\n",
              "      <td>342655.840772</td>\n",
              "    </tr>\n",
              "    <tr>\n",
              "      <th>14920</th>\n",
              "      <td>5.0</td>\n",
              "      <td>1054.0</td>\n",
              "      <td>flat</td>\n",
              "      <td>brick flat (for sale)</td>\n",
              "      <td>good</td>\n",
              "      <td>0.0</td>\n",
              "      <td>3</td>\n",
              "      <td>courtyard view</td>\n",
              "      <td>NaN</td>\n",
              "      <td>0.0</td>\n",
              "      <td>konvection gas burner</td>\n",
              "      <td>yes</td>\n",
              "      <td>1.0</td>\n",
              "      <td>20.0</td>\n",
              "      <td>2015-03-25</td>\n",
              "      <td>35.0</td>\n",
              "      <td>0.0</td>\n",
              "      <td>19.0</td>\n",
              "      <td>422.0</td>\n",
              "      <td>3.0</td>\n",
              "      <td>5.428571e+05</td>\n",
              "      <td>679420.287379</td>\n",
              "    </tr>\n",
              "    <tr>\n",
              "      <th>16089</th>\n",
              "      <td>1.0</td>\n",
              "      <td>NaN</td>\n",
              "      <td>flat</td>\n",
              "      <td>prefabricated panel flat (for sale)</td>\n",
              "      <td>missing_info</td>\n",
              "      <td>2.0</td>\n",
              "      <td>NaN</td>\n",
              "      <td>NaN</td>\n",
              "      <td>NaN</td>\n",
              "      <td>0.0</td>\n",
              "      <td>NaN</td>\n",
              "      <td>NaN</td>\n",
              "      <td>12.0</td>\n",
              "      <td>12.0</td>\n",
              "      <td>2015-03-30</td>\n",
              "      <td>10.0</td>\n",
              "      <td>0.0</td>\n",
              "      <td>12.0</td>\n",
              "      <td>24.0</td>\n",
              "      <td>3.0</td>\n",
              "      <td>1.200000e+06</td>\n",
              "      <td>535732.804348</td>\n",
              "    </tr>\n",
              "  </tbody>\n",
              "</table>\n",
              "</div>\n",
              "    <div class=\"colab-df-buttons\">\n",
              "\n",
              "  <div class=\"colab-df-container\">\n",
              "    <button class=\"colab-df-convert\" onclick=\"convertToInteractive('df-dcb7833d-28d7-4384-908e-900a4be68a53')\"\n",
              "            title=\"Convert this dataframe to an interactive table.\"\n",
              "            style=\"display:none;\">\n",
              "\n",
              "  <svg xmlns=\"http://www.w3.org/2000/svg\" height=\"24px\" viewBox=\"0 -960 960 960\">\n",
              "    <path d=\"M120-120v-720h720v720H120Zm60-500h600v-160H180v160Zm220 220h160v-160H400v160Zm0 220h160v-160H400v160ZM180-400h160v-160H180v160Zm440 0h160v-160H620v160ZM180-180h160v-160H180v160Zm440 0h160v-160H620v160Z\"/>\n",
              "  </svg>\n",
              "    </button>\n",
              "\n",
              "  <style>\n",
              "    .colab-df-container {\n",
              "      display:flex;\n",
              "      gap: 12px;\n",
              "    }\n",
              "\n",
              "    .colab-df-convert {\n",
              "      background-color: #E8F0FE;\n",
              "      border: none;\n",
              "      border-radius: 50%;\n",
              "      cursor: pointer;\n",
              "      display: none;\n",
              "      fill: #1967D2;\n",
              "      height: 32px;\n",
              "      padding: 0 0 0 0;\n",
              "      width: 32px;\n",
              "    }\n",
              "\n",
              "    .colab-df-convert:hover {\n",
              "      background-color: #E2EBFA;\n",
              "      box-shadow: 0px 1px 2px rgba(60, 64, 67, 0.3), 0px 1px 3px 1px rgba(60, 64, 67, 0.15);\n",
              "      fill: #174EA6;\n",
              "    }\n",
              "\n",
              "    .colab-df-buttons div {\n",
              "      margin-bottom: 4px;\n",
              "    }\n",
              "\n",
              "    [theme=dark] .colab-df-convert {\n",
              "      background-color: #3B4455;\n",
              "      fill: #D2E3FC;\n",
              "    }\n",
              "\n",
              "    [theme=dark] .colab-df-convert:hover {\n",
              "      background-color: #434B5C;\n",
              "      box-shadow: 0px 1px 3px 1px rgba(0, 0, 0, 0.15);\n",
              "      filter: drop-shadow(0px 1px 2px rgba(0, 0, 0, 0.3));\n",
              "      fill: #FFFFFF;\n",
              "    }\n",
              "  </style>\n",
              "\n",
              "    <script>\n",
              "      const buttonEl =\n",
              "        document.querySelector('#df-dcb7833d-28d7-4384-908e-900a4be68a53 button.colab-df-convert');\n",
              "      buttonEl.style.display =\n",
              "        google.colab.kernel.accessAllowed ? 'block' : 'none';\n",
              "\n",
              "      async function convertToInteractive(key) {\n",
              "        const element = document.querySelector('#df-dcb7833d-28d7-4384-908e-900a4be68a53');\n",
              "        const dataTable =\n",
              "          await google.colab.kernel.invokeFunction('convertToInteractive',\n",
              "                                                    [key], {});\n",
              "        if (!dataTable) return;\n",
              "\n",
              "        const docLinkHtml = 'Like what you see? Visit the ' +\n",
              "          '<a target=\"_blank\" href=https://colab.research.google.com/notebooks/data_table.ipynb>data table notebook</a>'\n",
              "          + ' to learn more about interactive tables.';\n",
              "        element.innerHTML = '';\n",
              "        dataTable['output_type'] = 'display_data';\n",
              "        await google.colab.output.renderOutput(dataTable, element);\n",
              "        const docLink = document.createElement('div');\n",
              "        docLink.innerHTML = docLinkHtml;\n",
              "        element.appendChild(docLink);\n",
              "      }\n",
              "    </script>\n",
              "  </div>\n",
              "\n",
              "\n",
              "<div id=\"df-84ee7abe-492b-4a39-be98-7c7a89db584b\">\n",
              "  <button class=\"colab-df-quickchart\" onclick=\"quickchart('df-84ee7abe-492b-4a39-be98-7c7a89db584b')\"\n",
              "            title=\"Suggest charts\"\n",
              "            style=\"display:none;\">\n",
              "\n",
              "<svg xmlns=\"http://www.w3.org/2000/svg\" height=\"24px\"viewBox=\"0 0 24 24\"\n",
              "     width=\"24px\">\n",
              "    <g>\n",
              "        <path d=\"M19 3H5c-1.1 0-2 .9-2 2v14c0 1.1.9 2 2 2h14c1.1 0 2-.9 2-2V5c0-1.1-.9-2-2-2zM9 17H7v-7h2v7zm4 0h-2V7h2v10zm4 0h-2v-4h2v4z\"/>\n",
              "    </g>\n",
              "</svg>\n",
              "  </button>\n",
              "\n",
              "<style>\n",
              "  .colab-df-quickchart {\n",
              "      --bg-color: #E8F0FE;\n",
              "      --fill-color: #1967D2;\n",
              "      --hover-bg-color: #E2EBFA;\n",
              "      --hover-fill-color: #174EA6;\n",
              "      --disabled-fill-color: #AAA;\n",
              "      --disabled-bg-color: #DDD;\n",
              "  }\n",
              "\n",
              "  [theme=dark] .colab-df-quickchart {\n",
              "      --bg-color: #3B4455;\n",
              "      --fill-color: #D2E3FC;\n",
              "      --hover-bg-color: #434B5C;\n",
              "      --hover-fill-color: #FFFFFF;\n",
              "      --disabled-bg-color: #3B4455;\n",
              "      --disabled-fill-color: #666;\n",
              "  }\n",
              "\n",
              "  .colab-df-quickchart {\n",
              "    background-color: var(--bg-color);\n",
              "    border: none;\n",
              "    border-radius: 50%;\n",
              "    cursor: pointer;\n",
              "    display: none;\n",
              "    fill: var(--fill-color);\n",
              "    height: 32px;\n",
              "    padding: 0;\n",
              "    width: 32px;\n",
              "  }\n",
              "\n",
              "  .colab-df-quickchart:hover {\n",
              "    background-color: var(--hover-bg-color);\n",
              "    box-shadow: 0 1px 2px rgba(60, 64, 67, 0.3), 0 1px 3px 1px rgba(60, 64, 67, 0.15);\n",
              "    fill: var(--button-hover-fill-color);\n",
              "  }\n",
              "\n",
              "  .colab-df-quickchart-complete:disabled,\n",
              "  .colab-df-quickchart-complete:disabled:hover {\n",
              "    background-color: var(--disabled-bg-color);\n",
              "    fill: var(--disabled-fill-color);\n",
              "    box-shadow: none;\n",
              "  }\n",
              "\n",
              "  .colab-df-spinner {\n",
              "    border: 2px solid var(--fill-color);\n",
              "    border-color: transparent;\n",
              "    border-bottom-color: var(--fill-color);\n",
              "    animation:\n",
              "      spin 1s steps(1) infinite;\n",
              "  }\n",
              "\n",
              "  @keyframes spin {\n",
              "    0% {\n",
              "      border-color: transparent;\n",
              "      border-bottom-color: var(--fill-color);\n",
              "      border-left-color: var(--fill-color);\n",
              "    }\n",
              "    20% {\n",
              "      border-color: transparent;\n",
              "      border-left-color: var(--fill-color);\n",
              "      border-top-color: var(--fill-color);\n",
              "    }\n",
              "    30% {\n",
              "      border-color: transparent;\n",
              "      border-left-color: var(--fill-color);\n",
              "      border-top-color: var(--fill-color);\n",
              "      border-right-color: var(--fill-color);\n",
              "    }\n",
              "    40% {\n",
              "      border-color: transparent;\n",
              "      border-right-color: var(--fill-color);\n",
              "      border-top-color: var(--fill-color);\n",
              "    }\n",
              "    60% {\n",
              "      border-color: transparent;\n",
              "      border-right-color: var(--fill-color);\n",
              "    }\n",
              "    80% {\n",
              "      border-color: transparent;\n",
              "      border-right-color: var(--fill-color);\n",
              "      border-bottom-color: var(--fill-color);\n",
              "    }\n",
              "    90% {\n",
              "      border-color: transparent;\n",
              "      border-bottom-color: var(--fill-color);\n",
              "    }\n",
              "  }\n",
              "</style>\n",
              "\n",
              "  <script>\n",
              "    async function quickchart(key) {\n",
              "      const quickchartButtonEl =\n",
              "        document.querySelector('#' + key + ' button');\n",
              "      quickchartButtonEl.disabled = true;  // To prevent multiple clicks.\n",
              "      quickchartButtonEl.classList.add('colab-df-spinner');\n",
              "      try {\n",
              "        const charts = await google.colab.kernel.invokeFunction(\n",
              "            'suggestCharts', [key], {});\n",
              "      } catch (error) {\n",
              "        console.error('Error during call to suggestCharts:', error);\n",
              "      }\n",
              "      quickchartButtonEl.classList.remove('colab-df-spinner');\n",
              "      quickchartButtonEl.classList.add('colab-df-quickchart-complete');\n",
              "    }\n",
              "    (() => {\n",
              "      let quickchartButtonEl =\n",
              "        document.querySelector('#df-84ee7abe-492b-4a39-be98-7c7a89db584b button');\n",
              "      quickchartButtonEl.style.display =\n",
              "        google.colab.kernel.accessAllowed ? 'block' : 'none';\n",
              "    })();\n",
              "  </script>\n",
              "</div>\n",
              "    </div>\n",
              "  </div>\n"
            ]
          },
          "metadata": {},
          "execution_count": 391
        }
      ]
    },
    {
      "cell_type": "markdown",
      "source": [
        "Meglepő módon már az 5 kis szoba számot feltűntető hirdetések sem tűnnek helyes adatnak (a négyzetméterrel összevetve). Mivel ilyenből kevés van, ezektől inkább megszabadulok."
      ],
      "metadata": {
        "id": "11heBZhy-Hvi"
      }
    },
    {
      "cell_type": "code",
      "source": [
        "df = df[df['small_room_cnt'] < 5]"
      ],
      "metadata": {
        "id": "gFqNevPT-ijt"
      },
      "execution_count": null,
      "outputs": []
    },
    {
      "cell_type": "markdown",
      "source": [
        "##room_cnt\n",
        "NaN nincs. Az ötnél nagyobb szobaszámú adatokra külön ránézek. A -1 szobaszámot elírásnak tekintem és 1-re állítom.\n",
        "\n"
      ],
      "metadata": {
        "id": "3LzxX9z3_TEB"
      }
    },
    {
      "cell_type": "code",
      "source": [
        "df['room_cnt'].value_counts(dropna = False)"
      ],
      "metadata": {
        "colab": {
          "base_uri": "https://localhost:8080/"
        },
        "id": "YAuHjZf9_ZdZ",
        "outputId": "b1eff08b-c3dc-4df5-b4b9-5fd166f983a4"
      },
      "execution_count": null,
      "outputs": [
        {
          "output_type": "execute_result",
          "data": {
            "text/plain": [
              "1.0      103537\n",
              "2.0       66540\n",
              "3.0        8151\n",
              "0.0         650\n",
              "4.0         143\n",
              "5.0          18\n",
              "20.0          6\n",
              "11.0          4\n",
              "10.0          3\n",
              "6.0           3\n",
              "46.0          2\n",
              "88.0          1\n",
              "21.0          1\n",
              "62.0          1\n",
              "56.0          1\n",
              "63.0          1\n",
              "66.0          1\n",
              "35.0          1\n",
              "215.0         1\n",
              "32.0          1\n",
              "36.0          1\n",
              "12.0          1\n",
              "77.0          1\n",
              "Name: room_cnt, dtype: int64"
            ]
          },
          "metadata": {},
          "execution_count": 393
        }
      ]
    },
    {
      "cell_type": "code",
      "source": [
        "df_room = df[df['room_cnt'] >= 5]\n",
        "df_room.head()"
      ],
      "metadata": {
        "colab": {
          "base_uri": "https://localhost:8080/",
          "height": 296
        },
        "id": "z36xG2WUALaL",
        "outputId": "1b427bbc-089c-435d-cda2-4824d1d9bfdd"
      },
      "execution_count": null,
      "outputs": [
        {
          "output_type": "execute_result",
          "data": {
            "text/plain": [
              "       district  postcode property_type       property_subtype  \\\n",
              "4263        8.0       NaN          flat  brick flat (for sale)   \n",
              "5925        8.0    1085.0          flat  brick flat (for sale)   \n",
              "7828        8.0       NaN          flat  brick flat (for sale)   \n",
              "10439       9.0    1095.0          flat  brick flat (for sale)   \n",
              "10679       3.0       NaN          flat  brick flat (for sale)   \n",
              "\n",
              "      property_condition_type  property_floor building_floor_count  \\\n",
              "4263                     good             0.0                  NaN   \n",
              "5925                     good             2.0                  NaN   \n",
              "7828             missing_info             0.0                  NaN   \n",
              "10439        new_construction             0.0                    6   \n",
              "10679        new_construction             7.0                    8   \n",
              "\n",
              "            view_type orientation  garden_access  \\\n",
              "4263   courtyard view         NaN            0.0   \n",
              "5925      street view         NaN            0.0   \n",
              "7828              NaN         NaN            0.0   \n",
              "10439  courtyard view  south-east            0.0   \n",
              "10679       panoramic  south-west            0.0   \n",
              "\n",
              "                         heating_type elevator_type  room_cnt  small_room_cnt  \\\n",
              "4263                         electric           NaN       5.0             0.0   \n",
              "5925            konvection gas burner          none      10.0             0.0   \n",
              "7828                         electric           NaN       5.0             0.0   \n",
              "10439  central heating with own meter           yes      11.0             0.0   \n",
              "10679  central heating with own meter           yes      12.0             1.0   \n",
              "\n",
              "       created_at  property_area  balcony_area  price_created_at  ad_view_cnt  \\\n",
              "4263   2015-02-21           45.0           0.0              10.9        153.0   \n",
              "5925   2015-02-26           40.0           0.0              15.5        279.0   \n",
              "7828   2015-03-03           45.0           0.0              10.9         89.0   \n",
              "10439  2015-03-11           35.0           7.0              17.0        246.0   \n",
              "10679  2015-03-12           55.0           9.0              24.1        196.0   \n",
              "\n",
              "       active_days           nmAr     atlag_nmAr  \n",
              "4263          37.0  242222.222222  342655.840772  \n",
              "5925          18.0  387500.000000  342655.840772  \n",
              "7828          31.0  242222.222222  342655.840772  \n",
              "10439         28.0  441558.441558  426991.611425  \n",
              "10679         14.0  405042.016807  356631.852138  "
            ],
            "text/html": [
              "\n",
              "  <div id=\"df-152023a9-3f25-4b8e-8c8a-de87774f68d2\" class=\"colab-df-container\">\n",
              "    <div>\n",
              "<style scoped>\n",
              "    .dataframe tbody tr th:only-of-type {\n",
              "        vertical-align: middle;\n",
              "    }\n",
              "\n",
              "    .dataframe tbody tr th {\n",
              "        vertical-align: top;\n",
              "    }\n",
              "\n",
              "    .dataframe thead th {\n",
              "        text-align: right;\n",
              "    }\n",
              "</style>\n",
              "<table border=\"1\" class=\"dataframe\">\n",
              "  <thead>\n",
              "    <tr style=\"text-align: right;\">\n",
              "      <th></th>\n",
              "      <th>district</th>\n",
              "      <th>postcode</th>\n",
              "      <th>property_type</th>\n",
              "      <th>property_subtype</th>\n",
              "      <th>property_condition_type</th>\n",
              "      <th>property_floor</th>\n",
              "      <th>building_floor_count</th>\n",
              "      <th>view_type</th>\n",
              "      <th>orientation</th>\n",
              "      <th>garden_access</th>\n",
              "      <th>heating_type</th>\n",
              "      <th>elevator_type</th>\n",
              "      <th>room_cnt</th>\n",
              "      <th>small_room_cnt</th>\n",
              "      <th>created_at</th>\n",
              "      <th>property_area</th>\n",
              "      <th>balcony_area</th>\n",
              "      <th>price_created_at</th>\n",
              "      <th>ad_view_cnt</th>\n",
              "      <th>active_days</th>\n",
              "      <th>nmAr</th>\n",
              "      <th>atlag_nmAr</th>\n",
              "    </tr>\n",
              "  </thead>\n",
              "  <tbody>\n",
              "    <tr>\n",
              "      <th>4263</th>\n",
              "      <td>8.0</td>\n",
              "      <td>NaN</td>\n",
              "      <td>flat</td>\n",
              "      <td>brick flat (for sale)</td>\n",
              "      <td>good</td>\n",
              "      <td>0.0</td>\n",
              "      <td>NaN</td>\n",
              "      <td>courtyard view</td>\n",
              "      <td>NaN</td>\n",
              "      <td>0.0</td>\n",
              "      <td>electric</td>\n",
              "      <td>NaN</td>\n",
              "      <td>5.0</td>\n",
              "      <td>0.0</td>\n",
              "      <td>2015-02-21</td>\n",
              "      <td>45.0</td>\n",
              "      <td>0.0</td>\n",
              "      <td>10.9</td>\n",
              "      <td>153.0</td>\n",
              "      <td>37.0</td>\n",
              "      <td>242222.222222</td>\n",
              "      <td>342655.840772</td>\n",
              "    </tr>\n",
              "    <tr>\n",
              "      <th>5925</th>\n",
              "      <td>8.0</td>\n",
              "      <td>1085.0</td>\n",
              "      <td>flat</td>\n",
              "      <td>brick flat (for sale)</td>\n",
              "      <td>good</td>\n",
              "      <td>2.0</td>\n",
              "      <td>NaN</td>\n",
              "      <td>street view</td>\n",
              "      <td>NaN</td>\n",
              "      <td>0.0</td>\n",
              "      <td>konvection gas burner</td>\n",
              "      <td>none</td>\n",
              "      <td>10.0</td>\n",
              "      <td>0.0</td>\n",
              "      <td>2015-02-26</td>\n",
              "      <td>40.0</td>\n",
              "      <td>0.0</td>\n",
              "      <td>15.5</td>\n",
              "      <td>279.0</td>\n",
              "      <td>18.0</td>\n",
              "      <td>387500.000000</td>\n",
              "      <td>342655.840772</td>\n",
              "    </tr>\n",
              "    <tr>\n",
              "      <th>7828</th>\n",
              "      <td>8.0</td>\n",
              "      <td>NaN</td>\n",
              "      <td>flat</td>\n",
              "      <td>brick flat (for sale)</td>\n",
              "      <td>missing_info</td>\n",
              "      <td>0.0</td>\n",
              "      <td>NaN</td>\n",
              "      <td>NaN</td>\n",
              "      <td>NaN</td>\n",
              "      <td>0.0</td>\n",
              "      <td>electric</td>\n",
              "      <td>NaN</td>\n",
              "      <td>5.0</td>\n",
              "      <td>0.0</td>\n",
              "      <td>2015-03-03</td>\n",
              "      <td>45.0</td>\n",
              "      <td>0.0</td>\n",
              "      <td>10.9</td>\n",
              "      <td>89.0</td>\n",
              "      <td>31.0</td>\n",
              "      <td>242222.222222</td>\n",
              "      <td>342655.840772</td>\n",
              "    </tr>\n",
              "    <tr>\n",
              "      <th>10439</th>\n",
              "      <td>9.0</td>\n",
              "      <td>1095.0</td>\n",
              "      <td>flat</td>\n",
              "      <td>brick flat (for sale)</td>\n",
              "      <td>new_construction</td>\n",
              "      <td>0.0</td>\n",
              "      <td>6</td>\n",
              "      <td>courtyard view</td>\n",
              "      <td>south-east</td>\n",
              "      <td>0.0</td>\n",
              "      <td>central heating with own meter</td>\n",
              "      <td>yes</td>\n",
              "      <td>11.0</td>\n",
              "      <td>0.0</td>\n",
              "      <td>2015-03-11</td>\n",
              "      <td>35.0</td>\n",
              "      <td>7.0</td>\n",
              "      <td>17.0</td>\n",
              "      <td>246.0</td>\n",
              "      <td>28.0</td>\n",
              "      <td>441558.441558</td>\n",
              "      <td>426991.611425</td>\n",
              "    </tr>\n",
              "    <tr>\n",
              "      <th>10679</th>\n",
              "      <td>3.0</td>\n",
              "      <td>NaN</td>\n",
              "      <td>flat</td>\n",
              "      <td>brick flat (for sale)</td>\n",
              "      <td>new_construction</td>\n",
              "      <td>7.0</td>\n",
              "      <td>8</td>\n",
              "      <td>panoramic</td>\n",
              "      <td>south-west</td>\n",
              "      <td>0.0</td>\n",
              "      <td>central heating with own meter</td>\n",
              "      <td>yes</td>\n",
              "      <td>12.0</td>\n",
              "      <td>1.0</td>\n",
              "      <td>2015-03-12</td>\n",
              "      <td>55.0</td>\n",
              "      <td>9.0</td>\n",
              "      <td>24.1</td>\n",
              "      <td>196.0</td>\n",
              "      <td>14.0</td>\n",
              "      <td>405042.016807</td>\n",
              "      <td>356631.852138</td>\n",
              "    </tr>\n",
              "  </tbody>\n",
              "</table>\n",
              "</div>\n",
              "    <div class=\"colab-df-buttons\">\n",
              "\n",
              "  <div class=\"colab-df-container\">\n",
              "    <button class=\"colab-df-convert\" onclick=\"convertToInteractive('df-152023a9-3f25-4b8e-8c8a-de87774f68d2')\"\n",
              "            title=\"Convert this dataframe to an interactive table.\"\n",
              "            style=\"display:none;\">\n",
              "\n",
              "  <svg xmlns=\"http://www.w3.org/2000/svg\" height=\"24px\" viewBox=\"0 -960 960 960\">\n",
              "    <path d=\"M120-120v-720h720v720H120Zm60-500h600v-160H180v160Zm220 220h160v-160H400v160Zm0 220h160v-160H400v160ZM180-400h160v-160H180v160Zm440 0h160v-160H620v160ZM180-180h160v-160H180v160Zm440 0h160v-160H620v160Z\"/>\n",
              "  </svg>\n",
              "    </button>\n",
              "\n",
              "  <style>\n",
              "    .colab-df-container {\n",
              "      display:flex;\n",
              "      gap: 12px;\n",
              "    }\n",
              "\n",
              "    .colab-df-convert {\n",
              "      background-color: #E8F0FE;\n",
              "      border: none;\n",
              "      border-radius: 50%;\n",
              "      cursor: pointer;\n",
              "      display: none;\n",
              "      fill: #1967D2;\n",
              "      height: 32px;\n",
              "      padding: 0 0 0 0;\n",
              "      width: 32px;\n",
              "    }\n",
              "\n",
              "    .colab-df-convert:hover {\n",
              "      background-color: #E2EBFA;\n",
              "      box-shadow: 0px 1px 2px rgba(60, 64, 67, 0.3), 0px 1px 3px 1px rgba(60, 64, 67, 0.15);\n",
              "      fill: #174EA6;\n",
              "    }\n",
              "\n",
              "    .colab-df-buttons div {\n",
              "      margin-bottom: 4px;\n",
              "    }\n",
              "\n",
              "    [theme=dark] .colab-df-convert {\n",
              "      background-color: #3B4455;\n",
              "      fill: #D2E3FC;\n",
              "    }\n",
              "\n",
              "    [theme=dark] .colab-df-convert:hover {\n",
              "      background-color: #434B5C;\n",
              "      box-shadow: 0px 1px 3px 1px rgba(0, 0, 0, 0.15);\n",
              "      filter: drop-shadow(0px 1px 2px rgba(0, 0, 0, 0.3));\n",
              "      fill: #FFFFFF;\n",
              "    }\n",
              "  </style>\n",
              "\n",
              "    <script>\n",
              "      const buttonEl =\n",
              "        document.querySelector('#df-152023a9-3f25-4b8e-8c8a-de87774f68d2 button.colab-df-convert');\n",
              "      buttonEl.style.display =\n",
              "        google.colab.kernel.accessAllowed ? 'block' : 'none';\n",
              "\n",
              "      async function convertToInteractive(key) {\n",
              "        const element = document.querySelector('#df-152023a9-3f25-4b8e-8c8a-de87774f68d2');\n",
              "        const dataTable =\n",
              "          await google.colab.kernel.invokeFunction('convertToInteractive',\n",
              "                                                    [key], {});\n",
              "        if (!dataTable) return;\n",
              "\n",
              "        const docLinkHtml = 'Like what you see? Visit the ' +\n",
              "          '<a target=\"_blank\" href=https://colab.research.google.com/notebooks/data_table.ipynb>data table notebook</a>'\n",
              "          + ' to learn more about interactive tables.';\n",
              "        element.innerHTML = '';\n",
              "        dataTable['output_type'] = 'display_data';\n",
              "        await google.colab.output.renderOutput(dataTable, element);\n",
              "        const docLink = document.createElement('div');\n",
              "        docLink.innerHTML = docLinkHtml;\n",
              "        element.appendChild(docLink);\n",
              "      }\n",
              "    </script>\n",
              "  </div>\n",
              "\n",
              "\n",
              "<div id=\"df-a7a24bd0-7990-4d43-b7d6-a45caf125cc1\">\n",
              "  <button class=\"colab-df-quickchart\" onclick=\"quickchart('df-a7a24bd0-7990-4d43-b7d6-a45caf125cc1')\"\n",
              "            title=\"Suggest charts\"\n",
              "            style=\"display:none;\">\n",
              "\n",
              "<svg xmlns=\"http://www.w3.org/2000/svg\" height=\"24px\"viewBox=\"0 0 24 24\"\n",
              "     width=\"24px\">\n",
              "    <g>\n",
              "        <path d=\"M19 3H5c-1.1 0-2 .9-2 2v14c0 1.1.9 2 2 2h14c1.1 0 2-.9 2-2V5c0-1.1-.9-2-2-2zM9 17H7v-7h2v7zm4 0h-2V7h2v10zm4 0h-2v-4h2v4z\"/>\n",
              "    </g>\n",
              "</svg>\n",
              "  </button>\n",
              "\n",
              "<style>\n",
              "  .colab-df-quickchart {\n",
              "      --bg-color: #E8F0FE;\n",
              "      --fill-color: #1967D2;\n",
              "      --hover-bg-color: #E2EBFA;\n",
              "      --hover-fill-color: #174EA6;\n",
              "      --disabled-fill-color: #AAA;\n",
              "      --disabled-bg-color: #DDD;\n",
              "  }\n",
              "\n",
              "  [theme=dark] .colab-df-quickchart {\n",
              "      --bg-color: #3B4455;\n",
              "      --fill-color: #D2E3FC;\n",
              "      --hover-bg-color: #434B5C;\n",
              "      --hover-fill-color: #FFFFFF;\n",
              "      --disabled-bg-color: #3B4455;\n",
              "      --disabled-fill-color: #666;\n",
              "  }\n",
              "\n",
              "  .colab-df-quickchart {\n",
              "    background-color: var(--bg-color);\n",
              "    border: none;\n",
              "    border-radius: 50%;\n",
              "    cursor: pointer;\n",
              "    display: none;\n",
              "    fill: var(--fill-color);\n",
              "    height: 32px;\n",
              "    padding: 0;\n",
              "    width: 32px;\n",
              "  }\n",
              "\n",
              "  .colab-df-quickchart:hover {\n",
              "    background-color: var(--hover-bg-color);\n",
              "    box-shadow: 0 1px 2px rgba(60, 64, 67, 0.3), 0 1px 3px 1px rgba(60, 64, 67, 0.15);\n",
              "    fill: var(--button-hover-fill-color);\n",
              "  }\n",
              "\n",
              "  .colab-df-quickchart-complete:disabled,\n",
              "  .colab-df-quickchart-complete:disabled:hover {\n",
              "    background-color: var(--disabled-bg-color);\n",
              "    fill: var(--disabled-fill-color);\n",
              "    box-shadow: none;\n",
              "  }\n",
              "\n",
              "  .colab-df-spinner {\n",
              "    border: 2px solid var(--fill-color);\n",
              "    border-color: transparent;\n",
              "    border-bottom-color: var(--fill-color);\n",
              "    animation:\n",
              "      spin 1s steps(1) infinite;\n",
              "  }\n",
              "\n",
              "  @keyframes spin {\n",
              "    0% {\n",
              "      border-color: transparent;\n",
              "      border-bottom-color: var(--fill-color);\n",
              "      border-left-color: var(--fill-color);\n",
              "    }\n",
              "    20% {\n",
              "      border-color: transparent;\n",
              "      border-left-color: var(--fill-color);\n",
              "      border-top-color: var(--fill-color);\n",
              "    }\n",
              "    30% {\n",
              "      border-color: transparent;\n",
              "      border-left-color: var(--fill-color);\n",
              "      border-top-color: var(--fill-color);\n",
              "      border-right-color: var(--fill-color);\n",
              "    }\n",
              "    40% {\n",
              "      border-color: transparent;\n",
              "      border-right-color: var(--fill-color);\n",
              "      border-top-color: var(--fill-color);\n",
              "    }\n",
              "    60% {\n",
              "      border-color: transparent;\n",
              "      border-right-color: var(--fill-color);\n",
              "    }\n",
              "    80% {\n",
              "      border-color: transparent;\n",
              "      border-right-color: var(--fill-color);\n",
              "      border-bottom-color: var(--fill-color);\n",
              "    }\n",
              "    90% {\n",
              "      border-color: transparent;\n",
              "      border-bottom-color: var(--fill-color);\n",
              "    }\n",
              "  }\n",
              "</style>\n",
              "\n",
              "  <script>\n",
              "    async function quickchart(key) {\n",
              "      const quickchartButtonEl =\n",
              "        document.querySelector('#' + key + ' button');\n",
              "      quickchartButtonEl.disabled = true;  // To prevent multiple clicks.\n",
              "      quickchartButtonEl.classList.add('colab-df-spinner');\n",
              "      try {\n",
              "        const charts = await google.colab.kernel.invokeFunction(\n",
              "            'suggestCharts', [key], {});\n",
              "      } catch (error) {\n",
              "        console.error('Error during call to suggestCharts:', error);\n",
              "      }\n",
              "      quickchartButtonEl.classList.remove('colab-df-spinner');\n",
              "      quickchartButtonEl.classList.add('colab-df-quickchart-complete');\n",
              "    }\n",
              "    (() => {\n",
              "      let quickchartButtonEl =\n",
              "        document.querySelector('#df-a7a24bd0-7990-4d43-b7d6-a45caf125cc1 button');\n",
              "      quickchartButtonEl.style.display =\n",
              "        google.colab.kernel.accessAllowed ? 'block' : 'none';\n",
              "    })();\n",
              "  </script>\n",
              "</div>\n",
              "    </div>\n",
              "  </div>\n"
            ]
          },
          "metadata": {},
          "execution_count": 394
        }
      ]
    },
    {
      "cell_type": "markdown",
      "source": [
        "Az 5 szobaszámot feltűntető hirdetések sem tűnnek helyes adatnak (a négyzetméterrel összevetve). Mivel ilyenekből is kevés van, ezektől is megszabadulok."
      ],
      "metadata": {
        "id": "EE7Q3xxeA5Ro"
      }
    },
    {
      "cell_type": "code",
      "source": [
        "df = df[df['room_cnt'] < 5]"
      ],
      "metadata": {
        "id": "paHnFDEsBCPX"
      },
      "execution_count": null,
      "outputs": []
    },
    {
      "cell_type": "code",
      "source": [
        "room_count_max = df['room_cnt'].max()\n",
        "room_count_max"
      ],
      "metadata": {
        "colab": {
          "base_uri": "https://localhost:8080/"
        },
        "id": "Rqqrgerla5Qf",
        "outputId": "519d8a7d-fca7-4389-8912-509da3da72e8"
      },
      "execution_count": null,
      "outputs": [
        {
          "output_type": "execute_result",
          "data": {
            "text/plain": [
              "4.0"
            ]
          },
          "metadata": {},
          "execution_count": 396
        }
      ]
    },
    {
      "cell_type": "markdown",
      "source": [
        "##room_cnt + small_room_cnt = 0\n",
        "Mivel a szobaszám fontos adat a célváltozó becsléséhez, megnézem, hogy hány olyan eset van, ahol az összesített szobaszám nem éri el az 1-et. Ezeket eltávolítom."
      ],
      "metadata": {
        "id": "PxBlJB0VBmOf"
      }
    },
    {
      "cell_type": "code",
      "source": [
        "no_room = df[(df['room_cnt'] + df['small_room_cnt']) < 1]"
      ],
      "metadata": {
        "id": "QDAyj1xqB_7_"
      },
      "execution_count": null,
      "outputs": []
    },
    {
      "cell_type": "code",
      "source": [
        "no_room.head()"
      ],
      "metadata": {
        "colab": {
          "base_uri": "https://localhost:8080/",
          "height": 348
        },
        "id": "S03rdZItCnrj",
        "outputId": "45427388-116c-4c50-f4e2-32daf9c7e083"
      },
      "execution_count": null,
      "outputs": [
        {
          "output_type": "execute_result",
          "data": {
            "text/plain": [
              "       district  postcode property_type       property_subtype  \\\n",
              "52882       7.0       NaN          flat  brick flat (for sale)   \n",
              "65723      22.0       NaN          flat  brick flat (for sale)   \n",
              "92579       8.0       NaN          flat  brick flat (for sale)   \n",
              "93021       2.0    1023.0          flat  brick flat (for sale)   \n",
              "95039       1.0    1016.0          flat  brick flat (for sale)   \n",
              "\n",
              "      property_condition_type  property_floor building_floor_count  \\\n",
              "52882             can_move_in             1.0                    3   \n",
              "65723                 renewed             0.0                    3   \n",
              "92579                    good             0.0                    2   \n",
              "93021             can_move_in             2.0                    2   \n",
              "95039                   novel             0.0                  NaN   \n",
              "\n",
              "            view_type orientation  garden_access  \\\n",
              "52882  courtyard view         NaN            0.0   \n",
              "65723     garden view  south-west            0.0   \n",
              "92579  courtyard view  south-west            0.0   \n",
              "93021     garden view       south            0.0   \n",
              "95039             NaN         NaN            0.0   \n",
              "\n",
              "                             heating_type elevator_type  room_cnt  \\\n",
              "52882  gas furnace, circulating hot water          none       0.0   \n",
              "65723  gas furnace, circulating hot water          none       0.0   \n",
              "92579                            electric          none       0.0   \n",
              "93021               konvection gas burner          none       0.0   \n",
              "95039               konvection gas burner           NaN       0.0   \n",
              "\n",
              "       small_room_cnt  created_at  property_area  balcony_area  \\\n",
              "52882             0.0  2015-07-12           60.0           0.0   \n",
              "65723             0.0  2015-08-23           40.0           0.0   \n",
              "92579             0.0  2015-10-28           10.0           0.0   \n",
              "93021             0.0  2015-10-29           55.0           3.0   \n",
              "95039             0.0  2015-11-04           15.0           0.0   \n",
              "\n",
              "       price_created_at  ad_view_cnt  active_days           nmAr  \\\n",
              "52882              20.5        667.0         16.0  341666.666667   \n",
              "65723              13.8        612.0        135.0  345000.000000   \n",
              "92579               3.6        186.0         16.0  360000.000000   \n",
              "93021              30.0        893.0         78.0  530973.451327   \n",
              "95039              10.5        147.0         20.0  700000.000000   \n",
              "\n",
              "          atlag_nmAr  \n",
              "52882  437966.116162  \n",
              "65723  305253.501957  \n",
              "92579  342655.840772  \n",
              "93021  501418.069779  \n",
              "95039  535732.804348  "
            ],
            "text/html": [
              "\n",
              "  <div id=\"df-bde24ea8-3867-44c2-93f1-40d46760bd64\" class=\"colab-df-container\">\n",
              "    <div>\n",
              "<style scoped>\n",
              "    .dataframe tbody tr th:only-of-type {\n",
              "        vertical-align: middle;\n",
              "    }\n",
              "\n",
              "    .dataframe tbody tr th {\n",
              "        vertical-align: top;\n",
              "    }\n",
              "\n",
              "    .dataframe thead th {\n",
              "        text-align: right;\n",
              "    }\n",
              "</style>\n",
              "<table border=\"1\" class=\"dataframe\">\n",
              "  <thead>\n",
              "    <tr style=\"text-align: right;\">\n",
              "      <th></th>\n",
              "      <th>district</th>\n",
              "      <th>postcode</th>\n",
              "      <th>property_type</th>\n",
              "      <th>property_subtype</th>\n",
              "      <th>property_condition_type</th>\n",
              "      <th>property_floor</th>\n",
              "      <th>building_floor_count</th>\n",
              "      <th>view_type</th>\n",
              "      <th>orientation</th>\n",
              "      <th>garden_access</th>\n",
              "      <th>heating_type</th>\n",
              "      <th>elevator_type</th>\n",
              "      <th>room_cnt</th>\n",
              "      <th>small_room_cnt</th>\n",
              "      <th>created_at</th>\n",
              "      <th>property_area</th>\n",
              "      <th>balcony_area</th>\n",
              "      <th>price_created_at</th>\n",
              "      <th>ad_view_cnt</th>\n",
              "      <th>active_days</th>\n",
              "      <th>nmAr</th>\n",
              "      <th>atlag_nmAr</th>\n",
              "    </tr>\n",
              "  </thead>\n",
              "  <tbody>\n",
              "    <tr>\n",
              "      <th>52882</th>\n",
              "      <td>7.0</td>\n",
              "      <td>NaN</td>\n",
              "      <td>flat</td>\n",
              "      <td>brick flat (for sale)</td>\n",
              "      <td>can_move_in</td>\n",
              "      <td>1.0</td>\n",
              "      <td>3</td>\n",
              "      <td>courtyard view</td>\n",
              "      <td>NaN</td>\n",
              "      <td>0.0</td>\n",
              "      <td>gas furnace, circulating hot water</td>\n",
              "      <td>none</td>\n",
              "      <td>0.0</td>\n",
              "      <td>0.0</td>\n",
              "      <td>2015-07-12</td>\n",
              "      <td>60.0</td>\n",
              "      <td>0.0</td>\n",
              "      <td>20.5</td>\n",
              "      <td>667.0</td>\n",
              "      <td>16.0</td>\n",
              "      <td>341666.666667</td>\n",
              "      <td>437966.116162</td>\n",
              "    </tr>\n",
              "    <tr>\n",
              "      <th>65723</th>\n",
              "      <td>22.0</td>\n",
              "      <td>NaN</td>\n",
              "      <td>flat</td>\n",
              "      <td>brick flat (for sale)</td>\n",
              "      <td>renewed</td>\n",
              "      <td>0.0</td>\n",
              "      <td>3</td>\n",
              "      <td>garden view</td>\n",
              "      <td>south-west</td>\n",
              "      <td>0.0</td>\n",
              "      <td>gas furnace, circulating hot water</td>\n",
              "      <td>none</td>\n",
              "      <td>0.0</td>\n",
              "      <td>0.0</td>\n",
              "      <td>2015-08-23</td>\n",
              "      <td>40.0</td>\n",
              "      <td>0.0</td>\n",
              "      <td>13.8</td>\n",
              "      <td>612.0</td>\n",
              "      <td>135.0</td>\n",
              "      <td>345000.000000</td>\n",
              "      <td>305253.501957</td>\n",
              "    </tr>\n",
              "    <tr>\n",
              "      <th>92579</th>\n",
              "      <td>8.0</td>\n",
              "      <td>NaN</td>\n",
              "      <td>flat</td>\n",
              "      <td>brick flat (for sale)</td>\n",
              "      <td>good</td>\n",
              "      <td>0.0</td>\n",
              "      <td>2</td>\n",
              "      <td>courtyard view</td>\n",
              "      <td>south-west</td>\n",
              "      <td>0.0</td>\n",
              "      <td>electric</td>\n",
              "      <td>none</td>\n",
              "      <td>0.0</td>\n",
              "      <td>0.0</td>\n",
              "      <td>2015-10-28</td>\n",
              "      <td>10.0</td>\n",
              "      <td>0.0</td>\n",
              "      <td>3.6</td>\n",
              "      <td>186.0</td>\n",
              "      <td>16.0</td>\n",
              "      <td>360000.000000</td>\n",
              "      <td>342655.840772</td>\n",
              "    </tr>\n",
              "    <tr>\n",
              "      <th>93021</th>\n",
              "      <td>2.0</td>\n",
              "      <td>1023.0</td>\n",
              "      <td>flat</td>\n",
              "      <td>brick flat (for sale)</td>\n",
              "      <td>can_move_in</td>\n",
              "      <td>2.0</td>\n",
              "      <td>2</td>\n",
              "      <td>garden view</td>\n",
              "      <td>south</td>\n",
              "      <td>0.0</td>\n",
              "      <td>konvection gas burner</td>\n",
              "      <td>none</td>\n",
              "      <td>0.0</td>\n",
              "      <td>0.0</td>\n",
              "      <td>2015-10-29</td>\n",
              "      <td>55.0</td>\n",
              "      <td>3.0</td>\n",
              "      <td>30.0</td>\n",
              "      <td>893.0</td>\n",
              "      <td>78.0</td>\n",
              "      <td>530973.451327</td>\n",
              "      <td>501418.069779</td>\n",
              "    </tr>\n",
              "    <tr>\n",
              "      <th>95039</th>\n",
              "      <td>1.0</td>\n",
              "      <td>1016.0</td>\n",
              "      <td>flat</td>\n",
              "      <td>brick flat (for sale)</td>\n",
              "      <td>novel</td>\n",
              "      <td>0.0</td>\n",
              "      <td>NaN</td>\n",
              "      <td>NaN</td>\n",
              "      <td>NaN</td>\n",
              "      <td>0.0</td>\n",
              "      <td>konvection gas burner</td>\n",
              "      <td>NaN</td>\n",
              "      <td>0.0</td>\n",
              "      <td>0.0</td>\n",
              "      <td>2015-11-04</td>\n",
              "      <td>15.0</td>\n",
              "      <td>0.0</td>\n",
              "      <td>10.5</td>\n",
              "      <td>147.0</td>\n",
              "      <td>20.0</td>\n",
              "      <td>700000.000000</td>\n",
              "      <td>535732.804348</td>\n",
              "    </tr>\n",
              "  </tbody>\n",
              "</table>\n",
              "</div>\n",
              "    <div class=\"colab-df-buttons\">\n",
              "\n",
              "  <div class=\"colab-df-container\">\n",
              "    <button class=\"colab-df-convert\" onclick=\"convertToInteractive('df-bde24ea8-3867-44c2-93f1-40d46760bd64')\"\n",
              "            title=\"Convert this dataframe to an interactive table.\"\n",
              "            style=\"display:none;\">\n",
              "\n",
              "  <svg xmlns=\"http://www.w3.org/2000/svg\" height=\"24px\" viewBox=\"0 -960 960 960\">\n",
              "    <path d=\"M120-120v-720h720v720H120Zm60-500h600v-160H180v160Zm220 220h160v-160H400v160Zm0 220h160v-160H400v160ZM180-400h160v-160H180v160Zm440 0h160v-160H620v160ZM180-180h160v-160H180v160Zm440 0h160v-160H620v160Z\"/>\n",
              "  </svg>\n",
              "    </button>\n",
              "\n",
              "  <style>\n",
              "    .colab-df-container {\n",
              "      display:flex;\n",
              "      gap: 12px;\n",
              "    }\n",
              "\n",
              "    .colab-df-convert {\n",
              "      background-color: #E8F0FE;\n",
              "      border: none;\n",
              "      border-radius: 50%;\n",
              "      cursor: pointer;\n",
              "      display: none;\n",
              "      fill: #1967D2;\n",
              "      height: 32px;\n",
              "      padding: 0 0 0 0;\n",
              "      width: 32px;\n",
              "    }\n",
              "\n",
              "    .colab-df-convert:hover {\n",
              "      background-color: #E2EBFA;\n",
              "      box-shadow: 0px 1px 2px rgba(60, 64, 67, 0.3), 0px 1px 3px 1px rgba(60, 64, 67, 0.15);\n",
              "      fill: #174EA6;\n",
              "    }\n",
              "\n",
              "    .colab-df-buttons div {\n",
              "      margin-bottom: 4px;\n",
              "    }\n",
              "\n",
              "    [theme=dark] .colab-df-convert {\n",
              "      background-color: #3B4455;\n",
              "      fill: #D2E3FC;\n",
              "    }\n",
              "\n",
              "    [theme=dark] .colab-df-convert:hover {\n",
              "      background-color: #434B5C;\n",
              "      box-shadow: 0px 1px 3px 1px rgba(0, 0, 0, 0.15);\n",
              "      filter: drop-shadow(0px 1px 2px rgba(0, 0, 0, 0.3));\n",
              "      fill: #FFFFFF;\n",
              "    }\n",
              "  </style>\n",
              "\n",
              "    <script>\n",
              "      const buttonEl =\n",
              "        document.querySelector('#df-bde24ea8-3867-44c2-93f1-40d46760bd64 button.colab-df-convert');\n",
              "      buttonEl.style.display =\n",
              "        google.colab.kernel.accessAllowed ? 'block' : 'none';\n",
              "\n",
              "      async function convertToInteractive(key) {\n",
              "        const element = document.querySelector('#df-bde24ea8-3867-44c2-93f1-40d46760bd64');\n",
              "        const dataTable =\n",
              "          await google.colab.kernel.invokeFunction('convertToInteractive',\n",
              "                                                    [key], {});\n",
              "        if (!dataTable) return;\n",
              "\n",
              "        const docLinkHtml = 'Like what you see? Visit the ' +\n",
              "          '<a target=\"_blank\" href=https://colab.research.google.com/notebooks/data_table.ipynb>data table notebook</a>'\n",
              "          + ' to learn more about interactive tables.';\n",
              "        element.innerHTML = '';\n",
              "        dataTable['output_type'] = 'display_data';\n",
              "        await google.colab.output.renderOutput(dataTable, element);\n",
              "        const docLink = document.createElement('div');\n",
              "        docLink.innerHTML = docLinkHtml;\n",
              "        element.appendChild(docLink);\n",
              "      }\n",
              "    </script>\n",
              "  </div>\n",
              "\n",
              "\n",
              "<div id=\"df-2534d327-86cd-4f4a-97e4-383fc09245a0\">\n",
              "  <button class=\"colab-df-quickchart\" onclick=\"quickchart('df-2534d327-86cd-4f4a-97e4-383fc09245a0')\"\n",
              "            title=\"Suggest charts\"\n",
              "            style=\"display:none;\">\n",
              "\n",
              "<svg xmlns=\"http://www.w3.org/2000/svg\" height=\"24px\"viewBox=\"0 0 24 24\"\n",
              "     width=\"24px\">\n",
              "    <g>\n",
              "        <path d=\"M19 3H5c-1.1 0-2 .9-2 2v14c0 1.1.9 2 2 2h14c1.1 0 2-.9 2-2V5c0-1.1-.9-2-2-2zM9 17H7v-7h2v7zm4 0h-2V7h2v10zm4 0h-2v-4h2v4z\"/>\n",
              "    </g>\n",
              "</svg>\n",
              "  </button>\n",
              "\n",
              "<style>\n",
              "  .colab-df-quickchart {\n",
              "      --bg-color: #E8F0FE;\n",
              "      --fill-color: #1967D2;\n",
              "      --hover-bg-color: #E2EBFA;\n",
              "      --hover-fill-color: #174EA6;\n",
              "      --disabled-fill-color: #AAA;\n",
              "      --disabled-bg-color: #DDD;\n",
              "  }\n",
              "\n",
              "  [theme=dark] .colab-df-quickchart {\n",
              "      --bg-color: #3B4455;\n",
              "      --fill-color: #D2E3FC;\n",
              "      --hover-bg-color: #434B5C;\n",
              "      --hover-fill-color: #FFFFFF;\n",
              "      --disabled-bg-color: #3B4455;\n",
              "      --disabled-fill-color: #666;\n",
              "  }\n",
              "\n",
              "  .colab-df-quickchart {\n",
              "    background-color: var(--bg-color);\n",
              "    border: none;\n",
              "    border-radius: 50%;\n",
              "    cursor: pointer;\n",
              "    display: none;\n",
              "    fill: var(--fill-color);\n",
              "    height: 32px;\n",
              "    padding: 0;\n",
              "    width: 32px;\n",
              "  }\n",
              "\n",
              "  .colab-df-quickchart:hover {\n",
              "    background-color: var(--hover-bg-color);\n",
              "    box-shadow: 0 1px 2px rgba(60, 64, 67, 0.3), 0 1px 3px 1px rgba(60, 64, 67, 0.15);\n",
              "    fill: var(--button-hover-fill-color);\n",
              "  }\n",
              "\n",
              "  .colab-df-quickchart-complete:disabled,\n",
              "  .colab-df-quickchart-complete:disabled:hover {\n",
              "    background-color: var(--disabled-bg-color);\n",
              "    fill: var(--disabled-fill-color);\n",
              "    box-shadow: none;\n",
              "  }\n",
              "\n",
              "  .colab-df-spinner {\n",
              "    border: 2px solid var(--fill-color);\n",
              "    border-color: transparent;\n",
              "    border-bottom-color: var(--fill-color);\n",
              "    animation:\n",
              "      spin 1s steps(1) infinite;\n",
              "  }\n",
              "\n",
              "  @keyframes spin {\n",
              "    0% {\n",
              "      border-color: transparent;\n",
              "      border-bottom-color: var(--fill-color);\n",
              "      border-left-color: var(--fill-color);\n",
              "    }\n",
              "    20% {\n",
              "      border-color: transparent;\n",
              "      border-left-color: var(--fill-color);\n",
              "      border-top-color: var(--fill-color);\n",
              "    }\n",
              "    30% {\n",
              "      border-color: transparent;\n",
              "      border-left-color: var(--fill-color);\n",
              "      border-top-color: var(--fill-color);\n",
              "      border-right-color: var(--fill-color);\n",
              "    }\n",
              "    40% {\n",
              "      border-color: transparent;\n",
              "      border-right-color: var(--fill-color);\n",
              "      border-top-color: var(--fill-color);\n",
              "    }\n",
              "    60% {\n",
              "      border-color: transparent;\n",
              "      border-right-color: var(--fill-color);\n",
              "    }\n",
              "    80% {\n",
              "      border-color: transparent;\n",
              "      border-right-color: var(--fill-color);\n",
              "      border-bottom-color: var(--fill-color);\n",
              "    }\n",
              "    90% {\n",
              "      border-color: transparent;\n",
              "      border-bottom-color: var(--fill-color);\n",
              "    }\n",
              "  }\n",
              "</style>\n",
              "\n",
              "  <script>\n",
              "    async function quickchart(key) {\n",
              "      const quickchartButtonEl =\n",
              "        document.querySelector('#' + key + ' button');\n",
              "      quickchartButtonEl.disabled = true;  // To prevent multiple clicks.\n",
              "      quickchartButtonEl.classList.add('colab-df-spinner');\n",
              "      try {\n",
              "        const charts = await google.colab.kernel.invokeFunction(\n",
              "            'suggestCharts', [key], {});\n",
              "      } catch (error) {\n",
              "        console.error('Error during call to suggestCharts:', error);\n",
              "      }\n",
              "      quickchartButtonEl.classList.remove('colab-df-spinner');\n",
              "      quickchartButtonEl.classList.add('colab-df-quickchart-complete');\n",
              "    }\n",
              "    (() => {\n",
              "      let quickchartButtonEl =\n",
              "        document.querySelector('#df-2534d327-86cd-4f4a-97e4-383fc09245a0 button');\n",
              "      quickchartButtonEl.style.display =\n",
              "        google.colab.kernel.accessAllowed ? 'block' : 'none';\n",
              "    })();\n",
              "  </script>\n",
              "</div>\n",
              "    </div>\n",
              "  </div>\n"
            ]
          },
          "metadata": {},
          "execution_count": 398
        }
      ]
    },
    {
      "cell_type": "code",
      "source": [
        "df = df[(df['room_cnt'] + df['small_room_cnt']) >= 1]"
      ],
      "metadata": {
        "id": "QcKOQZSuC0-u"
      },
      "execution_count": null,
      "outputs": []
    },
    {
      "cell_type": "markdown",
      "source": [
        "##building_floor_count\n",
        "A épület emeletszámának hiányzó adatára az egyik lehetséges becslés, ha a property_floor értékét kapják meg (amennyiben az nem pince vagy félemelet). Ha ez az érték nem áll rendelkezésre, adhatjuk a ertékek mediánját."
      ],
      "metadata": {
        "id": "vaShZFOHHZP0"
      }
    },
    {
      "cell_type": "code",
      "source": [
        "df['building_floor_count'].value_counts(dropna = False)"
      ],
      "metadata": {
        "colab": {
          "base_uri": "https://localhost:8080/"
        },
        "id": "oiUbi6RsHll8",
        "outputId": "4a4bf065-8381-4931-8e9f-f826c5b69033"
      },
      "execution_count": null,
      "outputs": [
        {
          "output_type": "execute_result",
          "data": {
            "text/plain": [
              "NaN             95152\n",
              "4               19485\n",
              "10              17943\n",
              "3               17771\n",
              "2                8011\n",
              "5                7197\n",
              "6                3716\n",
              "7                2552\n",
              "1                2223\n",
              "more than 10     1978\n",
              "9                1515\n",
              "8                1467\n",
              "Name: building_floor_count, dtype: int64"
            ]
          },
          "metadata": {},
          "execution_count": 400
        }
      ]
    },
    {
      "cell_type": "code",
      "source": [
        "df['building_floor_count'] = pd.to_numeric(df['building_floor_count'], errors='coerce')"
      ],
      "metadata": {
        "id": "3_134GU5K97d",
        "colab": {
          "base_uri": "https://localhost:8080/"
        },
        "outputId": "b82dd132-6549-4106-d868-5c9048573221"
      },
      "execution_count": null,
      "outputs": [
        {
          "output_type": "stream",
          "name": "stderr",
          "text": [
            "<ipython-input-401-8a2fd39f46d3>:1: SettingWithCopyWarning: \n",
            "A value is trying to be set on a copy of a slice from a DataFrame.\n",
            "Try using .loc[row_indexer,col_indexer] = value instead\n",
            "\n",
            "See the caveats in the documentation: https://pandas.pydata.org/pandas-docs/stable/user_guide/indexing.html#returning-a-view-versus-a-copy\n",
            "  df['building_floor_count'] = pd.to_numeric(df['building_floor_count'], errors='coerce')\n"
          ]
        }
      ]
    },
    {
      "cell_type": "code",
      "source": [
        "df['building_floor_count'] = df['building_floor_count'].apply(lambda x: 11.0 if x == 'more than 10' else x)"
      ],
      "metadata": {
        "id": "S4TbwIwmHhh-",
        "colab": {
          "base_uri": "https://localhost:8080/"
        },
        "outputId": "0078d364-6331-4083-f4e8-2efd1f1405e3"
      },
      "execution_count": null,
      "outputs": [
        {
          "output_type": "stream",
          "name": "stderr",
          "text": [
            "<ipython-input-402-63cabb922ddb>:1: SettingWithCopyWarning: \n",
            "A value is trying to be set on a copy of a slice from a DataFrame.\n",
            "Try using .loc[row_indexer,col_indexer] = value instead\n",
            "\n",
            "See the caveats in the documentation: https://pandas.pydata.org/pandas-docs/stable/user_guide/indexing.html#returning-a-view-versus-a-copy\n",
            "  df['building_floor_count'] = df['building_floor_count'].apply(lambda x: 11.0 if x == 'more than 10' else x)\n"
          ]
        }
      ]
    },
    {
      "cell_type": "code",
      "source": [
        "df['building_floor_count'] = df['building_floor_count'].fillna(df['property_floor'])"
      ],
      "metadata": {
        "id": "EBiwMM9BKKox"
      },
      "execution_count": null,
      "outputs": []
    },
    {
      "cell_type": "code",
      "source": [
        "building_floor_median = df['building_floor_count'].median()\n",
        "building_floor_median"
      ],
      "metadata": {
        "colab": {
          "base_uri": "https://localhost:8080/"
        },
        "id": "3sdGRXXILiVh",
        "outputId": "baf6a10e-d3af-451e-d541-0bb4cd85d202"
      },
      "execution_count": null,
      "outputs": [
        {
          "output_type": "execute_result",
          "data": {
            "text/plain": [
              "3.0"
            ]
          },
          "metadata": {},
          "execution_count": 404
        }
      ]
    },
    {
      "cell_type": "code",
      "source": [
        "df['building_floor_count'] = df['building_floor_count'].apply(lambda x: building_floor_median if x == -1 else x)"
      ],
      "metadata": {
        "id": "kqOB7IsoLqBR"
      },
      "execution_count": null,
      "outputs": []
    },
    {
      "cell_type": "code",
      "source": [
        "df['building_floor_count'] = df['building_floor_count'].apply(lambda x: building_floor_median if x == 0.5 else x)"
      ],
      "metadata": {
        "id": "6179jPyBMAW3"
      },
      "execution_count": null,
      "outputs": []
    },
    {
      "cell_type": "code",
      "source": [
        "df['building_floor_count'].value_counts(dropna = False)"
      ],
      "metadata": {
        "colab": {
          "base_uri": "https://localhost:8080/"
        },
        "id": "8G4Figx8JCjh",
        "outputId": "bc0ec572-1217-4387-ed37-4d777d89f77c"
      },
      "execution_count": null,
      "outputs": [
        {
          "output_type": "execute_result",
          "data": {
            "text/plain": [
              "3.0     36360\n",
              "2.0     29316\n",
              "4.0     26941\n",
              "1.0     20065\n",
              "10.0    20023\n",
              "0.0     15361\n",
              "5.0     11339\n",
              "6.0      6684\n",
              "7.0      4685\n",
              "9.0      3549\n",
              "8.0      3491\n",
              "11.0     1196\n",
              "Name: building_floor_count, dtype: int64"
            ]
          },
          "metadata": {},
          "execution_count": 407
        }
      ]
    },
    {
      "cell_type": "code",
      "source": [],
      "metadata": {
        "id": "f2BDtfu5Lfzc"
      },
      "execution_count": null,
      "outputs": []
    },
    {
      "cell_type": "markdown",
      "source": [
        "##elevator_type\n",
        "Tudomásom szerint 4 szintnél magasabb épületekben kötelező a lift, a NaN értékeket az épület emeletszáma alapján jósolom be."
      ],
      "metadata": {
        "id": "5WRSL-h3DLom"
      }
    },
    {
      "cell_type": "code",
      "source": [
        "df['elevator_type'].value_counts(dropna = False)"
      ],
      "metadata": {
        "colab": {
          "base_uri": "https://localhost:8080/"
        },
        "id": "bDsOMRTMEafI",
        "outputId": "a4f2116f-9aed-488c-8d7a-31950bb26662"
      },
      "execution_count": null,
      "outputs": [
        {
          "output_type": "execute_result",
          "data": {
            "text/plain": [
              "yes     79190\n",
              "none    67270\n",
              "NaN     32550\n",
              "Name: elevator_type, dtype: int64"
            ]
          },
          "metadata": {},
          "execution_count": 408
        }
      ]
    },
    {
      "cell_type": "code",
      "source": [
        "df['elevator_type'] = df['elevator_type'].apply(lambda x: 1.0 if x == 'yes' else x)\n",
        "df['elevator_type'] = df['elevator_type'].apply(lambda x: 0.0 if x == 'none' else x)"
      ],
      "metadata": {
        "id": "MDvwHtykGJLD"
      },
      "execution_count": null,
      "outputs": []
    },
    {
      "cell_type": "code",
      "source": [
        "df.loc[(df['building_floor_count'] >= 5) & (df['elevator_type'].isna()), 'elevator_type'] = 1.0"
      ],
      "metadata": {
        "id": "amKLIT8iFqhY"
      },
      "execution_count": null,
      "outputs": []
    },
    {
      "cell_type": "code",
      "source": [
        "df['elevator_type'] = df['elevator_type'].fillna(0.0)"
      ],
      "metadata": {
        "id": "I3jJCuToOJ-u"
      },
      "execution_count": null,
      "outputs": []
    },
    {
      "cell_type": "code",
      "source": [
        "df['elevator_type'].value_counts(dropna = False)"
      ],
      "metadata": {
        "colab": {
          "base_uri": "https://localhost:8080/"
        },
        "id": "BFKd_Cs-GhYj",
        "outputId": "531dfd4b-9437-406e-c3e8-09e8277b7d16"
      },
      "execution_count": null,
      "outputs": [
        {
          "output_type": "execute_result",
          "data": {
            "text/plain": [
              "0.0    95613\n",
              "1.0    83397\n",
              "Name: elevator_type, dtype: int64"
            ]
          },
          "metadata": {},
          "execution_count": 412
        }
      ]
    },
    {
      "cell_type": "markdown",
      "source": [
        "##view_type\n",
        "A NaN értékek nagyon nagy számban vannak jelen (45.25%), így ezt az adatot nem próbálom megbecsülni, inkább kiveszem a feature-k közül.\n"
      ],
      "metadata": {
        "id": "FTc_fT8OOqTr"
      }
    },
    {
      "cell_type": "code",
      "source": [
        "df['view_type'].value_counts(dropna = False)"
      ],
      "metadata": {
        "colab": {
          "base_uri": "https://localhost:8080/"
        },
        "id": "8a1UjFouOnZq",
        "outputId": "e48c15e3-11f8-4508-f6da-c08fca9ff66a"
      },
      "execution_count": null,
      "outputs": [
        {
          "output_type": "execute_result",
          "data": {
            "text/plain": [
              "NaN               80937\n",
              "street view       39302\n",
              "garden view       25300\n",
              "courtyard view    21979\n",
              "panoramic         11492\n",
              "Name: view_type, dtype: int64"
            ]
          },
          "metadata": {},
          "execution_count": 413
        }
      ]
    },
    {
      "cell_type": "code",
      "source": [
        "df = df.drop('view_type', axis=1)"
      ],
      "metadata": {
        "id": "jr4-8G3tTukF"
      },
      "execution_count": null,
      "outputs": []
    },
    {
      "cell_type": "markdown",
      "source": [
        "##property_condition_type\n",
        "Ezt az adatot érdemes ordinális skálaként kezelni, az alábbi értékekkel:<br>\n",
        "New construction – Új építésű: 7<br>\n",
        "Renewed – Felújított: 6<br>\n",
        "Novel – Újszerű: 5<br>\n",
        "Good – Jó: 4<br>\n",
        "Medium – Közepes: 3<br>\n",
        "Can move in – Beköltözhető: 2<br>\n",
        "To be renovated – Felújítandó: 1<br>\n",
        "Under construction – Félkész: 0<br>\n",
        "Missing info – Nincs adat<br>\n",
        "Utóbbit nagyvonalúan kiveszem az adathalmazból, mivel megbecsülése nehézkes."
      ],
      "metadata": {
        "id": "q68iBpTsXlZk"
      }
    },
    {
      "cell_type": "code",
      "source": [
        "df['property_condition_type'].value_counts(dropna = False)"
      ],
      "metadata": {
        "colab": {
          "base_uri": "https://localhost:8080/"
        },
        "id": "AadxL5z6XqpG",
        "outputId": "9167858c-fa9e-4e87-b732-db687b65b1af"
      },
      "execution_count": null,
      "outputs": [
        {
          "output_type": "execute_result",
          "data": {
            "text/plain": [
              "good                  61013\n",
              "novel                 35190\n",
              "renewed               27918\n",
              "medium                25451\n",
              "to_be_renovated       14124\n",
              "missing_info           7804\n",
              "new_construction       6454\n",
              "can_move_in            1027\n",
              "under_construction       29\n",
              "Name: property_condition_type, dtype: int64"
            ]
          },
          "metadata": {},
          "execution_count": 415
        }
      ]
    },
    {
      "cell_type": "code",
      "source": [
        "df = df[df['property_condition_type'] != 'missing_info']"
      ],
      "metadata": {
        "id": "xtFRo4JUagzk"
      },
      "execution_count": null,
      "outputs": []
    },
    {
      "cell_type": "code",
      "source": [
        "df['property_condition_type'] = df['property_condition_type'].apply(lambda x: 7.0 if x == 'new_construction' else x)\n",
        "df['property_condition_type'] = df['property_condition_type'].apply(lambda x: 6.0 if x == 'renewed' else x)\n",
        "df['property_condition_type'] = df['property_condition_type'].apply(lambda x: 5.0 if x == 'novel' else x)\n",
        "df['property_condition_type'] = df['property_condition_type'].apply(lambda x: 4.0 if x == 'good' else x)\n",
        "df['property_condition_type'] = df['property_condition_type'].apply(lambda x: 3.0 if x == 'medium' else x)\n",
        "df['property_condition_type'] = df['property_condition_type'].apply(lambda x: 2.0 if x == 'can_move_in' else x)\n",
        "df['property_condition_type'] = df['property_condition_type'].apply(lambda x: 1.0 if x == 'to_be_renovated' else x)\n",
        "df['property_condition_type'] = df['property_condition_type'].apply(lambda x: 0.0 if x == 'under_construction' else x)"
      ],
      "metadata": {
        "id": "2jLsBbFD43by"
      },
      "execution_count": null,
      "outputs": []
    },
    {
      "cell_type": "code",
      "source": [
        "df['property_condition_type'].value_counts(dropna = False)"
      ],
      "metadata": {
        "colab": {
          "base_uri": "https://localhost:8080/"
        },
        "id": "rLbmBsFI5z0j",
        "outputId": "a72ef37a-5a3b-4678-de04-765a5fe9b61c"
      },
      "execution_count": null,
      "outputs": [
        {
          "output_type": "execute_result",
          "data": {
            "text/plain": [
              "4.0    61013\n",
              "5.0    35190\n",
              "6.0    27918\n",
              "3.0    25451\n",
              "1.0    14124\n",
              "7.0     6454\n",
              "2.0     1027\n",
              "0.0       29\n",
              "Name: property_condition_type, dtype: int64"
            ]
          },
          "metadata": {},
          "execution_count": 418
        }
      ]
    },
    {
      "cell_type": "markdown",
      "source": [
        "##postcode\n",
        "Az irányítószám fontos feature lehet, mivel finomabb 'felbontást' ad, mint a kerület. A város+kerület megadja az első három számjegyet. A negyedik számjegyre jó becslést adhatna a városrész jellege, például az, hogy kertes vagy vagy lakótelep, de ezzel csak azt érnénk el, hogy az erre vonatkozó feature-öket belekódolnánk egy másik változóba is. Ennél jobb megoldásnak tűnik, ha a NaN értékek becsült irányítószámainak utolsó számjegyét a nem használt 0 számjegyre cseréljük. A meglévő valós irányítószámokkal valamivel így is nagyobb lesz az információtartalmuk mint pusztán a kerület számának."
      ],
      "metadata": {
        "id": "jip7uUUPbFGi"
      }
    },
    {
      "cell_type": "code",
      "source": [
        "df['postcode'].value_counts(dropna = False)"
      ],
      "metadata": {
        "colab": {
          "base_uri": "https://localhost:8080/"
        },
        "id": "sTBQtHeXbDyj",
        "outputId": "9a4c9e97-5b54-4b25-a691-5935c472d956"
      },
      "execution_count": null,
      "outputs": [
        {
          "output_type": "execute_result",
          "data": {
            "text/plain": [
              "NaN       63005\n",
              "1039.0     3137\n",
              "1135.0     3038\n",
              "1134.0     2306\n",
              "1144.0     2250\n",
              "          ...  \n",
              "1215.0       44\n",
              "1046.0       37\n",
              "1239.0       12\n",
              "1110.0        5\n",
              "1185.0        4\n",
              "Name: postcode, Length: 162, dtype: int64"
            ]
          },
          "metadata": {},
          "execution_count": 419
        }
      ]
    },
    {
      "cell_type": "code",
      "source": [
        "df.loc[df['postcode'].isna(), 'postcode'] = df['district'].apply(lambda x: 1000 + 10 * x)"
      ],
      "metadata": {
        "id": "fryHlz5jfRty"
      },
      "execution_count": null,
      "outputs": []
    },
    {
      "cell_type": "markdown",
      "source": [
        "##property_subtype\n",
        "Itt látható egy 'for rent' bejegyzés, azt töröljük, mert tévesen került a táblázatba. Ugyanígy teszünk a 2 'terraced house' bejegyzéssel, mert ez a feature végeredményben egy tégla-panel flagként működhet. A NaN értékek egy részének becslésére használuk az emeletszámot úgy, a 10 emeleteseket panelnek tekintjük. A hetedik emeletnél magasabban lévő lakásokkal is így teszünk. A maradékot elhagyjuk az adatokból."
      ],
      "metadata": {
        "id": "tO8JeVW-iVti"
      }
    },
    {
      "cell_type": "code",
      "source": [
        "df['property_subtype'].value_counts(dropna = False)"
      ],
      "metadata": {
        "colab": {
          "base_uri": "https://localhost:8080/"
        },
        "id": "oiPZup1DibMY",
        "outputId": "18b496bb-80a9-4863-c8d8-80936dda4e2d"
      },
      "execution_count": null,
      "outputs": [
        {
          "output_type": "execute_result",
          "data": {
            "text/plain": [
              "brick flat (for sale)                  124149\n",
              "prefabricated panel flat (for sale)     43608\n",
              "NaN                                      3446\n",
              "terraced house                              2\n",
              "prefabricated panel flat (for rent)         1\n",
              "Name: property_subtype, dtype: int64"
            ]
          },
          "metadata": {},
          "execution_count": 421
        }
      ]
    },
    {
      "cell_type": "code",
      "source": [
        "df = df[df['property_subtype'] != 'terraced house']"
      ],
      "metadata": {
        "id": "RRkpDUW9jXLV"
      },
      "execution_count": null,
      "outputs": []
    },
    {
      "cell_type": "code",
      "source": [
        "df = df[df['property_subtype'] != 'prefabricated panel flat (for rent)']"
      ],
      "metadata": {
        "id": "90utoQd9kHxU"
      },
      "execution_count": null,
      "outputs": []
    },
    {
      "cell_type": "code",
      "source": [
        "df.loc[(df['building_floor_count'] == 10) & (df['property_subtype'].isna()), 'property_subtype'] = 'prefabricated panel flat (for sale)'"
      ],
      "metadata": {
        "id": "WL56ehXDnOev"
      },
      "execution_count": null,
      "outputs": []
    },
    {
      "cell_type": "code",
      "source": [
        "df.loc[(df['property_floor'] >= 7) & (df['property_subtype'].isna()), 'property_subtype'] = 'prefabricated panel flat (for sale)'"
      ],
      "metadata": {
        "id": "0x7vaowOnp2s"
      },
      "execution_count": null,
      "outputs": []
    },
    {
      "cell_type": "code",
      "source": [
        "df = df.dropna(subset=['property_subtype'])"
      ],
      "metadata": {
        "id": "QQ1eay5boS6i"
      },
      "execution_count": null,
      "outputs": []
    },
    {
      "cell_type": "code",
      "source": [
        "df['property_subtype'] = df['property_subtype'].apply(lambda x: 0.0 if x == 'brick flat (for sale)' else 1.0)"
      ],
      "metadata": {
        "colab": {
          "base_uri": "https://localhost:8080/"
        },
        "id": "MV-NYCgUolgo",
        "outputId": "1122f392-4006-4447-ea67-8fcf5dae23e8"
      },
      "execution_count": null,
      "outputs": [
        {
          "output_type": "stream",
          "name": "stderr",
          "text": [
            "<ipython-input-427-3d7adf67542b>:1: SettingWithCopyWarning: \n",
            "A value is trying to be set on a copy of a slice from a DataFrame.\n",
            "Try using .loc[row_indexer,col_indexer] = value instead\n",
            "\n",
            "See the caveats in the documentation: https://pandas.pydata.org/pandas-docs/stable/user_guide/indexing.html#returning-a-view-versus-a-copy\n",
            "  df['property_subtype'] = df['property_subtype'].apply(lambda x: 0.0 if x == 'brick flat (for sale)' else 1.0)\n"
          ]
        }
      ]
    },
    {
      "cell_type": "code",
      "source": [
        "df = df.rename(columns={'property_subtype': 'panel_flag'})"
      ],
      "metadata": {
        "id": "UUijj9I-rN4a"
      },
      "execution_count": null,
      "outputs": []
    },
    {
      "cell_type": "code",
      "source": [
        "df['panel_flag'].value_counts(dropna = False)"
      ],
      "metadata": {
        "colab": {
          "base_uri": "https://localhost:8080/"
        },
        "id": "_N4OEIBXkPUs",
        "outputId": "2f729842-31c0-43fd-8df1-fb60bb147e05"
      },
      "execution_count": null,
      "outputs": [
        {
          "output_type": "execute_result",
          "data": {
            "text/plain": [
              "0.0    124149\n",
              "1.0     44501\n",
              "Name: panel_flag, dtype: int64"
            ]
          },
          "metadata": {},
          "execution_count": 429
        }
      ]
    },
    {
      "cell_type": "markdown",
      "source": [
        "##property_type\n",
        "Csak 'flat' bejegyzés található benne, tehát ez volt a szűrő a megkapott adatbázis generálásához. Töröljük."
      ],
      "metadata": {
        "id": "AnKOvJ_4k_UI"
      }
    },
    {
      "cell_type": "code",
      "source": [
        "df['property_type'].value_counts(dropna = False)"
      ],
      "metadata": {
        "colab": {
          "base_uri": "https://localhost:8080/"
        },
        "id": "FWSQrWORmdx5",
        "outputId": "3cb18224-7c2e-4e8f-95dd-19c08b98dbb2"
      },
      "execution_count": null,
      "outputs": [
        {
          "output_type": "execute_result",
          "data": {
            "text/plain": [
              "flat    168650\n",
              "Name: property_type, dtype: int64"
            ]
          },
          "metadata": {},
          "execution_count": 430
        }
      ]
    },
    {
      "cell_type": "code",
      "source": [
        "df = df.drop('property_type', axis=1)"
      ],
      "metadata": {
        "id": "8C-CWcegmRLt"
      },
      "execution_count": null,
      "outputs": []
    },
    {
      "cell_type": "markdown",
      "source": [
        "##orientation\n",
        "Elég sok a NaN érték, emiatt nem vagyok benne biztos, hogy használni fogom, mert az hiányzó értékek becslése nehézkes. Egyébként lehetne belőle ordinális skálát csinálni, ahol a legjobb értékeket a déli fekvésű világos lakások kapják, majd a dél-kelet és dél-nyugat a következő értéket... stb. A NaN vagy kaphat egy nullás értéket, vagy az értékek mediánját.  "
      ],
      "metadata": {
        "id": "nMOEO6D6p6rn"
      }
    },
    {
      "cell_type": "code",
      "source": [
        "df['orientation'].value_counts(dropna = False)"
      ],
      "metadata": {
        "colab": {
          "base_uri": "https://localhost:8080/"
        },
        "id": "SPU_EYzPpt0Z",
        "outputId": "ce80d08f-b8cb-4017-a563-43eceebd5f3e"
      },
      "execution_count": null,
      "outputs": [
        {
          "output_type": "execute_result",
          "data": {
            "text/plain": [
              "NaN           63294\n",
              "east          21421\n",
              "south-west    20007\n",
              "west          19220\n",
              "south-east    15618\n",
              "south         14427\n",
              "north-east     6934\n",
              "north-west     5545\n",
              "north          2184\n",
              "Name: orientation, dtype: int64"
            ]
          },
          "metadata": {},
          "execution_count": 432
        }
      ]
    },
    {
      "cell_type": "code",
      "source": [
        "df['orientation'] = df['orientation'].apply(lambda x: 5.0 if x == 'south' else x)\n",
        "df['orientation'] = df['orientation'].apply(lambda x: 4.0 if x == 'south-west' else x)\n",
        "df['orientation'] = df['orientation'].apply(lambda x: 4.0 if x == 'south-east' else x)\n",
        "df['orientation'] = df['orientation'].apply(lambda x: 3.0 if x == 'west' else x)\n",
        "df['orientation'] = df['orientation'].apply(lambda x: 3.0 if x == 'east' else x)\n",
        "df['orientation'] = df['orientation'].apply(lambda x: 2.0 if x == 'north-east' else x)\n",
        "df['orientation'] = df['orientation'].apply(lambda x: 2.0 if x == 'north-west' else x)\n",
        "df['orientation'] = df['orientation'].apply(lambda x: 1.0 if x == 'north' else x)\n"
      ],
      "metadata": {
        "id": "e-7ukb3ptgL4"
      },
      "execution_count": null,
      "outputs": []
    },
    {
      "cell_type": "code",
      "source": [
        "orient_mean = df['orientation'][df['orientation'].notna()].median()\n",
        "orient_mean"
      ],
      "metadata": {
        "colab": {
          "base_uri": "https://localhost:8080/"
        },
        "id": "rK6sfYddv8n8",
        "outputId": "089fab54-9c7a-4b78-f720-99181b1cdd5f"
      },
      "execution_count": null,
      "outputs": [
        {
          "output_type": "execute_result",
          "data": {
            "text/plain": [
              "3.0"
            ]
          },
          "metadata": {},
          "execution_count": 434
        }
      ]
    },
    {
      "cell_type": "code",
      "source": [
        "df['orientation'] = df['orientation'].fillna(3)"
      ],
      "metadata": {
        "id": "GK5dOzlXvRwq"
      },
      "execution_count": null,
      "outputs": []
    },
    {
      "cell_type": "code",
      "source": [
        "df['orientation'].value_counts(dropna = False)"
      ],
      "metadata": {
        "colab": {
          "base_uri": "https://localhost:8080/"
        },
        "id": "-jxgxYqxvU32",
        "outputId": "ec775e9e-c575-42a1-b81b-eb34fcdc53c8"
      },
      "execution_count": null,
      "outputs": [
        {
          "output_type": "execute_result",
          "data": {
            "text/plain": [
              "3.0    103935\n",
              "4.0     35625\n",
              "5.0     14427\n",
              "2.0     12479\n",
              "1.0      2184\n",
              "Name: orientation, dtype: int64"
            ]
          },
          "metadata": {},
          "execution_count": 436
        }
      ]
    },
    {
      "cell_type": "markdown",
      "source": [
        "##heating_type\n",
        "A NaN értékeket a panellakások esetében távfűtésre cserélem, mert panel esetén ez a legelterjedtebb. A maradék NaN-t gázkonvektorra cserélem, mert nem panel esetén az a legelterjedtebb.  "
      ],
      "metadata": {
        "id": "a3SJc3OjxqjT"
      }
    },
    {
      "cell_type": "code",
      "source": [
        "df['heating_type'].value_counts(dropna = False)"
      ],
      "metadata": {
        "colab": {
          "base_uri": "https://localhost:8080/"
        },
        "id": "h_5eqvYRxkfi",
        "outputId": "8696220f-c07c-4882-9922-6ca5c61e838b"
      },
      "execution_count": null,
      "outputs": [
        {
          "output_type": "execute_result",
          "data": {
            "text/plain": [
              "konvection gas burner                 47197\n",
              "gas furnace, circulating hot water    31816\n",
              "district heating                      27988\n",
              "NaN                                   22429\n",
              "central heating with own meter        18145\n",
              "central heating                       11383\n",
              "electric                               4627\n",
              "tile stove (gas)                       2839\n",
              "other                                  1979\n",
              "fan-coil                                225\n",
              "gas furnace                              21\n",
              "gas + solar                               1\n",
              "Name: heating_type, dtype: int64"
            ]
          },
          "metadata": {},
          "execution_count": 437
        }
      ]
    },
    {
      "cell_type": "code",
      "source": [
        "df.loc[(df['panel_flag'] == 1) & (df['heating_type'].isna()), 'heating_type'] = 'district heating'\n",
        "df['heating_type'] = df['heating_type'].fillna('konvection gas burner')"
      ],
      "metadata": {
        "id": "PJtz_ABXz72G"
      },
      "execution_count": null,
      "outputs": []
    },
    {
      "cell_type": "code",
      "source": [
        "df['heating_type'] = df['heating_type'].apply(lambda x: 'convection_gas' if x == 'konvection gas burner' else x)\n",
        "df['heating_type'] = df['heating_type'].apply(lambda x: 'gas_furnace_circulation' if x == 'gas furnace, circulating hot water' else x)\n",
        "df['heating_type'] = df['heating_type'].apply(lambda x: 'district_heat' if x == 'district heating' else x)\n",
        "df['heating_type'] = df['heating_type'].apply(lambda x: 'central_meter' if x == 'central heating with own meter' else x)\n",
        "df['heating_type'] = df['heating_type'].apply(lambda x: 'central' if x == 'central heating' else x)\n",
        "df['heating_type'] = df['heating_type'].apply(lambda x: 'electric' if x == 'electric' else x)\n",
        "df['heating_type'] = df['heating_type'].apply(lambda x: 'tile_stove' if x == 'tile stove (gas)' else x)\n",
        "df['heating_type'] = df['heating_type'].apply(lambda x: 'other' if x == 'other' else x)\n",
        "df['heating_type'] = df['heating_type'].apply(lambda x: 'fan_coil' if x == 'fan-coil' else x)\n",
        "df['heating_type'] = df['heating_type'].apply(lambda x: 'gas_furnace' if x == 'gas furnace' else x)\n",
        "df['heating_type'] = df['heating_type'].apply(lambda x: 'gas_solar' if x == 'gas + solar' else x)"
      ],
      "metadata": {
        "id": "egJBXH7x9CPL"
      },
      "execution_count": null,
      "outputs": []
    },
    {
      "cell_type": "code",
      "source": [
        "df['heating_type'].value_counts(dropna = False)"
      ],
      "metadata": {
        "colab": {
          "base_uri": "https://localhost:8080/"
        },
        "id": "fdF0yM_E0Nbd",
        "outputId": "1954bde1-8d34-42fd-cb6f-d682832b2e18"
      },
      "execution_count": null,
      "outputs": [
        {
          "output_type": "execute_result",
          "data": {
            "text/plain": [
              "convection_gas             54533\n",
              "district_heat              43081\n",
              "gas_furnace_circulation    31816\n",
              "central_meter              18145\n",
              "central                    11383\n",
              "electric                    4627\n",
              "tile_stove                  2839\n",
              "other                       1979\n",
              "fan_coil                     225\n",
              "gas_furnace                   21\n",
              "gas_solar                      1\n",
              "Name: heating_type, dtype: int64"
            ]
          },
          "metadata": {},
          "execution_count": 440
        }
      ]
    },
    {
      "cell_type": "markdown",
      "source": [
        "##ad_view_cnt & active_days\n",
        "Ezeket nem használuk"
      ],
      "metadata": {
        "id": "ULN7puVt68aU"
      }
    },
    {
      "cell_type": "code",
      "source": [
        "df.drop(['ad_view_cnt', 'active_days'], axis=1, inplace=True)"
      ],
      "metadata": {
        "id": "4-A6eHPq6olf"
      },
      "execution_count": null,
      "outputs": []
    },
    {
      "cell_type": "markdown",
      "source": [
        "##district dummies"
      ],
      "metadata": {
        "id": "U8UAhRPi7v3Q"
      }
    },
    {
      "cell_type": "code",
      "source": [
        "district_dummies = pd.get_dummies(df['district'], prefix='district_')\n",
        "df = pd.concat([df, district_dummies], axis=1)"
      ],
      "metadata": {
        "id": "EolOkqO972IP"
      },
      "execution_count": null,
      "outputs": []
    },
    {
      "cell_type": "markdown",
      "source": [
        "##heating_type dummies"
      ],
      "metadata": {
        "id": "nDkCo7N78v7B"
      }
    },
    {
      "cell_type": "code",
      "source": [
        "heating_dummies = pd.get_dummies(df['heating_type'], prefix='heat_')\n",
        "df = pd.concat([df, heating_dummies], axis=1)"
      ],
      "metadata": {
        "id": "60_Y3Nc181ov"
      },
      "execution_count": null,
      "outputs": []
    },
    {
      "cell_type": "markdown",
      "source": [
        "##created_at\n",
        "Kiszámoltam a daynum-ot (hány nap telt el az első nap óta az adott rekord időpontjában), majd modulo 7\n"
      ],
      "metadata": {
        "id": "9j_6yXeXc5Um"
      }
    },
    {
      "cell_type": "code",
      "source": [
        "df['created_at'].value_counts()"
      ],
      "metadata": {
        "colab": {
          "base_uri": "https://localhost:8080/"
        },
        "id": "5I8tn8BDHMBD",
        "outputId": "4e5976cb-5b4a-4899-900c-809092589bbb"
      },
      "execution_count": null,
      "outputs": [
        {
          "output_type": "execute_result",
          "data": {
            "text/plain": [
              "2015-10-20    831\n",
              "2016-01-12    796\n",
              "2015-10-06    668\n",
              "2015-06-04    639\n",
              "2015-10-05    599\n",
              "             ... \n",
              "2016-08-26     18\n",
              "2015-12-24     16\n",
              "2016-08-29      8\n",
              "2016-08-28      3\n",
              "2016-08-27      2\n",
              "Name: created_at, Length: 568, dtype: int64"
            ]
          },
          "metadata": {},
          "execution_count": 444
        }
      ]
    },
    {
      "cell_type": "code",
      "source": [
        "df['date'] = pd.to_datetime(df['created_at'])\n",
        "df['daynum'] = (df['date'] - df['date'].min()).dt.days\n",
        "df['daynum'].drop_duplicates().values"
      ],
      "metadata": {
        "id": "y_2wNNyzdYZm",
        "colab": {
          "base_uri": "https://localhost:8080/"
        },
        "outputId": "e2fdbc24-2445-4357-f51b-cf3e64dda747"
      },
      "execution_count": null,
      "outputs": [
        {
          "output_type": "execute_result",
          "data": {
            "text/plain": [
              "array([  0,   1,   2,   3,   4,   5,   6,   7,   8,   9,  10,  11,  12,\n",
              "        13,  14,  15,  16,  17,  18,  19,  20,  21,  22,  23,  24,  25,\n",
              "        26,  27,  28,  29,  30,  31,  32,  33,  34,  35,  36,  37,  38,\n",
              "        39,  40,  41,  42,  43,  44,  45,  46,  47,  48,  49,  50,  51,\n",
              "        52,  53,  54,  55,  56,  57,  58,  59,  60,  61,  62,  63,  64,\n",
              "        65,  66,  67,  68,  69,  70,  71,  72,  73,  74,  75,  76,  77,\n",
              "        78,  79,  80,  81,  82,  83,  84,  85,  86,  87,  88,  89,  90,\n",
              "        91,  92,  93,  94,  95,  96,  97,  98,  99, 100, 101, 102, 103,\n",
              "       104, 105, 106, 107, 108, 109, 110, 111, 112, 113, 114, 115, 116,\n",
              "       117, 118, 119, 120, 121, 122, 123, 124, 125, 126, 127, 128, 129,\n",
              "       130, 131, 132, 133, 134, 135, 136, 137, 138, 139, 140, 141, 142,\n",
              "       143, 144, 145, 146, 147, 148, 149, 150, 151, 152, 153, 154, 155,\n",
              "       156, 157, 158, 159, 160, 161, 162, 163, 164, 165, 166, 167, 168,\n",
              "       169, 170, 171, 172, 173, 174, 175, 176, 177, 178, 179, 180, 181,\n",
              "       182, 183, 184, 185, 186, 187, 188, 189, 190, 191, 192, 193, 194,\n",
              "       195, 196, 197, 198, 199, 200, 201, 202, 203, 204, 205, 206, 207,\n",
              "       208, 209, 210, 211, 212, 213, 214, 215, 216, 217, 218, 219, 220,\n",
              "       221, 222, 223, 224, 225, 226, 227, 228, 229, 230, 231, 232, 233,\n",
              "       234, 235, 236, 237, 238, 239, 240, 241, 242, 243, 244, 245, 246,\n",
              "       247, 248, 249, 250, 251, 252, 253, 254, 255, 256, 257, 258, 259,\n",
              "       260, 261, 262, 263, 264, 265, 266, 267, 268, 269, 270, 271, 272,\n",
              "       273, 274, 275, 276, 277, 278, 279, 280, 281, 282, 283, 284, 285,\n",
              "       286, 287, 288, 289, 290, 291, 292, 293, 294, 295, 296, 297, 298,\n",
              "       299, 300, 301, 302, 303, 304, 305, 306, 307, 308, 309, 310, 311,\n",
              "       312, 313, 314, 315, 316, 317, 318, 319, 320, 321, 322, 323, 324,\n",
              "       325, 326, 327, 328, 329, 330, 331, 332, 333, 334, 335, 336, 337,\n",
              "       338, 339, 340, 341, 342, 343, 344, 345, 346, 347, 348, 349, 350,\n",
              "       351, 352, 353, 354, 355, 356, 357, 358, 359, 360, 361, 362, 363,\n",
              "       364, 365, 366, 367, 368, 369, 370, 371, 372, 373, 374, 375, 376,\n",
              "       377, 378, 379, 380, 381, 382, 383, 384, 385, 386, 387, 388, 389,\n",
              "       390, 391, 392, 393, 394, 395, 396, 397, 398, 399, 400, 401, 402,\n",
              "       403, 404, 405, 406, 407, 408, 409, 410, 411, 412, 413, 414, 415,\n",
              "       416, 417, 418, 419, 420, 421, 422, 423, 424, 425, 426, 427, 428,\n",
              "       429, 430, 431, 432, 433, 434, 435, 436, 437, 438, 439, 440, 441,\n",
              "       442, 443, 444, 445, 446, 447, 448, 449, 450, 451, 452, 453, 454,\n",
              "       455, 456, 457, 458, 459, 460, 461, 462, 463, 464, 465, 466, 467,\n",
              "       468, 469, 470, 471, 472, 473, 474, 475, 476, 477, 478, 479, 480,\n",
              "       481, 482, 483, 484, 485, 486, 487, 488, 489, 490, 491, 492, 493,\n",
              "       494, 495, 496, 497, 498, 499, 500, 501, 502, 503, 504, 505, 506,\n",
              "       507, 508, 509, 510, 511, 512, 513, 514, 515, 516, 517, 518, 519,\n",
              "       520, 521, 522, 523, 524, 525, 526, 527, 528, 529, 530, 531, 532,\n",
              "       533, 534, 535, 536, 537, 538, 539, 540, 541, 542, 543, 544, 545,\n",
              "       546, 547, 548, 549, 550, 551, 552, 553, 554, 555, 556, 557, 558,\n",
              "       559, 560, 561, 562, 563, 564, 565, 566, 567])"
            ]
          },
          "metadata": {},
          "execution_count": 445
        }
      ]
    },
    {
      "cell_type": "code",
      "source": [
        "df['created_at_day'] = df['daynum'] % 7\n",
        "df['created_at_day'].value_counts()"
      ],
      "metadata": {
        "colab": {
          "base_uri": "https://localhost:8080/"
        },
        "id": "hSKr4R-AG2qH",
        "outputId": "7c905f42-f727-4f66-a4ae-ac0f86c43350"
      },
      "execution_count": null,
      "outputs": [
        {
          "output_type": "execute_result",
          "data": {
            "text/plain": [
              "1    33206\n",
              "2    31065\n",
              "3    29030\n",
              "0    28433\n",
              "4    25579\n",
              "6    10872\n",
              "5    10465\n",
              "Name: created_at_day, dtype: int64"
            ]
          },
          "metadata": {},
          "execution_count": 446
        }
      ]
    },
    {
      "cell_type": "markdown",
      "source": [
        "##Data check"
      ],
      "metadata": {
        "id": "zjWMZcAY_Lqh"
      }
    },
    {
      "cell_type": "code",
      "source": [
        "df"
      ],
      "metadata": {
        "colab": {
          "base_uri": "https://localhost:8080/",
          "height": 617
        },
        "id": "sw7Tp4hn_QLH",
        "outputId": "6a53412d-846c-4350-a7a9-98bdbe20ce51"
      },
      "execution_count": null,
      "outputs": [
        {
          "output_type": "execute_result",
          "data": {
            "text/plain": [
              "        district  postcode  panel_flag  property_condition_type  \\\n",
              "0            4.0    1040.0         1.0                      4.0   \n",
              "1           14.0    1147.0         0.0                      5.0   \n",
              "2           14.0    1140.0         0.0                      3.0   \n",
              "3            2.0    1024.0         0.0                      5.0   \n",
              "4           12.0    1126.0         0.0                      4.0   \n",
              "...          ...       ...         ...                      ...   \n",
              "183560       7.0    1076.0         0.0                      3.0   \n",
              "183561       7.0    1070.0         0.0                      1.0   \n",
              "183562       4.0    1040.0         0.0                      6.0   \n",
              "183563       4.0    1040.0         1.0                      6.0   \n",
              "183564       5.0    1052.0         0.0                      5.0   \n",
              "\n",
              "        property_floor  building_floor_count  orientation  garden_access  \\\n",
              "0                  3.0                  10.0          3.0            0.0   \n",
              "1                  0.0                   0.0          3.0            0.0   \n",
              "2                  4.0                   4.0          3.0            0.0   \n",
              "3                 -1.0                   3.0          3.0            0.0   \n",
              "4                  0.0                   0.0          3.0            0.0   \n",
              "...                ...                   ...          ...            ...   \n",
              "183560             0.0                   0.0          4.0            0.0   \n",
              "183561             2.0                   2.0          3.0            0.0   \n",
              "183562             0.0                   1.0          5.0            0.0   \n",
              "183563             1.0                   4.0          5.0            0.0   \n",
              "183564             1.0                   1.0          3.0            0.0   \n",
              "\n",
              "                   heating_type  elevator_type  room_cnt  small_room_cnt  \\\n",
              "0                 district_heat            1.0       1.0             1.0   \n",
              "1       gas_furnace_circulation            0.0       1.0             0.0   \n",
              "2                convection_gas            0.0       2.0             0.0   \n",
              "3                convection_gas            1.0       1.0             1.0   \n",
              "4       gas_furnace_circulation            0.0       1.0             2.0   \n",
              "...                         ...            ...       ...             ...   \n",
              "183560                 electric            0.0       1.0             0.0   \n",
              "183561           convection_gas            0.0       2.0             0.0   \n",
              "183562           convection_gas            0.0       1.0             0.0   \n",
              "183563            district_heat            0.0       2.0             1.0   \n",
              "183564           convection_gas            1.0       2.0             0.0   \n",
              "\n",
              "        created_at  property_area  balcony_area  price_created_at  \\\n",
              "0       2015-02-09           35.0           0.0               9.5   \n",
              "1       2015-02-09           35.0           0.0              11.2   \n",
              "2       2015-02-09           50.0           0.0              14.5   \n",
              "3       2015-02-09           50.0           0.0              15.3   \n",
              "4       2015-02-09           50.0           0.0              17.9   \n",
              "...            ...            ...           ...               ...   \n",
              "183560  2016-08-29           30.0           0.0              11.0   \n",
              "183561  2016-08-29           45.0           0.0              20.5   \n",
              "183562  2016-08-29           40.0           0.0               8.5   \n",
              "183563  2016-08-29           65.0           4.0              18.9   \n",
              "183564  2016-08-29           40.0           0.0              42.0   \n",
              "\n",
              "                nmAr     atlag_nmAr  district__1.0  district__2.0  \\\n",
              "0       2.714286e+05  300014.865030              0              0   \n",
              "1       3.200000e+05  363420.287835              0              0   \n",
              "2       2.900000e+05  363420.287835              0              0   \n",
              "3       3.060000e+05  501418.069779              0              1   \n",
              "4       3.580000e+05  489728.870508              0              0   \n",
              "...              ...            ...            ...            ...   \n",
              "183560  3.666667e+05  437966.116162              0              0   \n",
              "183561  4.555556e+05  437966.116162              0              0   \n",
              "183562  2.125000e+05  300014.865030              0              0   \n",
              "183563  2.820896e+05  300014.865030              0              0   \n",
              "183564  1.050000e+06  679420.287379              0              0   \n",
              "\n",
              "        district__3.0  district__4.0  district__5.0  district__6.0  \\\n",
              "0                   0              1              0              0   \n",
              "1                   0              0              0              0   \n",
              "2                   0              0              0              0   \n",
              "3                   0              0              0              0   \n",
              "4                   0              0              0              0   \n",
              "...               ...            ...            ...            ...   \n",
              "183560              0              0              0              0   \n",
              "183561              0              0              0              0   \n",
              "183562              0              1              0              0   \n",
              "183563              0              1              0              0   \n",
              "183564              0              0              1              0   \n",
              "\n",
              "        district__7.0  district__8.0  district__9.0  district__10.0  \\\n",
              "0                   0              0              0               0   \n",
              "1                   0              0              0               0   \n",
              "2                   0              0              0               0   \n",
              "3                   0              0              0               0   \n",
              "4                   0              0              0               0   \n",
              "...               ...            ...            ...             ...   \n",
              "183560              1              0              0               0   \n",
              "183561              1              0              0               0   \n",
              "183562              0              0              0               0   \n",
              "183563              0              0              0               0   \n",
              "183564              0              0              0               0   \n",
              "\n",
              "        district__11.0  district__12.0  district__13.0  district__14.0  \\\n",
              "0                    0               0               0               0   \n",
              "1                    0               0               0               1   \n",
              "2                    0               0               0               1   \n",
              "3                    0               0               0               0   \n",
              "4                    0               1               0               0   \n",
              "...                ...             ...             ...             ...   \n",
              "183560               0               0               0               0   \n",
              "183561               0               0               0               0   \n",
              "183562               0               0               0               0   \n",
              "183563               0               0               0               0   \n",
              "183564               0               0               0               0   \n",
              "\n",
              "        district__15.0  district__16.0  district__17.0  district__18.0  \\\n",
              "0                    0               0               0               0   \n",
              "1                    0               0               0               0   \n",
              "2                    0               0               0               0   \n",
              "3                    0               0               0               0   \n",
              "4                    0               0               0               0   \n",
              "...                ...             ...             ...             ...   \n",
              "183560               0               0               0               0   \n",
              "183561               0               0               0               0   \n",
              "183562               0               0               0               0   \n",
              "183563               0               0               0               0   \n",
              "183564               0               0               0               0   \n",
              "\n",
              "        district__19.0  district__20.0  district__21.0  district__22.0  \\\n",
              "0                    0               0               0               0   \n",
              "1                    0               0               0               0   \n",
              "2                    0               0               0               0   \n",
              "3                    0               0               0               0   \n",
              "4                    0               0               0               0   \n",
              "...                ...             ...             ...             ...   \n",
              "183560               0               0               0               0   \n",
              "183561               0               0               0               0   \n",
              "183562               0               0               0               0   \n",
              "183563               0               0               0               0   \n",
              "183564               0               0               0               0   \n",
              "\n",
              "        district__23.0  heat__central  heat__central_meter  \\\n",
              "0                    0              0                    0   \n",
              "1                    0              0                    0   \n",
              "2                    0              0                    0   \n",
              "3                    0              0                    0   \n",
              "4                    0              0                    0   \n",
              "...                ...            ...                  ...   \n",
              "183560               0              0                    0   \n",
              "183561               0              0                    0   \n",
              "183562               0              0                    0   \n",
              "183563               0              0                    0   \n",
              "183564               0              0                    0   \n",
              "\n",
              "        heat__convection_gas  heat__district_heat  heat__electric  \\\n",
              "0                          0                    1               0   \n",
              "1                          0                    0               0   \n",
              "2                          1                    0               0   \n",
              "3                          1                    0               0   \n",
              "4                          0                    0               0   \n",
              "...                      ...                  ...             ...   \n",
              "183560                     0                    0               1   \n",
              "183561                     1                    0               0   \n",
              "183562                     1                    0               0   \n",
              "183563                     0                    1               0   \n",
              "183564                     1                    0               0   \n",
              "\n",
              "        heat__fan_coil  heat__gas_furnace  heat__gas_furnace_circulation  \\\n",
              "0                    0                  0                              0   \n",
              "1                    0                  0                              1   \n",
              "2                    0                  0                              0   \n",
              "3                    0                  0                              0   \n",
              "4                    0                  0                              1   \n",
              "...                ...                ...                            ...   \n",
              "183560               0                  0                              0   \n",
              "183561               0                  0                              0   \n",
              "183562               0                  0                              0   \n",
              "183563               0                  0                              0   \n",
              "183564               0                  0                              0   \n",
              "\n",
              "        heat__gas_solar  heat__other  heat__tile_stove       date  daynum  \\\n",
              "0                     0            0                 0 2015-02-09       0   \n",
              "1                     0            0                 0 2015-02-09       0   \n",
              "2                     0            0                 0 2015-02-09       0   \n",
              "3                     0            0                 0 2015-02-09       0   \n",
              "4                     0            0                 0 2015-02-09       0   \n",
              "...                 ...          ...               ...        ...     ...   \n",
              "183560                0            0                 0 2016-08-29     567   \n",
              "183561                0            0                 0 2016-08-29     567   \n",
              "183562                0            0                 0 2016-08-29     567   \n",
              "183563                0            0                 0 2016-08-29     567   \n",
              "183564                0            0                 0 2016-08-29     567   \n",
              "\n",
              "        created_at_day  \n",
              "0                    0  \n",
              "1                    0  \n",
              "2                    0  \n",
              "3                    0  \n",
              "4                    0  \n",
              "...                ...  \n",
              "183560               0  \n",
              "183561               0  \n",
              "183562               0  \n",
              "183563               0  \n",
              "183564               0  \n",
              "\n",
              "[168650 rows x 55 columns]"
            ],
            "text/html": [
              "\n",
              "  <div id=\"df-66d16a9e-7f49-45c1-8b18-2fc0bbde47d7\" class=\"colab-df-container\">\n",
              "    <div>\n",
              "<style scoped>\n",
              "    .dataframe tbody tr th:only-of-type {\n",
              "        vertical-align: middle;\n",
              "    }\n",
              "\n",
              "    .dataframe tbody tr th {\n",
              "        vertical-align: top;\n",
              "    }\n",
              "\n",
              "    .dataframe thead th {\n",
              "        text-align: right;\n",
              "    }\n",
              "</style>\n",
              "<table border=\"1\" class=\"dataframe\">\n",
              "  <thead>\n",
              "    <tr style=\"text-align: right;\">\n",
              "      <th></th>\n",
              "      <th>district</th>\n",
              "      <th>postcode</th>\n",
              "      <th>panel_flag</th>\n",
              "      <th>property_condition_type</th>\n",
              "      <th>property_floor</th>\n",
              "      <th>building_floor_count</th>\n",
              "      <th>orientation</th>\n",
              "      <th>garden_access</th>\n",
              "      <th>heating_type</th>\n",
              "      <th>elevator_type</th>\n",
              "      <th>room_cnt</th>\n",
              "      <th>small_room_cnt</th>\n",
              "      <th>created_at</th>\n",
              "      <th>property_area</th>\n",
              "      <th>balcony_area</th>\n",
              "      <th>price_created_at</th>\n",
              "      <th>nmAr</th>\n",
              "      <th>atlag_nmAr</th>\n",
              "      <th>district__1.0</th>\n",
              "      <th>district__2.0</th>\n",
              "      <th>district__3.0</th>\n",
              "      <th>district__4.0</th>\n",
              "      <th>district__5.0</th>\n",
              "      <th>district__6.0</th>\n",
              "      <th>district__7.0</th>\n",
              "      <th>district__8.0</th>\n",
              "      <th>district__9.0</th>\n",
              "      <th>district__10.0</th>\n",
              "      <th>district__11.0</th>\n",
              "      <th>district__12.0</th>\n",
              "      <th>district__13.0</th>\n",
              "      <th>district__14.0</th>\n",
              "      <th>district__15.0</th>\n",
              "      <th>district__16.0</th>\n",
              "      <th>district__17.0</th>\n",
              "      <th>district__18.0</th>\n",
              "      <th>district__19.0</th>\n",
              "      <th>district__20.0</th>\n",
              "      <th>district__21.0</th>\n",
              "      <th>district__22.0</th>\n",
              "      <th>district__23.0</th>\n",
              "      <th>heat__central</th>\n",
              "      <th>heat__central_meter</th>\n",
              "      <th>heat__convection_gas</th>\n",
              "      <th>heat__district_heat</th>\n",
              "      <th>heat__electric</th>\n",
              "      <th>heat__fan_coil</th>\n",
              "      <th>heat__gas_furnace</th>\n",
              "      <th>heat__gas_furnace_circulation</th>\n",
              "      <th>heat__gas_solar</th>\n",
              "      <th>heat__other</th>\n",
              "      <th>heat__tile_stove</th>\n",
              "      <th>date</th>\n",
              "      <th>daynum</th>\n",
              "      <th>created_at_day</th>\n",
              "    </tr>\n",
              "  </thead>\n",
              "  <tbody>\n",
              "    <tr>\n",
              "      <th>0</th>\n",
              "      <td>4.0</td>\n",
              "      <td>1040.0</td>\n",
              "      <td>1.0</td>\n",
              "      <td>4.0</td>\n",
              "      <td>3.0</td>\n",
              "      <td>10.0</td>\n",
              "      <td>3.0</td>\n",
              "      <td>0.0</td>\n",
              "      <td>district_heat</td>\n",
              "      <td>1.0</td>\n",
              "      <td>1.0</td>\n",
              "      <td>1.0</td>\n",
              "      <td>2015-02-09</td>\n",
              "      <td>35.0</td>\n",
              "      <td>0.0</td>\n",
              "      <td>9.5</td>\n",
              "      <td>2.714286e+05</td>\n",
              "      <td>300014.865030</td>\n",
              "      <td>0</td>\n",
              "      <td>0</td>\n",
              "      <td>0</td>\n",
              "      <td>1</td>\n",
              "      <td>0</td>\n",
              "      <td>0</td>\n",
              "      <td>0</td>\n",
              "      <td>0</td>\n",
              "      <td>0</td>\n",
              "      <td>0</td>\n",
              "      <td>0</td>\n",
              "      <td>0</td>\n",
              "      <td>0</td>\n",
              "      <td>0</td>\n",
              "      <td>0</td>\n",
              "      <td>0</td>\n",
              "      <td>0</td>\n",
              "      <td>0</td>\n",
              "      <td>0</td>\n",
              "      <td>0</td>\n",
              "      <td>0</td>\n",
              "      <td>0</td>\n",
              "      <td>0</td>\n",
              "      <td>0</td>\n",
              "      <td>0</td>\n",
              "      <td>0</td>\n",
              "      <td>1</td>\n",
              "      <td>0</td>\n",
              "      <td>0</td>\n",
              "      <td>0</td>\n",
              "      <td>0</td>\n",
              "      <td>0</td>\n",
              "      <td>0</td>\n",
              "      <td>0</td>\n",
              "      <td>2015-02-09</td>\n",
              "      <td>0</td>\n",
              "      <td>0</td>\n",
              "    </tr>\n",
              "    <tr>\n",
              "      <th>1</th>\n",
              "      <td>14.0</td>\n",
              "      <td>1147.0</td>\n",
              "      <td>0.0</td>\n",
              "      <td>5.0</td>\n",
              "      <td>0.0</td>\n",
              "      <td>0.0</td>\n",
              "      <td>3.0</td>\n",
              "      <td>0.0</td>\n",
              "      <td>gas_furnace_circulation</td>\n",
              "      <td>0.0</td>\n",
              "      <td>1.0</td>\n",
              "      <td>0.0</td>\n",
              "      <td>2015-02-09</td>\n",
              "      <td>35.0</td>\n",
              "      <td>0.0</td>\n",
              "      <td>11.2</td>\n",
              "      <td>3.200000e+05</td>\n",
              "      <td>363420.287835</td>\n",
              "      <td>0</td>\n",
              "      <td>0</td>\n",
              "      <td>0</td>\n",
              "      <td>0</td>\n",
              "      <td>0</td>\n",
              "      <td>0</td>\n",
              "      <td>0</td>\n",
              "      <td>0</td>\n",
              "      <td>0</td>\n",
              "      <td>0</td>\n",
              "      <td>0</td>\n",
              "      <td>0</td>\n",
              "      <td>0</td>\n",
              "      <td>1</td>\n",
              "      <td>0</td>\n",
              "      <td>0</td>\n",
              "      <td>0</td>\n",
              "      <td>0</td>\n",
              "      <td>0</td>\n",
              "      <td>0</td>\n",
              "      <td>0</td>\n",
              "      <td>0</td>\n",
              "      <td>0</td>\n",
              "      <td>0</td>\n",
              "      <td>0</td>\n",
              "      <td>0</td>\n",
              "      <td>0</td>\n",
              "      <td>0</td>\n",
              "      <td>0</td>\n",
              "      <td>0</td>\n",
              "      <td>1</td>\n",
              "      <td>0</td>\n",
              "      <td>0</td>\n",
              "      <td>0</td>\n",
              "      <td>2015-02-09</td>\n",
              "      <td>0</td>\n",
              "      <td>0</td>\n",
              "    </tr>\n",
              "    <tr>\n",
              "      <th>2</th>\n",
              "      <td>14.0</td>\n",
              "      <td>1140.0</td>\n",
              "      <td>0.0</td>\n",
              "      <td>3.0</td>\n",
              "      <td>4.0</td>\n",
              "      <td>4.0</td>\n",
              "      <td>3.0</td>\n",
              "      <td>0.0</td>\n",
              "      <td>convection_gas</td>\n",
              "      <td>0.0</td>\n",
              "      <td>2.0</td>\n",
              "      <td>0.0</td>\n",
              "      <td>2015-02-09</td>\n",
              "      <td>50.0</td>\n",
              "      <td>0.0</td>\n",
              "      <td>14.5</td>\n",
              "      <td>2.900000e+05</td>\n",
              "      <td>363420.287835</td>\n",
              "      <td>0</td>\n",
              "      <td>0</td>\n",
              "      <td>0</td>\n",
              "      <td>0</td>\n",
              "      <td>0</td>\n",
              "      <td>0</td>\n",
              "      <td>0</td>\n",
              "      <td>0</td>\n",
              "      <td>0</td>\n",
              "      <td>0</td>\n",
              "      <td>0</td>\n",
              "      <td>0</td>\n",
              "      <td>0</td>\n",
              "      <td>1</td>\n",
              "      <td>0</td>\n",
              "      <td>0</td>\n",
              "      <td>0</td>\n",
              "      <td>0</td>\n",
              "      <td>0</td>\n",
              "      <td>0</td>\n",
              "      <td>0</td>\n",
              "      <td>0</td>\n",
              "      <td>0</td>\n",
              "      <td>0</td>\n",
              "      <td>0</td>\n",
              "      <td>1</td>\n",
              "      <td>0</td>\n",
              "      <td>0</td>\n",
              "      <td>0</td>\n",
              "      <td>0</td>\n",
              "      <td>0</td>\n",
              "      <td>0</td>\n",
              "      <td>0</td>\n",
              "      <td>0</td>\n",
              "      <td>2015-02-09</td>\n",
              "      <td>0</td>\n",
              "      <td>0</td>\n",
              "    </tr>\n",
              "    <tr>\n",
              "      <th>3</th>\n",
              "      <td>2.0</td>\n",
              "      <td>1024.0</td>\n",
              "      <td>0.0</td>\n",
              "      <td>5.0</td>\n",
              "      <td>-1.0</td>\n",
              "      <td>3.0</td>\n",
              "      <td>3.0</td>\n",
              "      <td>0.0</td>\n",
              "      <td>convection_gas</td>\n",
              "      <td>1.0</td>\n",
              "      <td>1.0</td>\n",
              "      <td>1.0</td>\n",
              "      <td>2015-02-09</td>\n",
              "      <td>50.0</td>\n",
              "      <td>0.0</td>\n",
              "      <td>15.3</td>\n",
              "      <td>3.060000e+05</td>\n",
              "      <td>501418.069779</td>\n",
              "      <td>0</td>\n",
              "      <td>1</td>\n",
              "      <td>0</td>\n",
              "      <td>0</td>\n",
              "      <td>0</td>\n",
              "      <td>0</td>\n",
              "      <td>0</td>\n",
              "      <td>0</td>\n",
              "      <td>0</td>\n",
              "      <td>0</td>\n",
              "      <td>0</td>\n",
              "      <td>0</td>\n",
              "      <td>0</td>\n",
              "      <td>0</td>\n",
              "      <td>0</td>\n",
              "      <td>0</td>\n",
              "      <td>0</td>\n",
              "      <td>0</td>\n",
              "      <td>0</td>\n",
              "      <td>0</td>\n",
              "      <td>0</td>\n",
              "      <td>0</td>\n",
              "      <td>0</td>\n",
              "      <td>0</td>\n",
              "      <td>0</td>\n",
              "      <td>1</td>\n",
              "      <td>0</td>\n",
              "      <td>0</td>\n",
              "      <td>0</td>\n",
              "      <td>0</td>\n",
              "      <td>0</td>\n",
              "      <td>0</td>\n",
              "      <td>0</td>\n",
              "      <td>0</td>\n",
              "      <td>2015-02-09</td>\n",
              "      <td>0</td>\n",
              "      <td>0</td>\n",
              "    </tr>\n",
              "    <tr>\n",
              "      <th>4</th>\n",
              "      <td>12.0</td>\n",
              "      <td>1126.0</td>\n",
              "      <td>0.0</td>\n",
              "      <td>4.0</td>\n",
              "      <td>0.0</td>\n",
              "      <td>0.0</td>\n",
              "      <td>3.0</td>\n",
              "      <td>0.0</td>\n",
              "      <td>gas_furnace_circulation</td>\n",
              "      <td>0.0</td>\n",
              "      <td>1.0</td>\n",
              "      <td>2.0</td>\n",
              "      <td>2015-02-09</td>\n",
              "      <td>50.0</td>\n",
              "      <td>0.0</td>\n",
              "      <td>17.9</td>\n",
              "      <td>3.580000e+05</td>\n",
              "      <td>489728.870508</td>\n",
              "      <td>0</td>\n",
              "      <td>0</td>\n",
              "      <td>0</td>\n",
              "      <td>0</td>\n",
              "      <td>0</td>\n",
              "      <td>0</td>\n",
              "      <td>0</td>\n",
              "      <td>0</td>\n",
              "      <td>0</td>\n",
              "      <td>0</td>\n",
              "      <td>0</td>\n",
              "      <td>1</td>\n",
              "      <td>0</td>\n",
              "      <td>0</td>\n",
              "      <td>0</td>\n",
              "      <td>0</td>\n",
              "      <td>0</td>\n",
              "      <td>0</td>\n",
              "      <td>0</td>\n",
              "      <td>0</td>\n",
              "      <td>0</td>\n",
              "      <td>0</td>\n",
              "      <td>0</td>\n",
              "      <td>0</td>\n",
              "      <td>0</td>\n",
              "      <td>0</td>\n",
              "      <td>0</td>\n",
              "      <td>0</td>\n",
              "      <td>0</td>\n",
              "      <td>0</td>\n",
              "      <td>1</td>\n",
              "      <td>0</td>\n",
              "      <td>0</td>\n",
              "      <td>0</td>\n",
              "      <td>2015-02-09</td>\n",
              "      <td>0</td>\n",
              "      <td>0</td>\n",
              "    </tr>\n",
              "    <tr>\n",
              "      <th>...</th>\n",
              "      <td>...</td>\n",
              "      <td>...</td>\n",
              "      <td>...</td>\n",
              "      <td>...</td>\n",
              "      <td>...</td>\n",
              "      <td>...</td>\n",
              "      <td>...</td>\n",
              "      <td>...</td>\n",
              "      <td>...</td>\n",
              "      <td>...</td>\n",
              "      <td>...</td>\n",
              "      <td>...</td>\n",
              "      <td>...</td>\n",
              "      <td>...</td>\n",
              "      <td>...</td>\n",
              "      <td>...</td>\n",
              "      <td>...</td>\n",
              "      <td>...</td>\n",
              "      <td>...</td>\n",
              "      <td>...</td>\n",
              "      <td>...</td>\n",
              "      <td>...</td>\n",
              "      <td>...</td>\n",
              "      <td>...</td>\n",
              "      <td>...</td>\n",
              "      <td>...</td>\n",
              "      <td>...</td>\n",
              "      <td>...</td>\n",
              "      <td>...</td>\n",
              "      <td>...</td>\n",
              "      <td>...</td>\n",
              "      <td>...</td>\n",
              "      <td>...</td>\n",
              "      <td>...</td>\n",
              "      <td>...</td>\n",
              "      <td>...</td>\n",
              "      <td>...</td>\n",
              "      <td>...</td>\n",
              "      <td>...</td>\n",
              "      <td>...</td>\n",
              "      <td>...</td>\n",
              "      <td>...</td>\n",
              "      <td>...</td>\n",
              "      <td>...</td>\n",
              "      <td>...</td>\n",
              "      <td>...</td>\n",
              "      <td>...</td>\n",
              "      <td>...</td>\n",
              "      <td>...</td>\n",
              "      <td>...</td>\n",
              "      <td>...</td>\n",
              "      <td>...</td>\n",
              "      <td>...</td>\n",
              "      <td>...</td>\n",
              "      <td>...</td>\n",
              "    </tr>\n",
              "    <tr>\n",
              "      <th>183560</th>\n",
              "      <td>7.0</td>\n",
              "      <td>1076.0</td>\n",
              "      <td>0.0</td>\n",
              "      <td>3.0</td>\n",
              "      <td>0.0</td>\n",
              "      <td>0.0</td>\n",
              "      <td>4.0</td>\n",
              "      <td>0.0</td>\n",
              "      <td>electric</td>\n",
              "      <td>0.0</td>\n",
              "      <td>1.0</td>\n",
              "      <td>0.0</td>\n",
              "      <td>2016-08-29</td>\n",
              "      <td>30.0</td>\n",
              "      <td>0.0</td>\n",
              "      <td>11.0</td>\n",
              "      <td>3.666667e+05</td>\n",
              "      <td>437966.116162</td>\n",
              "      <td>0</td>\n",
              "      <td>0</td>\n",
              "      <td>0</td>\n",
              "      <td>0</td>\n",
              "      <td>0</td>\n",
              "      <td>0</td>\n",
              "      <td>1</td>\n",
              "      <td>0</td>\n",
              "      <td>0</td>\n",
              "      <td>0</td>\n",
              "      <td>0</td>\n",
              "      <td>0</td>\n",
              "      <td>0</td>\n",
              "      <td>0</td>\n",
              "      <td>0</td>\n",
              "      <td>0</td>\n",
              "      <td>0</td>\n",
              "      <td>0</td>\n",
              "      <td>0</td>\n",
              "      <td>0</td>\n",
              "      <td>0</td>\n",
              "      <td>0</td>\n",
              "      <td>0</td>\n",
              "      <td>0</td>\n",
              "      <td>0</td>\n",
              "      <td>0</td>\n",
              "      <td>0</td>\n",
              "      <td>1</td>\n",
              "      <td>0</td>\n",
              "      <td>0</td>\n",
              "      <td>0</td>\n",
              "      <td>0</td>\n",
              "      <td>0</td>\n",
              "      <td>0</td>\n",
              "      <td>2016-08-29</td>\n",
              "      <td>567</td>\n",
              "      <td>0</td>\n",
              "    </tr>\n",
              "    <tr>\n",
              "      <th>183561</th>\n",
              "      <td>7.0</td>\n",
              "      <td>1070.0</td>\n",
              "      <td>0.0</td>\n",
              "      <td>1.0</td>\n",
              "      <td>2.0</td>\n",
              "      <td>2.0</td>\n",
              "      <td>3.0</td>\n",
              "      <td>0.0</td>\n",
              "      <td>convection_gas</td>\n",
              "      <td>0.0</td>\n",
              "      <td>2.0</td>\n",
              "      <td>0.0</td>\n",
              "      <td>2016-08-29</td>\n",
              "      <td>45.0</td>\n",
              "      <td>0.0</td>\n",
              "      <td>20.5</td>\n",
              "      <td>4.555556e+05</td>\n",
              "      <td>437966.116162</td>\n",
              "      <td>0</td>\n",
              "      <td>0</td>\n",
              "      <td>0</td>\n",
              "      <td>0</td>\n",
              "      <td>0</td>\n",
              "      <td>0</td>\n",
              "      <td>1</td>\n",
              "      <td>0</td>\n",
              "      <td>0</td>\n",
              "      <td>0</td>\n",
              "      <td>0</td>\n",
              "      <td>0</td>\n",
              "      <td>0</td>\n",
              "      <td>0</td>\n",
              "      <td>0</td>\n",
              "      <td>0</td>\n",
              "      <td>0</td>\n",
              "      <td>0</td>\n",
              "      <td>0</td>\n",
              "      <td>0</td>\n",
              "      <td>0</td>\n",
              "      <td>0</td>\n",
              "      <td>0</td>\n",
              "      <td>0</td>\n",
              "      <td>0</td>\n",
              "      <td>1</td>\n",
              "      <td>0</td>\n",
              "      <td>0</td>\n",
              "      <td>0</td>\n",
              "      <td>0</td>\n",
              "      <td>0</td>\n",
              "      <td>0</td>\n",
              "      <td>0</td>\n",
              "      <td>0</td>\n",
              "      <td>2016-08-29</td>\n",
              "      <td>567</td>\n",
              "      <td>0</td>\n",
              "    </tr>\n",
              "    <tr>\n",
              "      <th>183562</th>\n",
              "      <td>4.0</td>\n",
              "      <td>1040.0</td>\n",
              "      <td>0.0</td>\n",
              "      <td>6.0</td>\n",
              "      <td>0.0</td>\n",
              "      <td>1.0</td>\n",
              "      <td>5.0</td>\n",
              "      <td>0.0</td>\n",
              "      <td>convection_gas</td>\n",
              "      <td>0.0</td>\n",
              "      <td>1.0</td>\n",
              "      <td>0.0</td>\n",
              "      <td>2016-08-29</td>\n",
              "      <td>40.0</td>\n",
              "      <td>0.0</td>\n",
              "      <td>8.5</td>\n",
              "      <td>2.125000e+05</td>\n",
              "      <td>300014.865030</td>\n",
              "      <td>0</td>\n",
              "      <td>0</td>\n",
              "      <td>0</td>\n",
              "      <td>1</td>\n",
              "      <td>0</td>\n",
              "      <td>0</td>\n",
              "      <td>0</td>\n",
              "      <td>0</td>\n",
              "      <td>0</td>\n",
              "      <td>0</td>\n",
              "      <td>0</td>\n",
              "      <td>0</td>\n",
              "      <td>0</td>\n",
              "      <td>0</td>\n",
              "      <td>0</td>\n",
              "      <td>0</td>\n",
              "      <td>0</td>\n",
              "      <td>0</td>\n",
              "      <td>0</td>\n",
              "      <td>0</td>\n",
              "      <td>0</td>\n",
              "      <td>0</td>\n",
              "      <td>0</td>\n",
              "      <td>0</td>\n",
              "      <td>0</td>\n",
              "      <td>1</td>\n",
              "      <td>0</td>\n",
              "      <td>0</td>\n",
              "      <td>0</td>\n",
              "      <td>0</td>\n",
              "      <td>0</td>\n",
              "      <td>0</td>\n",
              "      <td>0</td>\n",
              "      <td>0</td>\n",
              "      <td>2016-08-29</td>\n",
              "      <td>567</td>\n",
              "      <td>0</td>\n",
              "    </tr>\n",
              "    <tr>\n",
              "      <th>183563</th>\n",
              "      <td>4.0</td>\n",
              "      <td>1040.0</td>\n",
              "      <td>1.0</td>\n",
              "      <td>6.0</td>\n",
              "      <td>1.0</td>\n",
              "      <td>4.0</td>\n",
              "      <td>5.0</td>\n",
              "      <td>0.0</td>\n",
              "      <td>district_heat</td>\n",
              "      <td>0.0</td>\n",
              "      <td>2.0</td>\n",
              "      <td>1.0</td>\n",
              "      <td>2016-08-29</td>\n",
              "      <td>65.0</td>\n",
              "      <td>4.0</td>\n",
              "      <td>18.9</td>\n",
              "      <td>2.820896e+05</td>\n",
              "      <td>300014.865030</td>\n",
              "      <td>0</td>\n",
              "      <td>0</td>\n",
              "      <td>0</td>\n",
              "      <td>1</td>\n",
              "      <td>0</td>\n",
              "      <td>0</td>\n",
              "      <td>0</td>\n",
              "      <td>0</td>\n",
              "      <td>0</td>\n",
              "      <td>0</td>\n",
              "      <td>0</td>\n",
              "      <td>0</td>\n",
              "      <td>0</td>\n",
              "      <td>0</td>\n",
              "      <td>0</td>\n",
              "      <td>0</td>\n",
              "      <td>0</td>\n",
              "      <td>0</td>\n",
              "      <td>0</td>\n",
              "      <td>0</td>\n",
              "      <td>0</td>\n",
              "      <td>0</td>\n",
              "      <td>0</td>\n",
              "      <td>0</td>\n",
              "      <td>0</td>\n",
              "      <td>0</td>\n",
              "      <td>1</td>\n",
              "      <td>0</td>\n",
              "      <td>0</td>\n",
              "      <td>0</td>\n",
              "      <td>0</td>\n",
              "      <td>0</td>\n",
              "      <td>0</td>\n",
              "      <td>0</td>\n",
              "      <td>2016-08-29</td>\n",
              "      <td>567</td>\n",
              "      <td>0</td>\n",
              "    </tr>\n",
              "    <tr>\n",
              "      <th>183564</th>\n",
              "      <td>5.0</td>\n",
              "      <td>1052.0</td>\n",
              "      <td>0.0</td>\n",
              "      <td>5.0</td>\n",
              "      <td>1.0</td>\n",
              "      <td>1.0</td>\n",
              "      <td>3.0</td>\n",
              "      <td>0.0</td>\n",
              "      <td>convection_gas</td>\n",
              "      <td>1.0</td>\n",
              "      <td>2.0</td>\n",
              "      <td>0.0</td>\n",
              "      <td>2016-08-29</td>\n",
              "      <td>40.0</td>\n",
              "      <td>0.0</td>\n",
              "      <td>42.0</td>\n",
              "      <td>1.050000e+06</td>\n",
              "      <td>679420.287379</td>\n",
              "      <td>0</td>\n",
              "      <td>0</td>\n",
              "      <td>0</td>\n",
              "      <td>0</td>\n",
              "      <td>1</td>\n",
              "      <td>0</td>\n",
              "      <td>0</td>\n",
              "      <td>0</td>\n",
              "      <td>0</td>\n",
              "      <td>0</td>\n",
              "      <td>0</td>\n",
              "      <td>0</td>\n",
              "      <td>0</td>\n",
              "      <td>0</td>\n",
              "      <td>0</td>\n",
              "      <td>0</td>\n",
              "      <td>0</td>\n",
              "      <td>0</td>\n",
              "      <td>0</td>\n",
              "      <td>0</td>\n",
              "      <td>0</td>\n",
              "      <td>0</td>\n",
              "      <td>0</td>\n",
              "      <td>0</td>\n",
              "      <td>0</td>\n",
              "      <td>1</td>\n",
              "      <td>0</td>\n",
              "      <td>0</td>\n",
              "      <td>0</td>\n",
              "      <td>0</td>\n",
              "      <td>0</td>\n",
              "      <td>0</td>\n",
              "      <td>0</td>\n",
              "      <td>0</td>\n",
              "      <td>2016-08-29</td>\n",
              "      <td>567</td>\n",
              "      <td>0</td>\n",
              "    </tr>\n",
              "  </tbody>\n",
              "</table>\n",
              "<p>168650 rows × 55 columns</p>\n",
              "</div>\n",
              "    <div class=\"colab-df-buttons\">\n",
              "\n",
              "  <div class=\"colab-df-container\">\n",
              "    <button class=\"colab-df-convert\" onclick=\"convertToInteractive('df-66d16a9e-7f49-45c1-8b18-2fc0bbde47d7')\"\n",
              "            title=\"Convert this dataframe to an interactive table.\"\n",
              "            style=\"display:none;\">\n",
              "\n",
              "  <svg xmlns=\"http://www.w3.org/2000/svg\" height=\"24px\" viewBox=\"0 -960 960 960\">\n",
              "    <path d=\"M120-120v-720h720v720H120Zm60-500h600v-160H180v160Zm220 220h160v-160H400v160Zm0 220h160v-160H400v160ZM180-400h160v-160H180v160Zm440 0h160v-160H620v160ZM180-180h160v-160H180v160Zm440 0h160v-160H620v160Z\"/>\n",
              "  </svg>\n",
              "    </button>\n",
              "\n",
              "  <style>\n",
              "    .colab-df-container {\n",
              "      display:flex;\n",
              "      gap: 12px;\n",
              "    }\n",
              "\n",
              "    .colab-df-convert {\n",
              "      background-color: #E8F0FE;\n",
              "      border: none;\n",
              "      border-radius: 50%;\n",
              "      cursor: pointer;\n",
              "      display: none;\n",
              "      fill: #1967D2;\n",
              "      height: 32px;\n",
              "      padding: 0 0 0 0;\n",
              "      width: 32px;\n",
              "    }\n",
              "\n",
              "    .colab-df-convert:hover {\n",
              "      background-color: #E2EBFA;\n",
              "      box-shadow: 0px 1px 2px rgba(60, 64, 67, 0.3), 0px 1px 3px 1px rgba(60, 64, 67, 0.15);\n",
              "      fill: #174EA6;\n",
              "    }\n",
              "\n",
              "    .colab-df-buttons div {\n",
              "      margin-bottom: 4px;\n",
              "    }\n",
              "\n",
              "    [theme=dark] .colab-df-convert {\n",
              "      background-color: #3B4455;\n",
              "      fill: #D2E3FC;\n",
              "    }\n",
              "\n",
              "    [theme=dark] .colab-df-convert:hover {\n",
              "      background-color: #434B5C;\n",
              "      box-shadow: 0px 1px 3px 1px rgba(0, 0, 0, 0.15);\n",
              "      filter: drop-shadow(0px 1px 2px rgba(0, 0, 0, 0.3));\n",
              "      fill: #FFFFFF;\n",
              "    }\n",
              "  </style>\n",
              "\n",
              "    <script>\n",
              "      const buttonEl =\n",
              "        document.querySelector('#df-66d16a9e-7f49-45c1-8b18-2fc0bbde47d7 button.colab-df-convert');\n",
              "      buttonEl.style.display =\n",
              "        google.colab.kernel.accessAllowed ? 'block' : 'none';\n",
              "\n",
              "      async function convertToInteractive(key) {\n",
              "        const element = document.querySelector('#df-66d16a9e-7f49-45c1-8b18-2fc0bbde47d7');\n",
              "        const dataTable =\n",
              "          await google.colab.kernel.invokeFunction('convertToInteractive',\n",
              "                                                    [key], {});\n",
              "        if (!dataTable) return;\n",
              "\n",
              "        const docLinkHtml = 'Like what you see? Visit the ' +\n",
              "          '<a target=\"_blank\" href=https://colab.research.google.com/notebooks/data_table.ipynb>data table notebook</a>'\n",
              "          + ' to learn more about interactive tables.';\n",
              "        element.innerHTML = '';\n",
              "        dataTable['output_type'] = 'display_data';\n",
              "        await google.colab.output.renderOutput(dataTable, element);\n",
              "        const docLink = document.createElement('div');\n",
              "        docLink.innerHTML = docLinkHtml;\n",
              "        element.appendChild(docLink);\n",
              "      }\n",
              "    </script>\n",
              "  </div>\n",
              "\n",
              "\n",
              "<div id=\"df-9edd944e-2e70-4f42-90ca-d367c6da2b3b\">\n",
              "  <button class=\"colab-df-quickchart\" onclick=\"quickchart('df-9edd944e-2e70-4f42-90ca-d367c6da2b3b')\"\n",
              "            title=\"Suggest charts\"\n",
              "            style=\"display:none;\">\n",
              "\n",
              "<svg xmlns=\"http://www.w3.org/2000/svg\" height=\"24px\"viewBox=\"0 0 24 24\"\n",
              "     width=\"24px\">\n",
              "    <g>\n",
              "        <path d=\"M19 3H5c-1.1 0-2 .9-2 2v14c0 1.1.9 2 2 2h14c1.1 0 2-.9 2-2V5c0-1.1-.9-2-2-2zM9 17H7v-7h2v7zm4 0h-2V7h2v10zm4 0h-2v-4h2v4z\"/>\n",
              "    </g>\n",
              "</svg>\n",
              "  </button>\n",
              "\n",
              "<style>\n",
              "  .colab-df-quickchart {\n",
              "      --bg-color: #E8F0FE;\n",
              "      --fill-color: #1967D2;\n",
              "      --hover-bg-color: #E2EBFA;\n",
              "      --hover-fill-color: #174EA6;\n",
              "      --disabled-fill-color: #AAA;\n",
              "      --disabled-bg-color: #DDD;\n",
              "  }\n",
              "\n",
              "  [theme=dark] .colab-df-quickchart {\n",
              "      --bg-color: #3B4455;\n",
              "      --fill-color: #D2E3FC;\n",
              "      --hover-bg-color: #434B5C;\n",
              "      --hover-fill-color: #FFFFFF;\n",
              "      --disabled-bg-color: #3B4455;\n",
              "      --disabled-fill-color: #666;\n",
              "  }\n",
              "\n",
              "  .colab-df-quickchart {\n",
              "    background-color: var(--bg-color);\n",
              "    border: none;\n",
              "    border-radius: 50%;\n",
              "    cursor: pointer;\n",
              "    display: none;\n",
              "    fill: var(--fill-color);\n",
              "    height: 32px;\n",
              "    padding: 0;\n",
              "    width: 32px;\n",
              "  }\n",
              "\n",
              "  .colab-df-quickchart:hover {\n",
              "    background-color: var(--hover-bg-color);\n",
              "    box-shadow: 0 1px 2px rgba(60, 64, 67, 0.3), 0 1px 3px 1px rgba(60, 64, 67, 0.15);\n",
              "    fill: var(--button-hover-fill-color);\n",
              "  }\n",
              "\n",
              "  .colab-df-quickchart-complete:disabled,\n",
              "  .colab-df-quickchart-complete:disabled:hover {\n",
              "    background-color: var(--disabled-bg-color);\n",
              "    fill: var(--disabled-fill-color);\n",
              "    box-shadow: none;\n",
              "  }\n",
              "\n",
              "  .colab-df-spinner {\n",
              "    border: 2px solid var(--fill-color);\n",
              "    border-color: transparent;\n",
              "    border-bottom-color: var(--fill-color);\n",
              "    animation:\n",
              "      spin 1s steps(1) infinite;\n",
              "  }\n",
              "\n",
              "  @keyframes spin {\n",
              "    0% {\n",
              "      border-color: transparent;\n",
              "      border-bottom-color: var(--fill-color);\n",
              "      border-left-color: var(--fill-color);\n",
              "    }\n",
              "    20% {\n",
              "      border-color: transparent;\n",
              "      border-left-color: var(--fill-color);\n",
              "      border-top-color: var(--fill-color);\n",
              "    }\n",
              "    30% {\n",
              "      border-color: transparent;\n",
              "      border-left-color: var(--fill-color);\n",
              "      border-top-color: var(--fill-color);\n",
              "      border-right-color: var(--fill-color);\n",
              "    }\n",
              "    40% {\n",
              "      border-color: transparent;\n",
              "      border-right-color: var(--fill-color);\n",
              "      border-top-color: var(--fill-color);\n",
              "    }\n",
              "    60% {\n",
              "      border-color: transparent;\n",
              "      border-right-color: var(--fill-color);\n",
              "    }\n",
              "    80% {\n",
              "      border-color: transparent;\n",
              "      border-right-color: var(--fill-color);\n",
              "      border-bottom-color: var(--fill-color);\n",
              "    }\n",
              "    90% {\n",
              "      border-color: transparent;\n",
              "      border-bottom-color: var(--fill-color);\n",
              "    }\n",
              "  }\n",
              "</style>\n",
              "\n",
              "  <script>\n",
              "    async function quickchart(key) {\n",
              "      const quickchartButtonEl =\n",
              "        document.querySelector('#' + key + ' button');\n",
              "      quickchartButtonEl.disabled = true;  // To prevent multiple clicks.\n",
              "      quickchartButtonEl.classList.add('colab-df-spinner');\n",
              "      try {\n",
              "        const charts = await google.colab.kernel.invokeFunction(\n",
              "            'suggestCharts', [key], {});\n",
              "      } catch (error) {\n",
              "        console.error('Error during call to suggestCharts:', error);\n",
              "      }\n",
              "      quickchartButtonEl.classList.remove('colab-df-spinner');\n",
              "      quickchartButtonEl.classList.add('colab-df-quickchart-complete');\n",
              "    }\n",
              "    (() => {\n",
              "      let quickchartButtonEl =\n",
              "        document.querySelector('#df-9edd944e-2e70-4f42-90ca-d367c6da2b3b button');\n",
              "      quickchartButtonEl.style.display =\n",
              "        google.colab.kernel.accessAllowed ? 'block' : 'none';\n",
              "    })();\n",
              "  </script>\n",
              "</div>\n",
              "    </div>\n",
              "  </div>\n"
            ]
          },
          "metadata": {},
          "execution_count": 447
        }
      ]
    },
    {
      "cell_type": "code",
      "source": [
        "df.isna().any().any()"
      ],
      "metadata": {
        "colab": {
          "base_uri": "https://localhost:8080/"
        },
        "id": "ecCGmF7i_sN5",
        "outputId": "47a48bd1-eab6-48a7-bf19-7ac2fed60959"
      },
      "execution_count": null,
      "outputs": [
        {
          "output_type": "execute_result",
          "data": {
            "text/plain": [
              "False"
            ]
          },
          "metadata": {},
          "execution_count": 448
        }
      ]
    },
    {
      "cell_type": "code",
      "source": [
        "df.columns[df.dtypes == 'float64']"
      ],
      "metadata": {
        "colab": {
          "base_uri": "https://localhost:8080/"
        },
        "id": "RQl2JB-cAA6b",
        "outputId": "29c4f0cd-15b1-4bdb-e273-e90d85b6ea82"
      },
      "execution_count": null,
      "outputs": [
        {
          "output_type": "execute_result",
          "data": {
            "text/plain": [
              "Index(['district', 'postcode', 'panel_flag', 'property_condition_type',\n",
              "       'property_floor', 'building_floor_count', 'orientation',\n",
              "       'garden_access', 'elevator_type', 'room_cnt', 'small_room_cnt',\n",
              "       'property_area', 'balcony_area', 'price_created_at', 'nmAr',\n",
              "       'atlag_nmAr'],\n",
              "      dtype='object')"
            ]
          },
          "metadata": {},
          "execution_count": 449
        }
      ]
    },
    {
      "cell_type": "code",
      "source": [
        "df.columns[(df.dtypes == 'object')].isna().sum()"
      ],
      "metadata": {
        "colab": {
          "base_uri": "https://localhost:8080/"
        },
        "id": "rnoTemy3AFnu",
        "outputId": "33c74aba-0408-49d5-daad-7b62399c858e"
      },
      "execution_count": null,
      "outputs": [
        {
          "output_type": "execute_result",
          "data": {
            "text/plain": [
              "0"
            ]
          },
          "metadata": {},
          "execution_count": 450
        }
      ]
    },
    {
      "cell_type": "code",
      "source": [
        "from math import ceil\n",
        "\n",
        "fig, ax = plt.subplots(4,4,figsize=(16,16))\n",
        "non_cat_features = df.columns[df.dtypes == 'float64'].tolist()\n",
        "rowNum = -1\n",
        "\n",
        "for idx,feature in enumerate(non_cat_features):\n",
        "    if idx %4 == 0:\n",
        "        rowNum += 1\n",
        "    binsNum = 20\n",
        "    if(feature == 'nmAr'):\n",
        "        ax[rowNum, idx%4].set_xlim(0, 2000000)\n",
        "        binsNum = 80\n",
        "    ax[rowNum, idx%4].hist(df[feature], bins=binsNum)\n",
        "    ax[rowNum, idx%4].set_title(feature)"
      ],
      "metadata": {
        "colab": {
          "base_uri": "https://localhost:8080/",
          "height": 1000
        },
        "id": "VbfhKHYO__tx",
        "outputId": "d78985a3-b53f-488d-fc9f-a670fd956cb5"
      },
      "execution_count": null,
      "outputs": [
        {
          "output_type": "display_data",
          "data": {
            "text/plain": [
              "<Figure size 1600x1600 with 16 Axes>"
            ],
            "image/png": "[encoded data removed]"
          },
          "metadata": {}
        }
      ]
    },
    {
      "cell_type": "markdown",
      "source": [
        "##Ár-trend követése\n",
        "Ez a lépés azért fontos, mert a legtöbb modell feltételezi, hogy az egyes eloszlásbeli paraméterek (ami jelen esetben a nmAr mean-je) nem változnak az idő függvényében a minták között. Így ha növekvő trendet nem vennénk figyelembe, a modell más módon (feltételezhetően rosszabbul) tanulná meg az összefüggéseket a végeredmény rovására. Emiatt fontos, hogy a trendet követve dolgozzunk fel az adatokat.\n",
        "Lineáris regresszióval kapott egyenes egyenlete alapján tudom a trendet követni. A megoldás lényege, hogy a linreg által fittelt egyenest (ami a becsült nmAr) felhasználjuk a valós nmAr értékek számításához az akábbi képlettel:\n",
        "\n",
        "```\n",
        "jelen_nmAr = (nmAr / linreg_prediktalt_nmAr) * jelenlegi_prediktalt_nmAr\n",
        "```"
      ],
      "metadata": {
        "id": "fed45M_nD7E9"
      }
    },
    {
      "cell_type": "code",
      "source": [
        "plt.scatter(df['date'], df['nmAr'], s=1)\n",
        "plt.ylim(0,1000000)"
      ],
      "metadata": {
        "colab": {
          "base_uri": "https://localhost:8080/",
          "height": 462
        },
        "id": "bCejJuJsEWGX",
        "outputId": "5a12c1ee-bf77-434a-a47f-1c826439636a"
      },
      "execution_count": null,
      "outputs": [
        {
          "output_type": "execute_result",
          "data": {
            "text/plain": [
              "(0.0, 1000000.0)"
            ]
          },
          "metadata": {},
          "execution_count": 452
        },
        {
          "output_type": "display_data",
          "data": {
            "text/plain": [
              "<Figure size 640x480 with 1 Axes>"
            ],
            "image/png": "[encoded data removed]"
          },
          "metadata": {}
        }
      ]
    },
    {
      "cell_type": "code",
      "source": [
        "stat = df.groupby('date',as_index=False).agg({\"nmAr\": 'median'})\n",
        "plt.plot(stat['date'],stat['nmAr'])\n",
        "plt.ylim(0,700000)"
      ],
      "metadata": {
        "colab": {
          "base_uri": "https://localhost:8080/",
          "height": 452
        },
        "id": "WOvUqk2EEhqb",
        "outputId": "b51a9418-cbf2-4604-bf05-f0d3d3175e7f"
      },
      "execution_count": null,
      "outputs": [
        {
          "output_type": "execute_result",
          "data": {
            "text/plain": [
              "(0.0, 700000.0)"
            ]
          },
          "metadata": {},
          "execution_count": 453
        },
        {
          "output_type": "display_data",
          "data": {
            "text/plain": [
              "<Figure size 640x480 with 1 Axes>"
            ],
            "image/png": "[encoded data removed]"
          },
          "metadata": {}
        }
      ]
    },
    {
      "cell_type": "code",
      "source": [
        "stat.columns"
      ],
      "metadata": {
        "colab": {
          "base_uri": "https://localhost:8080/"
        },
        "id": "u7HsRJBmEyIG",
        "outputId": "541cd5f1-b402-44e5-ec3f-020b67420eb9"
      },
      "execution_count": null,
      "outputs": [
        {
          "output_type": "execute_result",
          "data": {
            "text/plain": [
              "Index(['date', 'nmAr'], dtype='object')"
            ]
          },
          "metadata": {},
          "execution_count": 454
        }
      ]
    },
    {
      "cell_type": "code",
      "source": [
        "stat['daynum'] = (stat['date'] - stat['date'].min()).dt.days\n",
        "\n",
        "trend_linreg = LinearRegression()\n",
        "trend_linreg.fit(stat[ ['daynum'] ], stat['nmAr'])\n",
        "\n",
        "print(trend_linreg.coef_)\n",
        "print(trend_linreg.intercept_)"
      ],
      "metadata": {
        "colab": {
          "base_uri": "https://localhost:8080/"
        },
        "id": "T98hUsqiE_H8",
        "outputId": "dd91ce01-4d2e-462b-f996-14b3cbf31e51"
      },
      "execution_count": null,
      "outputs": [
        {
          "output_type": "stream",
          "name": "stdout",
          "text": [
            "[248.38625757]\n",
            "305787.7758882079\n"
          ]
        }
      ]
    },
    {
      "cell_type": "code",
      "source": [
        "stat['trend_nmAr'] = trend_linreg.predict(stat[ ['daynum'] ])"
      ],
      "metadata": {
        "id": "gbt8mK4cFGoB"
      },
      "execution_count": null,
      "outputs": []
    },
    {
      "cell_type": "code",
      "source": [
        "plt.plot(stat['date'],stat['nmAr'])\n",
        "plt.plot(stat['date'],stat['trend_nmAr'],'r--')\n",
        "plt.ylim(0,700000)"
      ],
      "metadata": {
        "colab": {
          "base_uri": "https://localhost:8080/",
          "height": 452
        },
        "id": "Q_-vSHehFQHu",
        "outputId": "40e6e513-2216-438e-f48b-7ebc09bfd1c1"
      },
      "execution_count": null,
      "outputs": [
        {
          "output_type": "execute_result",
          "data": {
            "text/plain": [
              "(0.0, 700000.0)"
            ]
          },
          "metadata": {},
          "execution_count": 457
        },
        {
          "output_type": "display_data",
          "data": {
            "text/plain": [
              "<Figure size 640x480 with 1 Axes>"
            ],
            "image/png": "[encoded data removed]"
          },
          "metadata": {}
        }
      ]
    },
    {
      "cell_type": "code",
      "source": [
        "del stat['nmAr']\n",
        "del stat['daynum']"
      ],
      "metadata": {
        "id": "al0Nq39MFX3o"
      },
      "execution_count": null,
      "outputs": []
    },
    {
      "cell_type": "code",
      "source": [
        "df = df.merge(stat,on=\"date\",how=\"left\")\n",
        "df"
      ],
      "metadata": {
        "colab": {
          "base_uri": "https://localhost:8080/",
          "height": 617
        },
        "id": "r_2ZMTazFfD1",
        "outputId": "884879e8-4981-4c94-f9ab-820c48553805"
      },
      "execution_count": null,
      "outputs": [
        {
          "output_type": "execute_result",
          "data": {
            "text/plain": [
              "        district  postcode  panel_flag  property_condition_type  \\\n",
              "0            4.0    1040.0         1.0                      4.0   \n",
              "1           14.0    1147.0         0.0                      5.0   \n",
              "2           14.0    1140.0         0.0                      3.0   \n",
              "3            2.0    1024.0         0.0                      5.0   \n",
              "4           12.0    1126.0         0.0                      4.0   \n",
              "...          ...       ...         ...                      ...   \n",
              "168645       7.0    1076.0         0.0                      3.0   \n",
              "168646       7.0    1070.0         0.0                      1.0   \n",
              "168647       4.0    1040.0         0.0                      6.0   \n",
              "168648       4.0    1040.0         1.0                      6.0   \n",
              "168649       5.0    1052.0         0.0                      5.0   \n",
              "\n",
              "        property_floor  building_floor_count  orientation  garden_access  \\\n",
              "0                  3.0                  10.0          3.0            0.0   \n",
              "1                  0.0                   0.0          3.0            0.0   \n",
              "2                  4.0                   4.0          3.0            0.0   \n",
              "3                 -1.0                   3.0          3.0            0.0   \n",
              "4                  0.0                   0.0          3.0            0.0   \n",
              "...                ...                   ...          ...            ...   \n",
              "168645             0.0                   0.0          4.0            0.0   \n",
              "168646             2.0                   2.0          3.0            0.0   \n",
              "168647             0.0                   1.0          5.0            0.0   \n",
              "168648             1.0                   4.0          5.0            0.0   \n",
              "168649             1.0                   1.0          3.0            0.0   \n",
              "\n",
              "                   heating_type  elevator_type  room_cnt  small_room_cnt  \\\n",
              "0                 district_heat            1.0       1.0             1.0   \n",
              "1       gas_furnace_circulation            0.0       1.0             0.0   \n",
              "2                convection_gas            0.0       2.0             0.0   \n",
              "3                convection_gas            1.0       1.0             1.0   \n",
              "4       gas_furnace_circulation            0.0       1.0             2.0   \n",
              "...                         ...            ...       ...             ...   \n",
              "168645                 electric            0.0       1.0             0.0   \n",
              "168646           convection_gas            0.0       2.0             0.0   \n",
              "168647           convection_gas            0.0       1.0             0.0   \n",
              "168648            district_heat            0.0       2.0             1.0   \n",
              "168649           convection_gas            1.0       2.0             0.0   \n",
              "\n",
              "        created_at  property_area  balcony_area  price_created_at  \\\n",
              "0       2015-02-09           35.0           0.0               9.5   \n",
              "1       2015-02-09           35.0           0.0              11.2   \n",
              "2       2015-02-09           50.0           0.0              14.5   \n",
              "3       2015-02-09           50.0           0.0              15.3   \n",
              "4       2015-02-09           50.0           0.0              17.9   \n",
              "...            ...            ...           ...               ...   \n",
              "168645  2016-08-29           30.0           0.0              11.0   \n",
              "168646  2016-08-29           45.0           0.0              20.5   \n",
              "168647  2016-08-29           40.0           0.0               8.5   \n",
              "168648  2016-08-29           65.0           4.0              18.9   \n",
              "168649  2016-08-29           40.0           0.0              42.0   \n",
              "\n",
              "                nmAr     atlag_nmAr  district__1.0  district__2.0  \\\n",
              "0       2.714286e+05  300014.865030              0              0   \n",
              "1       3.200000e+05  363420.287835              0              0   \n",
              "2       2.900000e+05  363420.287835              0              0   \n",
              "3       3.060000e+05  501418.069779              0              1   \n",
              "4       3.580000e+05  489728.870508              0              0   \n",
              "...              ...            ...            ...            ...   \n",
              "168645  3.666667e+05  437966.116162              0              0   \n",
              "168646  4.555556e+05  437966.116162              0              0   \n",
              "168647  2.125000e+05  300014.865030              0              0   \n",
              "168648  2.820896e+05  300014.865030              0              0   \n",
              "168649  1.050000e+06  679420.287379              0              0   \n",
              "\n",
              "        district__3.0  district__4.0  district__5.0  district__6.0  \\\n",
              "0                   0              1              0              0   \n",
              "1                   0              0              0              0   \n",
              "2                   0              0              0              0   \n",
              "3                   0              0              0              0   \n",
              "4                   0              0              0              0   \n",
              "...               ...            ...            ...            ...   \n",
              "168645              0              0              0              0   \n",
              "168646              0              0              0              0   \n",
              "168647              0              1              0              0   \n",
              "168648              0              1              0              0   \n",
              "168649              0              0              1              0   \n",
              "\n",
              "        district__7.0  district__8.0  district__9.0  district__10.0  \\\n",
              "0                   0              0              0               0   \n",
              "1                   0              0              0               0   \n",
              "2                   0              0              0               0   \n",
              "3                   0              0              0               0   \n",
              "4                   0              0              0               0   \n",
              "...               ...            ...            ...             ...   \n",
              "168645              1              0              0               0   \n",
              "168646              1              0              0               0   \n",
              "168647              0              0              0               0   \n",
              "168648              0              0              0               0   \n",
              "168649              0              0              0               0   \n",
              "\n",
              "        district__11.0  district__12.0  district__13.0  district__14.0  \\\n",
              "0                    0               0               0               0   \n",
              "1                    0               0               0               1   \n",
              "2                    0               0               0               1   \n",
              "3                    0               0               0               0   \n",
              "4                    0               1               0               0   \n",
              "...                ...             ...             ...             ...   \n",
              "168645               0               0               0               0   \n",
              "168646               0               0               0               0   \n",
              "168647               0               0               0               0   \n",
              "168648               0               0               0               0   \n",
              "168649               0               0               0               0   \n",
              "\n",
              "        district__15.0  district__16.0  district__17.0  district__18.0  \\\n",
              "0                    0               0               0               0   \n",
              "1                    0               0               0               0   \n",
              "2                    0               0               0               0   \n",
              "3                    0               0               0               0   \n",
              "4                    0               0               0               0   \n",
              "...                ...             ...             ...             ...   \n",
              "168645               0               0               0               0   \n",
              "168646               0               0               0               0   \n",
              "168647               0               0               0               0   \n",
              "168648               0               0               0               0   \n",
              "168649               0               0               0               0   \n",
              "\n",
              "        district__19.0  district__20.0  district__21.0  district__22.0  \\\n",
              "0                    0               0               0               0   \n",
              "1                    0               0               0               0   \n",
              "2                    0               0               0               0   \n",
              "3                    0               0               0               0   \n",
              "4                    0               0               0               0   \n",
              "...                ...             ...             ...             ...   \n",
              "168645               0               0               0               0   \n",
              "168646               0               0               0               0   \n",
              "168647               0               0               0               0   \n",
              "168648               0               0               0               0   \n",
              "168649               0               0               0               0   \n",
              "\n",
              "        district__23.0  heat__central  heat__central_meter  \\\n",
              "0                    0              0                    0   \n",
              "1                    0              0                    0   \n",
              "2                    0              0                    0   \n",
              "3                    0              0                    0   \n",
              "4                    0              0                    0   \n",
              "...                ...            ...                  ...   \n",
              "168645               0              0                    0   \n",
              "168646               0              0                    0   \n",
              "168647               0              0                    0   \n",
              "168648               0              0                    0   \n",
              "168649               0              0                    0   \n",
              "\n",
              "        heat__convection_gas  heat__district_heat  heat__electric  \\\n",
              "0                          0                    1               0   \n",
              "1                          0                    0               0   \n",
              "2                          1                    0               0   \n",
              "3                          1                    0               0   \n",
              "4                          0                    0               0   \n",
              "...                      ...                  ...             ...   \n",
              "168645                     0                    0               1   \n",
              "168646                     1                    0               0   \n",
              "168647                     1                    0               0   \n",
              "168648                     0                    1               0   \n",
              "168649                     1                    0               0   \n",
              "\n",
              "        heat__fan_coil  heat__gas_furnace  heat__gas_furnace_circulation  \\\n",
              "0                    0                  0                              0   \n",
              "1                    0                  0                              1   \n",
              "2                    0                  0                              0   \n",
              "3                    0                  0                              0   \n",
              "4                    0                  0                              1   \n",
              "...                ...                ...                            ...   \n",
              "168645               0                  0                              0   \n",
              "168646               0                  0                              0   \n",
              "168647               0                  0                              0   \n",
              "168648               0                  0                              0   \n",
              "168649               0                  0                              0   \n",
              "\n",
              "        heat__gas_solar  heat__other  heat__tile_stove       date  daynum  \\\n",
              "0                     0            0                 0 2015-02-09       0   \n",
              "1                     0            0                 0 2015-02-09       0   \n",
              "2                     0            0                 0 2015-02-09       0   \n",
              "3                     0            0                 0 2015-02-09       0   \n",
              "4                     0            0                 0 2015-02-09       0   \n",
              "...                 ...          ...               ...        ...     ...   \n",
              "168645                0            0                 0 2016-08-29     567   \n",
              "168646                0            0                 0 2016-08-29     567   \n",
              "168647                0            0                 0 2016-08-29     567   \n",
              "168648                0            0                 0 2016-08-29     567   \n",
              "168649                0            0                 0 2016-08-29     567   \n",
              "\n",
              "        created_at_day     trend_nmAr  \n",
              "0                    0  305787.775888  \n",
              "1                    0  305787.775888  \n",
              "2                    0  305787.775888  \n",
              "3                    0  305787.775888  \n",
              "4                    0  305787.775888  \n",
              "...                ...            ...  \n",
              "168645               0  446622.783931  \n",
              "168646               0  446622.783931  \n",
              "168647               0  446622.783931  \n",
              "168648               0  446622.783931  \n",
              "168649               0  446622.783931  \n",
              "\n",
              "[168650 rows x 56 columns]"
            ],
            "text/html": [
              "\n",
              "  <div id=\"df-41c0b0cf-9317-4746-86b0-bb1df64d1643\" class=\"colab-df-container\">\n",
              "    <div>\n",
              "<style scoped>\n",
              "    .dataframe tbody tr th:only-of-type {\n",
              "        vertical-align: middle;\n",
              "    }\n",
              "\n",
              "    .dataframe tbody tr th {\n",
              "        vertical-align: top;\n",
              "    }\n",
              "\n",
              "    .dataframe thead th {\n",
              "        text-align: right;\n",
              "    }\n",
              "</style>\n",
              "<table border=\"1\" class=\"dataframe\">\n",
              "  <thead>\n",
              "    <tr style=\"text-align: right;\">\n",
              "      <th></th>\n",
              "      <th>district</th>\n",
              "      <th>postcode</th>\n",
              "      <th>panel_flag</th>\n",
              "      <th>property_condition_type</th>\n",
              "      <th>property_floor</th>\n",
              "      <th>building_floor_count</th>\n",
              "      <th>orientation</th>\n",
              "      <th>garden_access</th>\n",
              "      <th>heating_type</th>\n",
              "      <th>elevator_type</th>\n",
              "      <th>room_cnt</th>\n",
              "      <th>small_room_cnt</th>\n",
              "      <th>created_at</th>\n",
              "      <th>property_area</th>\n",
              "      <th>balcony_area</th>\n",
              "      <th>price_created_at</th>\n",
              "      <th>nmAr</th>\n",
              "      <th>atlag_nmAr</th>\n",
              "      <th>district__1.0</th>\n",
              "      <th>district__2.0</th>\n",
              "      <th>district__3.0</th>\n",
              "      <th>district__4.0</th>\n",
              "      <th>district__5.0</th>\n",
              "      <th>district__6.0</th>\n",
              "      <th>district__7.0</th>\n",
              "      <th>district__8.0</th>\n",
              "      <th>district__9.0</th>\n",
              "      <th>district__10.0</th>\n",
              "      <th>district__11.0</th>\n",
              "      <th>district__12.0</th>\n",
              "      <th>district__13.0</th>\n",
              "      <th>district__14.0</th>\n",
              "      <th>district__15.0</th>\n",
              "      <th>district__16.0</th>\n",
              "      <th>district__17.0</th>\n",
              "      <th>district__18.0</th>\n",
              "      <th>district__19.0</th>\n",
              "      <th>district__20.0</th>\n",
              "      <th>district__21.0</th>\n",
              "      <th>district__22.0</th>\n",
              "      <th>district__23.0</th>\n",
              "      <th>heat__central</th>\n",
              "      <th>heat__central_meter</th>\n",
              "      <th>heat__convection_gas</th>\n",
              "      <th>heat__district_heat</th>\n",
              "      <th>heat__electric</th>\n",
              "      <th>heat__fan_coil</th>\n",
              "      <th>heat__gas_furnace</th>\n",
              "      <th>heat__gas_furnace_circulation</th>\n",
              "      <th>heat__gas_solar</th>\n",
              "      <th>heat__other</th>\n",
              "      <th>heat__tile_stove</th>\n",
              "      <th>date</th>\n",
              "      <th>daynum</th>\n",
              "      <th>created_at_day</th>\n",
              "      <th>trend_nmAr</th>\n",
              "    </tr>\n",
              "  </thead>\n",
              "  <tbody>\n",
              "    <tr>\n",
              "      <th>0</th>\n",
              "      <td>4.0</td>\n",
              "      <td>1040.0</td>\n",
              "      <td>1.0</td>\n",
              "      <td>4.0</td>\n",
              "      <td>3.0</td>\n",
              "      <td>10.0</td>\n",
              "      <td>3.0</td>\n",
              "      <td>0.0</td>\n",
              "      <td>district_heat</td>\n",
              "      <td>1.0</td>\n",
              "      <td>1.0</td>\n",
              "      <td>1.0</td>\n",
              "      <td>2015-02-09</td>\n",
              "      <td>35.0</td>\n",
              "      <td>0.0</td>\n",
              "      <td>9.5</td>\n",
              "      <td>2.714286e+05</td>\n",
              "      <td>300014.865030</td>\n",
              "      <td>0</td>\n",
              "      <td>0</td>\n",
              "      <td>0</td>\n",
              "      <td>1</td>\n",
              "      <td>0</td>\n",
              "      <td>0</td>\n",
              "      <td>0</td>\n",
              "      <td>0</td>\n",
              "      <td>0</td>\n",
              "      <td>0</td>\n",
              "      <td>0</td>\n",
              "      <td>0</td>\n",
              "      <td>0</td>\n",
              "      <td>0</td>\n",
              "      <td>0</td>\n",
              "      <td>0</td>\n",
              "      <td>0</td>\n",
              "      <td>0</td>\n",
              "      <td>0</td>\n",
              "      <td>0</td>\n",
              "      <td>0</td>\n",
              "      <td>0</td>\n",
              "      <td>0</td>\n",
              "      <td>0</td>\n",
              "      <td>0</td>\n",
              "      <td>0</td>\n",
              "      <td>1</td>\n",
              "      <td>0</td>\n",
              "      <td>0</td>\n",
              "      <td>0</td>\n",
              "      <td>0</td>\n",
              "      <td>0</td>\n",
              "      <td>0</td>\n",
              "      <td>0</td>\n",
              "      <td>2015-02-09</td>\n",
              "      <td>0</td>\n",
              "      <td>0</td>\n",
              "      <td>305787.775888</td>\n",
              "    </tr>\n",
              "    <tr>\n",
              "      <th>1</th>\n",
              "      <td>14.0</td>\n",
              "      <td>1147.0</td>\n",
              "      <td>0.0</td>\n",
              "      <td>5.0</td>\n",
              "      <td>0.0</td>\n",
              "      <td>0.0</td>\n",
              "      <td>3.0</td>\n",
              "      <td>0.0</td>\n",
              "      <td>gas_furnace_circulation</td>\n",
              "      <td>0.0</td>\n",
              "      <td>1.0</td>\n",
              "      <td>0.0</td>\n",
              "      <td>2015-02-09</td>\n",
              "      <td>35.0</td>\n",
              "      <td>0.0</td>\n",
              "      <td>11.2</td>\n",
              "      <td>3.200000e+05</td>\n",
              "      <td>363420.287835</td>\n",
              "      <td>0</td>\n",
              "      <td>0</td>\n",
              "      <td>0</td>\n",
              "      <td>0</td>\n",
              "      <td>0</td>\n",
              "      <td>0</td>\n",
              "      <td>0</td>\n",
              "      <td>0</td>\n",
              "      <td>0</td>\n",
              "      <td>0</td>\n",
              "      <td>0</td>\n",
              "      <td>0</td>\n",
              "      <td>0</td>\n",
              "      <td>1</td>\n",
              "      <td>0</td>\n",
              "      <td>0</td>\n",
              "      <td>0</td>\n",
              "      <td>0</td>\n",
              "      <td>0</td>\n",
              "      <td>0</td>\n",
              "      <td>0</td>\n",
              "      <td>0</td>\n",
              "      <td>0</td>\n",
              "      <td>0</td>\n",
              "      <td>0</td>\n",
              "      <td>0</td>\n",
              "      <td>0</td>\n",
              "      <td>0</td>\n",
              "      <td>0</td>\n",
              "      <td>0</td>\n",
              "      <td>1</td>\n",
              "      <td>0</td>\n",
              "      <td>0</td>\n",
              "      <td>0</td>\n",
              "      <td>2015-02-09</td>\n",
              "      <td>0</td>\n",
              "      <td>0</td>\n",
              "      <td>305787.775888</td>\n",
              "    </tr>\n",
              "    <tr>\n",
              "      <th>2</th>\n",
              "      <td>14.0</td>\n",
              "      <td>1140.0</td>\n",
              "      <td>0.0</td>\n",
              "      <td>3.0</td>\n",
              "      <td>4.0</td>\n",
              "      <td>4.0</td>\n",
              "      <td>3.0</td>\n",
              "      <td>0.0</td>\n",
              "      <td>convection_gas</td>\n",
              "      <td>0.0</td>\n",
              "      <td>2.0</td>\n",
              "      <td>0.0</td>\n",
              "      <td>2015-02-09</td>\n",
              "      <td>50.0</td>\n",
              "      <td>0.0</td>\n",
              "      <td>14.5</td>\n",
              "      <td>2.900000e+05</td>\n",
              "      <td>363420.287835</td>\n",
              "      <td>0</td>\n",
              "      <td>0</td>\n",
              "      <td>0</td>\n",
              "      <td>0</td>\n",
              "      <td>0</td>\n",
              "      <td>0</td>\n",
              "      <td>0</td>\n",
              "      <td>0</td>\n",
              "      <td>0</td>\n",
              "      <td>0</td>\n",
              "      <td>0</td>\n",
              "      <td>0</td>\n",
              "      <td>0</td>\n",
              "      <td>1</td>\n",
              "      <td>0</td>\n",
              "      <td>0</td>\n",
              "      <td>0</td>\n",
              "      <td>0</td>\n",
              "      <td>0</td>\n",
              "      <td>0</td>\n",
              "      <td>0</td>\n",
              "      <td>0</td>\n",
              "      <td>0</td>\n",
              "      <td>0</td>\n",
              "      <td>0</td>\n",
              "      <td>1</td>\n",
              "      <td>0</td>\n",
              "      <td>0</td>\n",
              "      <td>0</td>\n",
              "      <td>0</td>\n",
              "      <td>0</td>\n",
              "      <td>0</td>\n",
              "      <td>0</td>\n",
              "      <td>0</td>\n",
              "      <td>2015-02-09</td>\n",
              "      <td>0</td>\n",
              "      <td>0</td>\n",
              "      <td>305787.775888</td>\n",
              "    </tr>\n",
              "    <tr>\n",
              "      <th>3</th>\n",
              "      <td>2.0</td>\n",
              "      <td>1024.0</td>\n",
              "      <td>0.0</td>\n",
              "      <td>5.0</td>\n",
              "      <td>-1.0</td>\n",
              "      <td>3.0</td>\n",
              "      <td>3.0</td>\n",
              "      <td>0.0</td>\n",
              "      <td>convection_gas</td>\n",
              "      <td>1.0</td>\n",
              "      <td>1.0</td>\n",
              "      <td>1.0</td>\n",
              "      <td>2015-02-09</td>\n",
              "      <td>50.0</td>\n",
              "      <td>0.0</td>\n",
              "      <td>15.3</td>\n",
              "      <td>3.060000e+05</td>\n",
              "      <td>501418.069779</td>\n",
              "      <td>0</td>\n",
              "      <td>1</td>\n",
              "      <td>0</td>\n",
              "      <td>0</td>\n",
              "      <td>0</td>\n",
              "      <td>0</td>\n",
              "      <td>0</td>\n",
              "      <td>0</td>\n",
              "      <td>0</td>\n",
              "      <td>0</td>\n",
              "      <td>0</td>\n",
              "      <td>0</td>\n",
              "      <td>0</td>\n",
              "      <td>0</td>\n",
              "      <td>0</td>\n",
              "      <td>0</td>\n",
              "      <td>0</td>\n",
              "      <td>0</td>\n",
              "      <td>0</td>\n",
              "      <td>0</td>\n",
              "      <td>0</td>\n",
              "      <td>0</td>\n",
              "      <td>0</td>\n",
              "      <td>0</td>\n",
              "      <td>0</td>\n",
              "      <td>1</td>\n",
              "      <td>0</td>\n",
              "      <td>0</td>\n",
              "      <td>0</td>\n",
              "      <td>0</td>\n",
              "      <td>0</td>\n",
              "      <td>0</td>\n",
              "      <td>0</td>\n",
              "      <td>0</td>\n",
              "      <td>2015-02-09</td>\n",
              "      <td>0</td>\n",
              "      <td>0</td>\n",
              "      <td>305787.775888</td>\n",
              "    </tr>\n",
              "    <tr>\n",
              "      <th>4</th>\n",
              "      <td>12.0</td>\n",
              "      <td>1126.0</td>\n",
              "      <td>0.0</td>\n",
              "      <td>4.0</td>\n",
              "      <td>0.0</td>\n",
              "      <td>0.0</td>\n",
              "      <td>3.0</td>\n",
              "      <td>0.0</td>\n",
              "      <td>gas_furnace_circulation</td>\n",
              "      <td>0.0</td>\n",
              "      <td>1.0</td>\n",
              "      <td>2.0</td>\n",
              "      <td>2015-02-09</td>\n",
              "      <td>50.0</td>\n",
              "      <td>0.0</td>\n",
              "      <td>17.9</td>\n",
              "      <td>3.580000e+05</td>\n",
              "      <td>489728.870508</td>\n",
              "      <td>0</td>\n",
              "      <td>0</td>\n",
              "      <td>0</td>\n",
              "      <td>0</td>\n",
              "      <td>0</td>\n",
              "      <td>0</td>\n",
              "      <td>0</td>\n",
              "      <td>0</td>\n",
              "      <td>0</td>\n",
              "      <td>0</td>\n",
              "      <td>0</td>\n",
              "      <td>1</td>\n",
              "      <td>0</td>\n",
              "      <td>0</td>\n",
              "      <td>0</td>\n",
              "      <td>0</td>\n",
              "      <td>0</td>\n",
              "      <td>0</td>\n",
              "      <td>0</td>\n",
              "      <td>0</td>\n",
              "      <td>0</td>\n",
              "      <td>0</td>\n",
              "      <td>0</td>\n",
              "      <td>0</td>\n",
              "      <td>0</td>\n",
              "      <td>0</td>\n",
              "      <td>0</td>\n",
              "      <td>0</td>\n",
              "      <td>0</td>\n",
              "      <td>0</td>\n",
              "      <td>1</td>\n",
              "      <td>0</td>\n",
              "      <td>0</td>\n",
              "      <td>0</td>\n",
              "      <td>2015-02-09</td>\n",
              "      <td>0</td>\n",
              "      <td>0</td>\n",
              "      <td>305787.775888</td>\n",
              "    </tr>\n",
              "    <tr>\n",
              "      <th>...</th>\n",
              "      <td>...</td>\n",
              "      <td>...</td>\n",
              "      <td>...</td>\n",
              "      <td>...</td>\n",
              "      <td>...</td>\n",
              "      <td>...</td>\n",
              "      <td>...</td>\n",
              "      <td>...</td>\n",
              "      <td>...</td>\n",
              "      <td>...</td>\n",
              "      <td>...</td>\n",
              "      <td>...</td>\n",
              "      <td>...</td>\n",
              "      <td>...</td>\n",
              "      <td>...</td>\n",
              "      <td>...</td>\n",
              "      <td>...</td>\n",
              "      <td>...</td>\n",
              "      <td>...</td>\n",
              "      <td>...</td>\n",
              "      <td>...</td>\n",
              "      <td>...</td>\n",
              "      <td>...</td>\n",
              "      <td>...</td>\n",
              "      <td>...</td>\n",
              "      <td>...</td>\n",
              "      <td>...</td>\n",
              "      <td>...</td>\n",
              "      <td>...</td>\n",
              "      <td>...</td>\n",
              "      <td>...</td>\n",
              "      <td>...</td>\n",
              "      <td>...</td>\n",
              "      <td>...</td>\n",
              "      <td>...</td>\n",
              "      <td>...</td>\n",
              "      <td>...</td>\n",
              "      <td>...</td>\n",
              "      <td>...</td>\n",
              "      <td>...</td>\n",
              "      <td>...</td>\n",
              "      <td>...</td>\n",
              "      <td>...</td>\n",
              "      <td>...</td>\n",
              "      <td>...</td>\n",
              "      <td>...</td>\n",
              "      <td>...</td>\n",
              "      <td>...</td>\n",
              "      <td>...</td>\n",
              "      <td>...</td>\n",
              "      <td>...</td>\n",
              "      <td>...</td>\n",
              "      <td>...</td>\n",
              "      <td>...</td>\n",
              "      <td>...</td>\n",
              "      <td>...</td>\n",
              "    </tr>\n",
              "    <tr>\n",
              "      <th>168645</th>\n",
              "      <td>7.0</td>\n",
              "      <td>1076.0</td>\n",
              "      <td>0.0</td>\n",
              "      <td>3.0</td>\n",
              "      <td>0.0</td>\n",
              "      <td>0.0</td>\n",
              "      <td>4.0</td>\n",
              "      <td>0.0</td>\n",
              "      <td>electric</td>\n",
              "      <td>0.0</td>\n",
              "      <td>1.0</td>\n",
              "      <td>0.0</td>\n",
              "      <td>2016-08-29</td>\n",
              "      <td>30.0</td>\n",
              "      <td>0.0</td>\n",
              "      <td>11.0</td>\n",
              "      <td>3.666667e+05</td>\n",
              "      <td>437966.116162</td>\n",
              "      <td>0</td>\n",
              "      <td>0</td>\n",
              "      <td>0</td>\n",
              "      <td>0</td>\n",
              "      <td>0</td>\n",
              "      <td>0</td>\n",
              "      <td>1</td>\n",
              "      <td>0</td>\n",
              "      <td>0</td>\n",
              "      <td>0</td>\n",
              "      <td>0</td>\n",
              "      <td>0</td>\n",
              "      <td>0</td>\n",
              "      <td>0</td>\n",
              "      <td>0</td>\n",
              "      <td>0</td>\n",
              "      <td>0</td>\n",
              "      <td>0</td>\n",
              "      <td>0</td>\n",
              "      <td>0</td>\n",
              "      <td>0</td>\n",
              "      <td>0</td>\n",
              "      <td>0</td>\n",
              "      <td>0</td>\n",
              "      <td>0</td>\n",
              "      <td>0</td>\n",
              "      <td>0</td>\n",
              "      <td>1</td>\n",
              "      <td>0</td>\n",
              "      <td>0</td>\n",
              "      <td>0</td>\n",
              "      <td>0</td>\n",
              "      <td>0</td>\n",
              "      <td>0</td>\n",
              "      <td>2016-08-29</td>\n",
              "      <td>567</td>\n",
              "      <td>0</td>\n",
              "      <td>446622.783931</td>\n",
              "    </tr>\n",
              "    <tr>\n",
              "      <th>168646</th>\n",
              "      <td>7.0</td>\n",
              "      <td>1070.0</td>\n",
              "      <td>0.0</td>\n",
              "      <td>1.0</td>\n",
              "      <td>2.0</td>\n",
              "      <td>2.0</td>\n",
              "      <td>3.0</td>\n",
              "      <td>0.0</td>\n",
              "      <td>convection_gas</td>\n",
              "      <td>0.0</td>\n",
              "      <td>2.0</td>\n",
              "      <td>0.0</td>\n",
              "      <td>2016-08-29</td>\n",
              "      <td>45.0</td>\n",
              "      <td>0.0</td>\n",
              "      <td>20.5</td>\n",
              "      <td>4.555556e+05</td>\n",
              "      <td>437966.116162</td>\n",
              "      <td>0</td>\n",
              "      <td>0</td>\n",
              "      <td>0</td>\n",
              "      <td>0</td>\n",
              "      <td>0</td>\n",
              "      <td>0</td>\n",
              "      <td>1</td>\n",
              "      <td>0</td>\n",
              "      <td>0</td>\n",
              "      <td>0</td>\n",
              "      <td>0</td>\n",
              "      <td>0</td>\n",
              "      <td>0</td>\n",
              "      <td>0</td>\n",
              "      <td>0</td>\n",
              "      <td>0</td>\n",
              "      <td>0</td>\n",
              "      <td>0</td>\n",
              "      <td>0</td>\n",
              "      <td>0</td>\n",
              "      <td>0</td>\n",
              "      <td>0</td>\n",
              "      <td>0</td>\n",
              "      <td>0</td>\n",
              "      <td>0</td>\n",
              "      <td>1</td>\n",
              "      <td>0</td>\n",
              "      <td>0</td>\n",
              "      <td>0</td>\n",
              "      <td>0</td>\n",
              "      <td>0</td>\n",
              "      <td>0</td>\n",
              "      <td>0</td>\n",
              "      <td>0</td>\n",
              "      <td>2016-08-29</td>\n",
              "      <td>567</td>\n",
              "      <td>0</td>\n",
              "      <td>446622.783931</td>\n",
              "    </tr>\n",
              "    <tr>\n",
              "      <th>168647</th>\n",
              "      <td>4.0</td>\n",
              "      <td>1040.0</td>\n",
              "      <td>0.0</td>\n",
              "      <td>6.0</td>\n",
              "      <td>0.0</td>\n",
              "      <td>1.0</td>\n",
              "      <td>5.0</td>\n",
              "      <td>0.0</td>\n",
              "      <td>convection_gas</td>\n",
              "      <td>0.0</td>\n",
              "      <td>1.0</td>\n",
              "      <td>0.0</td>\n",
              "      <td>2016-08-29</td>\n",
              "      <td>40.0</td>\n",
              "      <td>0.0</td>\n",
              "      <td>8.5</td>\n",
              "      <td>2.125000e+05</td>\n",
              "      <td>300014.865030</td>\n",
              "      <td>0</td>\n",
              "      <td>0</td>\n",
              "      <td>0</td>\n",
              "      <td>1</td>\n",
              "      <td>0</td>\n",
              "      <td>0</td>\n",
              "      <td>0</td>\n",
              "      <td>0</td>\n",
              "      <td>0</td>\n",
              "      <td>0</td>\n",
              "      <td>0</td>\n",
              "      <td>0</td>\n",
              "      <td>0</td>\n",
              "      <td>0</td>\n",
              "      <td>0</td>\n",
              "      <td>0</td>\n",
              "      <td>0</td>\n",
              "      <td>0</td>\n",
              "      <td>0</td>\n",
              "      <td>0</td>\n",
              "      <td>0</td>\n",
              "      <td>0</td>\n",
              "      <td>0</td>\n",
              "      <td>0</td>\n",
              "      <td>0</td>\n",
              "      <td>1</td>\n",
              "      <td>0</td>\n",
              "      <td>0</td>\n",
              "      <td>0</td>\n",
              "      <td>0</td>\n",
              "      <td>0</td>\n",
              "      <td>0</td>\n",
              "      <td>0</td>\n",
              "      <td>0</td>\n",
              "      <td>2016-08-29</td>\n",
              "      <td>567</td>\n",
              "      <td>0</td>\n",
              "      <td>446622.783931</td>\n",
              "    </tr>\n",
              "    <tr>\n",
              "      <th>168648</th>\n",
              "      <td>4.0</td>\n",
              "      <td>1040.0</td>\n",
              "      <td>1.0</td>\n",
              "      <td>6.0</td>\n",
              "      <td>1.0</td>\n",
              "      <td>4.0</td>\n",
              "      <td>5.0</td>\n",
              "      <td>0.0</td>\n",
              "      <td>district_heat</td>\n",
              "      <td>0.0</td>\n",
              "      <td>2.0</td>\n",
              "      <td>1.0</td>\n",
              "      <td>2016-08-29</td>\n",
              "      <td>65.0</td>\n",
              "      <td>4.0</td>\n",
              "      <td>18.9</td>\n",
              "      <td>2.820896e+05</td>\n",
              "      <td>300014.865030</td>\n",
              "      <td>0</td>\n",
              "      <td>0</td>\n",
              "      <td>0</td>\n",
              "      <td>1</td>\n",
              "      <td>0</td>\n",
              "      <td>0</td>\n",
              "      <td>0</td>\n",
              "      <td>0</td>\n",
              "      <td>0</td>\n",
              "      <td>0</td>\n",
              "      <td>0</td>\n",
              "      <td>0</td>\n",
              "      <td>0</td>\n",
              "      <td>0</td>\n",
              "      <td>0</td>\n",
              "      <td>0</td>\n",
              "      <td>0</td>\n",
              "      <td>0</td>\n",
              "      <td>0</td>\n",
              "      <td>0</td>\n",
              "      <td>0</td>\n",
              "      <td>0</td>\n",
              "      <td>0</td>\n",
              "      <td>0</td>\n",
              "      <td>0</td>\n",
              "      <td>0</td>\n",
              "      <td>1</td>\n",
              "      <td>0</td>\n",
              "      <td>0</td>\n",
              "      <td>0</td>\n",
              "      <td>0</td>\n",
              "      <td>0</td>\n",
              "      <td>0</td>\n",
              "      <td>0</td>\n",
              "      <td>2016-08-29</td>\n",
              "      <td>567</td>\n",
              "      <td>0</td>\n",
              "      <td>446622.783931</td>\n",
              "    </tr>\n",
              "    <tr>\n",
              "      <th>168649</th>\n",
              "      <td>5.0</td>\n",
              "      <td>1052.0</td>\n",
              "      <td>0.0</td>\n",
              "      <td>5.0</td>\n",
              "      <td>1.0</td>\n",
              "      <td>1.0</td>\n",
              "      <td>3.0</td>\n",
              "      <td>0.0</td>\n",
              "      <td>convection_gas</td>\n",
              "      <td>1.0</td>\n",
              "      <td>2.0</td>\n",
              "      <td>0.0</td>\n",
              "      <td>2016-08-29</td>\n",
              "      <td>40.0</td>\n",
              "      <td>0.0</td>\n",
              "      <td>42.0</td>\n",
              "      <td>1.050000e+06</td>\n",
              "      <td>679420.287379</td>\n",
              "      <td>0</td>\n",
              "      <td>0</td>\n",
              "      <td>0</td>\n",
              "      <td>0</td>\n",
              "      <td>1</td>\n",
              "      <td>0</td>\n",
              "      <td>0</td>\n",
              "      <td>0</td>\n",
              "      <td>0</td>\n",
              "      <td>0</td>\n",
              "      <td>0</td>\n",
              "      <td>0</td>\n",
              "      <td>0</td>\n",
              "      <td>0</td>\n",
              "      <td>0</td>\n",
              "      <td>0</td>\n",
              "      <td>0</td>\n",
              "      <td>0</td>\n",
              "      <td>0</td>\n",
              "      <td>0</td>\n",
              "      <td>0</td>\n",
              "      <td>0</td>\n",
              "      <td>0</td>\n",
              "      <td>0</td>\n",
              "      <td>0</td>\n",
              "      <td>1</td>\n",
              "      <td>0</td>\n",
              "      <td>0</td>\n",
              "      <td>0</td>\n",
              "      <td>0</td>\n",
              "      <td>0</td>\n",
              "      <td>0</td>\n",
              "      <td>0</td>\n",
              "      <td>0</td>\n",
              "      <td>2016-08-29</td>\n",
              "      <td>567</td>\n",
              "      <td>0</td>\n",
              "      <td>446622.783931</td>\n",
              "    </tr>\n",
              "  </tbody>\n",
              "</table>\n",
              "<p>168650 rows × 56 columns</p>\n",
              "</div>\n",
              "    <div class=\"colab-df-buttons\">\n",
              "\n",
              "  <div class=\"colab-df-container\">\n",
              "    <button class=\"colab-df-convert\" onclick=\"convertToInteractive('df-41c0b0cf-9317-4746-86b0-bb1df64d1643')\"\n",
              "            title=\"Convert this dataframe to an interactive table.\"\n",
              "            style=\"display:none;\">\n",
              "\n",
              "  <svg xmlns=\"http://www.w3.org/2000/svg\" height=\"24px\" viewBox=\"0 -960 960 960\">\n",
              "    <path d=\"M120-120v-720h720v720H120Zm60-500h600v-160H180v160Zm220 220h160v-160H400v160Zm0 220h160v-160H400v160ZM180-400h160v-160H180v160Zm440 0h160v-160H620v160ZM180-180h160v-160H180v160Zm440 0h160v-160H620v160Z\"/>\n",
              "  </svg>\n",
              "    </button>\n",
              "\n",
              "  <style>\n",
              "    .colab-df-container {\n",
              "      display:flex;\n",
              "      gap: 12px;\n",
              "    }\n",
              "\n",
              "    .colab-df-convert {\n",
              "      background-color: #E8F0FE;\n",
              "      border: none;\n",
              "      border-radius: 50%;\n",
              "      cursor: pointer;\n",
              "      display: none;\n",
              "      fill: #1967D2;\n",
              "      height: 32px;\n",
              "      padding: 0 0 0 0;\n",
              "      width: 32px;\n",
              "    }\n",
              "\n",
              "    .colab-df-convert:hover {\n",
              "      background-color: #E2EBFA;\n",
              "      box-shadow: 0px 1px 2px rgba(60, 64, 67, 0.3), 0px 1px 3px 1px rgba(60, 64, 67, 0.15);\n",
              "      fill: #174EA6;\n",
              "    }\n",
              "\n",
              "    .colab-df-buttons div {\n",
              "      margin-bottom: 4px;\n",
              "    }\n",
              "\n",
              "    [theme=dark] .colab-df-convert {\n",
              "      background-color: #3B4455;\n",
              "      fill: #D2E3FC;\n",
              "    }\n",
              "\n",
              "    [theme=dark] .colab-df-convert:hover {\n",
              "      background-color: #434B5C;\n",
              "      box-shadow: 0px 1px 3px 1px rgba(0, 0, 0, 0.15);\n",
              "      filter: drop-shadow(0px 1px 2px rgba(0, 0, 0, 0.3));\n",
              "      fill: #FFFFFF;\n",
              "    }\n",
              "  </style>\n",
              "\n",
              "    <script>\n",
              "      const buttonEl =\n",
              "        document.querySelector('#df-41c0b0cf-9317-4746-86b0-bb1df64d1643 button.colab-df-convert');\n",
              "      buttonEl.style.display =\n",
              "        google.colab.kernel.accessAllowed ? 'block' : 'none';\n",
              "\n",
              "      async function convertToInteractive(key) {\n",
              "        const element = document.querySelector('#df-41c0b0cf-9317-4746-86b0-bb1df64d1643');\n",
              "        const dataTable =\n",
              "          await google.colab.kernel.invokeFunction('convertToInteractive',\n",
              "                                                    [key], {});\n",
              "        if (!dataTable) return;\n",
              "\n",
              "        const docLinkHtml = 'Like what you see? Visit the ' +\n",
              "          '<a target=\"_blank\" href=https://colab.research.google.com/notebooks/data_table.ipynb>data table notebook</a>'\n",
              "          + ' to learn more about interactive tables.';\n",
              "        element.innerHTML = '';\n",
              "        dataTable['output_type'] = 'display_data';\n",
              "        await google.colab.output.renderOutput(dataTable, element);\n",
              "        const docLink = document.createElement('div');\n",
              "        docLink.innerHTML = docLinkHtml;\n",
              "        element.appendChild(docLink);\n",
              "      }\n",
              "    </script>\n",
              "  </div>\n",
              "\n",
              "\n",
              "<div id=\"df-a8205cd0-5cdc-44e6-a4da-7302ae72a667\">\n",
              "  <button class=\"colab-df-quickchart\" onclick=\"quickchart('df-a8205cd0-5cdc-44e6-a4da-7302ae72a667')\"\n",
              "            title=\"Suggest charts\"\n",
              "            style=\"display:none;\">\n",
              "\n",
              "<svg xmlns=\"http://www.w3.org/2000/svg\" height=\"24px\"viewBox=\"0 0 24 24\"\n",
              "     width=\"24px\">\n",
              "    <g>\n",
              "        <path d=\"M19 3H5c-1.1 0-2 .9-2 2v14c0 1.1.9 2 2 2h14c1.1 0 2-.9 2-2V5c0-1.1-.9-2-2-2zM9 17H7v-7h2v7zm4 0h-2V7h2v10zm4 0h-2v-4h2v4z\"/>\n",
              "    </g>\n",
              "</svg>\n",
              "  </button>\n",
              "\n",
              "<style>\n",
              "  .colab-df-quickchart {\n",
              "      --bg-color: #E8F0FE;\n",
              "      --fill-color: #1967D2;\n",
              "      --hover-bg-color: #E2EBFA;\n",
              "      --hover-fill-color: #174EA6;\n",
              "      --disabled-fill-color: #AAA;\n",
              "      --disabled-bg-color: #DDD;\n",
              "  }\n",
              "\n",
              "  [theme=dark] .colab-df-quickchart {\n",
              "      --bg-color: #3B4455;\n",
              "      --fill-color: #D2E3FC;\n",
              "      --hover-bg-color: #434B5C;\n",
              "      --hover-fill-color: #FFFFFF;\n",
              "      --disabled-bg-color: #3B4455;\n",
              "      --disabled-fill-color: #666;\n",
              "  }\n",
              "\n",
              "  .colab-df-quickchart {\n",
              "    background-color: var(--bg-color);\n",
              "    border: none;\n",
              "    border-radius: 50%;\n",
              "    cursor: pointer;\n",
              "    display: none;\n",
              "    fill: var(--fill-color);\n",
              "    height: 32px;\n",
              "    padding: 0;\n",
              "    width: 32px;\n",
              "  }\n",
              "\n",
              "  .colab-df-quickchart:hover {\n",
              "    background-color: var(--hover-bg-color);\n",
              "    box-shadow: 0 1px 2px rgba(60, 64, 67, 0.3), 0 1px 3px 1px rgba(60, 64, 67, 0.15);\n",
              "    fill: var(--button-hover-fill-color);\n",
              "  }\n",
              "\n",
              "  .colab-df-quickchart-complete:disabled,\n",
              "  .colab-df-quickchart-complete:disabled:hover {\n",
              "    background-color: var(--disabled-bg-color);\n",
              "    fill: var(--disabled-fill-color);\n",
              "    box-shadow: none;\n",
              "  }\n",
              "\n",
              "  .colab-df-spinner {\n",
              "    border: 2px solid var(--fill-color);\n",
              "    border-color: transparent;\n",
              "    border-bottom-color: var(--fill-color);\n",
              "    animation:\n",
              "      spin 1s steps(1) infinite;\n",
              "  }\n",
              "\n",
              "  @keyframes spin {\n",
              "    0% {\n",
              "      border-color: transparent;\n",
              "      border-bottom-color: var(--fill-color);\n",
              "      border-left-color: var(--fill-color);\n",
              "    }\n",
              "    20% {\n",
              "      border-color: transparent;\n",
              "      border-left-color: var(--fill-color);\n",
              "      border-top-color: var(--fill-color);\n",
              "    }\n",
              "    30% {\n",
              "      border-color: transparent;\n",
              "      border-left-color: var(--fill-color);\n",
              "      border-top-color: var(--fill-color);\n",
              "      border-right-color: var(--fill-color);\n",
              "    }\n",
              "    40% {\n",
              "      border-color: transparent;\n",
              "      border-right-color: var(--fill-color);\n",
              "      border-top-color: var(--fill-color);\n",
              "    }\n",
              "    60% {\n",
              "      border-color: transparent;\n",
              "      border-right-color: var(--fill-color);\n",
              "    }\n",
              "    80% {\n",
              "      border-color: transparent;\n",
              "      border-right-color: var(--fill-color);\n",
              "      border-bottom-color: var(--fill-color);\n",
              "    }\n",
              "    90% {\n",
              "      border-color: transparent;\n",
              "      border-bottom-color: var(--fill-color);\n",
              "    }\n",
              "  }\n",
              "</style>\n",
              "\n",
              "  <script>\n",
              "    async function quickchart(key) {\n",
              "      const quickchartButtonEl =\n",
              "        document.querySelector('#' + key + ' button');\n",
              "      quickchartButtonEl.disabled = true;  // To prevent multiple clicks.\n",
              "      quickchartButtonEl.classList.add('colab-df-spinner');\n",
              "      try {\n",
              "        const charts = await google.colab.kernel.invokeFunction(\n",
              "            'suggestCharts', [key], {});\n",
              "      } catch (error) {\n",
              "        console.error('Error during call to suggestCharts:', error);\n",
              "      }\n",
              "      quickchartButtonEl.classList.remove('colab-df-spinner');\n",
              "      quickchartButtonEl.classList.add('colab-df-quickchart-complete');\n",
              "    }\n",
              "    (() => {\n",
              "      let quickchartButtonEl =\n",
              "        document.querySelector('#df-a8205cd0-5cdc-44e6-a4da-7302ae72a667 button');\n",
              "      quickchartButtonEl.style.display =\n",
              "        google.colab.kernel.accessAllowed ? 'block' : 'none';\n",
              "    })();\n",
              "  </script>\n",
              "</div>\n",
              "    </div>\n",
              "  </div>\n"
            ]
          },
          "metadata": {},
          "execution_count": 459
        }
      ]
    },
    {
      "cell_type": "markdown",
      "source": [
        "#Modell train"
      ],
      "metadata": {
        "id": "WzUDvseUOMqj"
      }
    },
    {
      "cell_type": "markdown",
      "source": [
        "##Feature készeletek"
      ],
      "metadata": {
        "id": "ZGYPLt8cOg_K"
      }
    },
    {
      "cell_type": "code",
      "source": [
        "df.columns.sort_values()"
      ],
      "metadata": {
        "colab": {
          "base_uri": "https://localhost:8080/"
        },
        "id": "qr2cQkF9OYh8",
        "outputId": "b3ecab3f-9d24-4674-b01e-8601260b42f1"
      },
      "execution_count": null,
      "outputs": [
        {
          "output_type": "execute_result",
          "data": {
            "text/plain": [
              "Index(['atlag_nmAr', 'balcony_area', 'building_floor_count', 'created_at',\n",
              "       'created_at_day', 'date', 'daynum', 'district', 'district__1.0',\n",
              "       'district__10.0', 'district__11.0', 'district__12.0', 'district__13.0',\n",
              "       'district__14.0', 'district__15.0', 'district__16.0', 'district__17.0',\n",
              "       'district__18.0', 'district__19.0', 'district__2.0', 'district__20.0',\n",
              "       'district__21.0', 'district__22.0', 'district__23.0', 'district__3.0',\n",
              "       'district__4.0', 'district__5.0', 'district__6.0', 'district__7.0',\n",
              "       'district__8.0', 'district__9.0', 'elevator_type', 'garden_access',\n",
              "       'heat__central', 'heat__central_meter', 'heat__convection_gas',\n",
              "       'heat__district_heat', 'heat__electric', 'heat__fan_coil',\n",
              "       'heat__gas_furnace', 'heat__gas_furnace_circulation', 'heat__gas_solar',\n",
              "       'heat__other', 'heat__tile_stove', 'heating_type', 'nmAr',\n",
              "       'orientation', 'panel_flag', 'postcode', 'price_created_at',\n",
              "       'property_area', 'property_condition_type', 'property_floor',\n",
              "       'room_cnt', 'small_room_cnt', 'trend_nmAr'],\n",
              "      dtype='object')"
            ]
          },
          "metadata": {},
          "execution_count": 461
        }
      ]
    },
    {
      "cell_type": "code",
      "source": [
        "base_features = ['room_cnt', 'small_room_cnt', 'property_area', 'balcony_area', 'atlag_nmAr']\n",
        "\n",
        "location_feature_sets = [\n",
        "    ['district__1.0',\n",
        "     'district__2.0',\n",
        "     'district__3.0',\n",
        "     'district__4.0',\n",
        "     'district__5.0',\n",
        "     'district__6.0',\n",
        "     'district__7.0',\n",
        "     'district__8.0',\n",
        "     'district__9.0',\n",
        "     'district__10.0',\n",
        "     'district__11.0',\n",
        "     'district__12.0',\n",
        "     'district__13.0',\n",
        "     'district__14.0',\n",
        "     'district__15.0',\n",
        "     'district__16.0',\n",
        "     'district__17.0',\n",
        "     'district__18.0',\n",
        "     'district__19.0',\n",
        "     'district__20.0',\n",
        "     'district__21.0',\n",
        "     'district__22.0',\n",
        "     'district__23.0'],\n",
        "    ['postcode'],\n",
        "]\n",
        "\n",
        "orientation_feature_sets = [\n",
        "    ['orientation'],\n",
        "]\n",
        "\n",
        "heating_feature_sets = [\n",
        "    ['heat__central',\n",
        "     'heat__central_meter',\n",
        "     'heat__convection_gas',\n",
        "     'heat__district_heat',\n",
        "     'heat__electric',\n",
        "     'heat__fan_coil',\n",
        "     'heat__gas_furnace',\n",
        "     'heat__gas_furnace_circulation',\n",
        "     'heat__gas_solar',\n",
        "     'heat__other',\n",
        "     'heat__tile_stove'],\n",
        "]\n",
        "\n",
        "quality_feature_sets = [\n",
        "    ['property_condition_type',\n",
        "     'panel_flag',\n",
        "     'elevator_type',\n",
        "     'garden_access',\n",
        "     'building_floor_count',\n",
        "     'property_floor'],\n",
        "]"
      ],
      "metadata": {
        "id": "hziiH9cAPM1b"
      },
      "execution_count": null,
      "outputs": []
    },
    {
      "cell_type": "markdown",
      "source": [
        "##Train"
      ],
      "metadata": {
        "id": "QWVal7rLXzvn"
      }
    },
    {
      "cell_type": "code",
      "source": [
        "def modelling(model,train_df,test_df, bemeno_valtozok, celvaltozo):\n",
        "    model.fit(train_df[bemeno_valtozok], train_df[celvaltozo])\n",
        "    test_df['tipp']=model.predict(test_df[bemeno_valtozok])\n",
        "    return test_df"
      ],
      "metadata": {
        "id": "k9NCJ3jrXmbq"
      },
      "execution_count": null,
      "outputs": []
    },
    {
      "cell_type": "code",
      "source": [
        "def eval_function(model,df, tipp_oszlop_neve, target_oszlop_neve):\n",
        "    mean_absolute_error = (abs(df[tipp_oszlop_neve]-df[target_oszlop_neve])).mean()\n",
        "\n",
        "    MAPE=(abs((df[target_oszlop_neve] - df[tipp_oszlop_neve])/df[target_oszlop_neve])).mean()\n",
        "    rmse =  np.sqrt( ( (df[tipp_oszlop_neve]-df[target_oszlop_neve])**2 ).mean() )\n",
        "\n",
        "    df['tipp_arany']=df[target_oszlop_neve]/df[tipp_oszlop_neve]\n",
        "    prom_ratio=df[  (df['tipp_arany']>0.75 ) & (df['tipp_arany']<0.95)]\n",
        "\n",
        "    print(\"\\n--------------------------------\")\n",
        "    print(model)\n",
        "    print(\"RMSE\",rmse)\n",
        "    print(\"MAE:\",mean_absolute_error)\n",
        "    print(\"MAPE:\",MAPE)\n",
        "    print(\"Ratio of promising results\",len(prom_ratio)/len(df))\n",
        "    return rmse, mean_absolute_error, MAPE, len(prom_ratio)/len(df)"
      ],
      "metadata": {
        "id": "2rYehiSNX_xu"
      },
      "execution_count": null,
      "outputs": []
    },
    {
      "cell_type": "markdown",
      "source": [
        "##Modellek: LinReg, GradientBoostingReg, MLPReg"
      ],
      "metadata": {
        "id": "b2mGAqVgiQXB"
      }
    },
    {
      "cell_type": "code",
      "source": [
        "from sklearn.neural_network import MLPRegressor\n",
        "\n",
        "model_linreg = LinearRegression()\n",
        "model_gbm = GradientBoostingRegressor(n_estimators=100,max_depth=4,random_state=42)\n",
        "model_nn = MLPRegressor(random_state=42, max_iter=1000, hidden_layer_sizes=(50,10), solver=\"adam\", activation=\"relu\", learning_rate=\"adaptive\", learning_rate_init=0.001, alpha=0.0001)\n",
        "\n",
        "models = [model_linreg, model_gbm, model_nn]"
      ],
      "metadata": {
        "id": "zbhZFPcBYR7_"
      },
      "execution_count": null,
      "outputs": []
    },
    {
      "cell_type": "code",
      "source": [
        "from sklearn.model_selection import KFold\n",
        "\n",
        "# Eredmenyek struktúrája: [legjobb_ertek, [feature-set], model, CV sorszáma]\n",
        "best_rmse = [1000000000000,[],np.nan,0]\n",
        "best_mae = [1000000000000,[],np.nan,0]\n",
        "best_mape = [1000000000000,[],np.nan,0]\n",
        "\n",
        "\n",
        "# Modell valasztas\n",
        "for model in models:\n",
        "\n",
        "    # Feature set-ek\n",
        "      for loc in location_feature_sets:\n",
        "          for orient in orientation_feature_sets:\n",
        "              for heating in heating_feature_sets:\n",
        "                    for quality in quality_feature_sets:\n",
        "\n",
        "                          # Feature set\n",
        "                          bemeno_valtozok = base_features + loc + orient + heating + quality\n",
        "                          celvaltozo = ['nmAr']\n",
        "\n",
        "                          # Cross-validation\n",
        "                          kfold = KFold(n_splits=3)\n",
        "                          results = []\n",
        "                          for train_index, test_index in kfold.split(df):\n",
        "                              train_df = df[bemeno_valtozok + celvaltozo].iloc[train_index]\n",
        "                              test_df = df[bemeno_valtozok + celvaltozo].iloc[test_index]\n",
        "                              modelling(model,train_df,test_df,bemeno_valtozok,'nmAr')\n",
        "                              rmse, mean_absolute_error, mape, prom_ratio_ret = eval_function(model,test_df,'tipp','nmAr')\n",
        "                              if rmse < best_rmse[0]:\n",
        "                                  best_rmse = [rmse, bemeno_valtozok, model, len(results)]\n",
        "                              if mean_absolute_error < best_mae[0]:\n",
        "                                  best_mae = [mean_absolute_error, bemeno_valtozok, model, len(results)]\n",
        "                              if mape < best_mape[0]:\n",
        "                                  best_mape = [mape, bemeno_valtozok, model, len(results)]\n",
        "                              results.append([rmse, mean_absolute_error, mape, prom_ratio_ret])"
      ],
      "metadata": {
        "colab": {
          "base_uri": "https://localhost:8080/"
        },
        "id": "Kquldj4fYje6",
        "outputId": "969ae496-75a4-4007-e4f0-031e61b79a25"
      },
      "execution_count": null,
      "outputs": [
        {
          "output_type": "stream",
          "name": "stdout",
          "text": [
            "\n",
            "--------------------------------\n",
            "LinearRegression()\n",
            "RMSE 106880.83102978185\n",
            "MAE: 86265.41689126968\n",
            "MAPE: 0.27904896374774457\n",
            "Ratio of promising results 0.45689026451073517\n",
            "\n",
            "--------------------------------\n",
            "LinearRegression()\n",
            "RMSE 86690.68355767078\n",
            "MAE: 61008.56217081369\n",
            "MAPE: 0.15529862513508316\n",
            "Ratio of promising results 0.3305761602362275\n",
            "\n",
            "--------------------------------\n",
            "LinearRegression()\n",
            "RMSE 108432.99247106782\n",
            "MAE: 78601.83084758082\n",
            "MAPE: 0.16756647859056675\n",
            "Ratio of promising results 0.120535078981073\n",
            "\n",
            "--------------------------------\n",
            "LinearRegression()\n",
            "RMSE 107180.40052923185\n",
            "MAE: 86344.8754468276\n",
            "MAPE: 0.2800793568664829\n",
            "Ratio of promising results 0.44929469733354677\n",
            "\n",
            "--------------------------------\n",
            "LinearRegression()\n",
            "RMSE 87643.89428368791\n",
            "MAE: 62117.289486122005\n",
            "MAPE: 0.15888343518283699\n",
            "Ratio of promising results 0.3289930092320828\n",
            "\n",
            "--------------------------------\n",
            "LinearRegression()\n",
            "RMSE 108200.28201229275\n",
            "MAE: 78838.64546366961\n",
            "MAPE: 0.16872466357617652\n",
            "Ratio of promising results 0.125\n",
            "\n",
            "--------------------------------\n",
            "GradientBoostingRegressor(max_depth=4, random_state=42)\n",
            "RMSE 102259.74227530543\n",
            "MAE: 81554.43346780889\n",
            "MAPE: 0.2642331300368069\n",
            "Ratio of promising results 0.4992440009249871\n",
            "\n",
            "--------------------------------\n",
            "GradientBoostingRegressor(max_depth=4, random_state=42)\n",
            "RMSE 80161.99642068383\n",
            "MAE: 54957.86232267689\n",
            "MAPE: 0.13755402855932441\n",
            "Ratio of promising results 0.33671309390397924\n",
            "\n",
            "--------------------------------\n",
            "GradientBoostingRegressor(max_depth=4, random_state=42)\n",
            "RMSE 103738.07155362683\n",
            "MAE: 75002.42749172218\n",
            "MAPE: 0.15706128954067192\n",
            "Ratio of promising results 0.0950441155542906\n",
            "\n",
            "--------------------------------\n",
            "GradientBoostingRegressor(max_depth=4, random_state=42)\n",
            "RMSE 100499.56723250372\n",
            "MAE: 80443.97806599643\n",
            "MAPE: 0.2606087637229398\n",
            "Ratio of promising results 0.5080313784086664\n",
            "\n",
            "--------------------------------\n",
            "GradientBoostingRegressor(max_depth=4, random_state=42)\n",
            "RMSE 78000.35560977571\n",
            "MAE: 53445.26900475\n",
            "MAPE: 0.13401889090244665\n",
            "Ratio of promising results 0.33356458010921963\n",
            "\n",
            "--------------------------------\n",
            "GradientBoostingRegressor(max_depth=4, random_state=42)\n",
            "RMSE 102360.55556209112\n",
            "MAE: 74365.83690808741\n",
            "MAPE: 0.15591365215278902\n",
            "Ratio of promising results 0.09306958872918741\n",
            "\n",
            "--------------------------------\n",
            "MLPRegressor(hidden_layer_sizes=(50, 10), learning_rate='adaptive',\n",
            "             max_iter=1000, random_state=42)\n",
            "RMSE 93608.61996670555\n",
            "MAE: 71949.18348015068\n",
            "MAPE: 0.22820786169966467\n",
            "Ratio of promising results 0.4383015813721828\n",
            "\n",
            "--------------------------------\n",
            "MLPRegressor(hidden_layer_sizes=(50, 10), learning_rate='adaptive',\n",
            "             max_iter=1000, random_state=42)\n",
            "RMSE 90353.00963298685\n",
            "MAE: 65063.47218074039\n",
            "MAPE: 0.16820316889732045\n",
            "Ratio of promising results 0.37579379902876353\n",
            "\n",
            "--------------------------------\n",
            "MLPRegressor(hidden_layer_sizes=(50, 10), learning_rate='adaptive',\n",
            "             max_iter=1000, random_state=42)\n",
            "RMSE 133411.10509734898\n",
            "MAE: 101398.45428026193\n",
            "MAPE: 0.21054863790018982\n",
            "Ratio of promising results 0.05678098761918315\n",
            "\n",
            "--------------------------------\n",
            "MLPRegressor(hidden_layer_sizes=(50, 10), learning_rate='adaptive',\n",
            "             max_iter=1000, random_state=42)\n",
            "RMSE 92447.22346796564\n",
            "MAE: 71250.38693082947\n",
            "MAPE: 0.22768060185530897\n",
            "Ratio of promising results 0.45288791646654925\n",
            "\n",
            "--------------------------------\n",
            "MLPRegressor(hidden_layer_sizes=(50, 10), learning_rate='adaptive',\n",
            "             max_iter=1000, random_state=42)\n",
            "RMSE 96191.06857276523\n",
            "MAE: 65958.4973574235\n",
            "MAPE: 0.15636782802226498\n",
            "Ratio of promising results 0.23878897842289698\n",
            "\n",
            "--------------------------------\n",
            "MLPRegressor(hidden_layer_sizes=(50, 10), learning_rate='adaptive',\n",
            "             max_iter=1000, random_state=42)\n",
            "RMSE 107011.9778816518\n",
            "MAE: 77231.55106394172\n",
            "MAPE: 0.16336990192455839\n",
            "Ratio of promising results 0.13433897822683932\n"
          ]
        }
      ]
    },
    {
      "cell_type": "code",
      "source": [
        "with open('best_mae.txt', 'w') as file:\n",
        "    for value in best_mae:\n",
        "        file.write(f\"{value}\\n\")\n",
        "\n",
        "best_mae"
      ],
      "metadata": {
        "colab": {
          "base_uri": "https://localhost:8080/"
        },
        "id": "GJRPP08zeQ0i",
        "outputId": "2302ab27-54be-455d-ee70-81bf14f9ad4c"
      },
      "execution_count": null,
      "outputs": [
        {
          "output_type": "execute_result",
          "data": {
            "text/plain": [
              "[53445.26900475,\n",
              " ['room_cnt',\n",
              "  'small_room_cnt',\n",
              "  'property_area',\n",
              "  'balcony_area',\n",
              "  'atlag_nmAr',\n",
              "  'postcode',\n",
              "  'orientation',\n",
              "  'heat__central',\n",
              "  'heat__central_meter',\n",
              "  'heat__convection_gas',\n",
              "  'heat__district_heat',\n",
              "  'heat__electric',\n",
              "  'heat__fan_coil',\n",
              "  'heat__gas_furnace',\n",
              "  'heat__gas_furnace_circulation',\n",
              "  'heat__gas_solar',\n",
              "  'heat__other',\n",
              "  'heat__tile_stove',\n",
              "  'property_condition_type',\n",
              "  'panel_flag',\n",
              "  'elevator_type',\n",
              "  'garden_access',\n",
              "  'building_floor_count'],\n",
              " GradientBoostingRegressor(max_depth=4, random_state=42),\n",
              " 1]"
            ]
          },
          "metadata": {},
          "execution_count": 498
        }
      ]
    },
    {
      "cell_type": "code",
      "source": [
        "with open('best_rmse.txt', 'w') as file:\n",
        "    for value in best_rmse:\n",
        "        file.write(f\"{value}\\n\")\n",
        "\n",
        "best_rmse"
      ],
      "metadata": {
        "colab": {
          "base_uri": "https://localhost:8080/"
        },
        "id": "y8fL27tej6GW",
        "outputId": "a03abcd0-a99b-4c48-c747-328ca69f01b0"
      },
      "execution_count": null,
      "outputs": [
        {
          "output_type": "execute_result",
          "data": {
            "text/plain": [
              "[78000.35560977571,\n",
              " ['room_cnt',\n",
              "  'small_room_cnt',\n",
              "  'property_area',\n",
              "  'balcony_area',\n",
              "  'atlag_nmAr',\n",
              "  'postcode',\n",
              "  'orientation',\n",
              "  'heat__central',\n",
              "  'heat__central_meter',\n",
              "  'heat__convection_gas',\n",
              "  'heat__district_heat',\n",
              "  'heat__electric',\n",
              "  'heat__fan_coil',\n",
              "  'heat__gas_furnace',\n",
              "  'heat__gas_furnace_circulation',\n",
              "  'heat__gas_solar',\n",
              "  'heat__other',\n",
              "  'heat__tile_stove',\n",
              "  'property_condition_type',\n",
              "  'panel_flag',\n",
              "  'elevator_type',\n",
              "  'garden_access',\n",
              "  'building_floor_count'],\n",
              " GradientBoostingRegressor(max_depth=4, random_state=42),\n",
              " 1]"
            ]
          },
          "metadata": {},
          "execution_count": 497
        }
      ]
    },
    {
      "cell_type": "code",
      "source": [
        "with open('best_mape.txt', 'w') as file:\n",
        "    for value in best_mape:\n",
        "        file.write(f\"{value}\\n\")\n",
        "\n",
        "best_mape"
      ],
      "metadata": {
        "colab": {
          "base_uri": "https://localhost:8080/"
        },
        "id": "A_am6HdVh1Fs",
        "outputId": "3309812c-ed6f-4523-ee6e-58119c08f081"
      },
      "execution_count": null,
      "outputs": [
        {
          "output_type": "execute_result",
          "data": {
            "text/plain": [
              "[0.13401889090244665,\n",
              " ['room_cnt',\n",
              "  'small_room_cnt',\n",
              "  'property_area',\n",
              "  'balcony_area',\n",
              "  'atlag_nmAr',\n",
              "  'postcode',\n",
              "  'orientation',\n",
              "  'heat__central',\n",
              "  'heat__central_meter',\n",
              "  'heat__convection_gas',\n",
              "  'heat__district_heat',\n",
              "  'heat__electric',\n",
              "  'heat__fan_coil',\n",
              "  'heat__gas_furnace',\n",
              "  'heat__gas_furnace_circulation',\n",
              "  'heat__gas_solar',\n",
              "  'heat__other',\n",
              "  'heat__tile_stove',\n",
              "  'property_condition_type',\n",
              "  'panel_flag',\n",
              "  'elevator_type',\n",
              "  'garden_access',\n",
              "  'building_floor_count'],\n",
              " GradientBoostingRegressor(max_depth=4, random_state=42),\n",
              " 1]"
            ]
          },
          "metadata": {},
          "execution_count": 496
        }
      ]
    },
    {
      "cell_type": "markdown",
      "source": [
        "##Összefoglalás\n",
        "Mindhárom mérőszámara a GradientBoostingRegressor teljesített a legjobban. A generált irányítószámok jobban teljesítettek, mint a kerület számokból készített dummy one hot kódolás. Teljesen egyértelmű, hogy még lehetne javítani az eredményeken, illetve érdemes lenne vizualizálni az eredményeket is."
      ],
      "metadata": {
        "id": "754SN_a0riJD"
      }
    }
  ]
}